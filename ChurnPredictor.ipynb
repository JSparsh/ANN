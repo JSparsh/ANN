{
 "cells": [
  {
   "cell_type": "code",
   "execution_count": 42,
   "metadata": {},
   "outputs": [
    {
     "data": {
      "text/html": [
       "<div>\n",
       "<style scoped>\n",
       "    .dataframe tbody tr th:only-of-type {\n",
       "        vertical-align: middle;\n",
       "    }\n",
       "\n",
       "    .dataframe tbody tr th {\n",
       "        vertical-align: top;\n",
       "    }\n",
       "\n",
       "    .dataframe thead th {\n",
       "        text-align: right;\n",
       "    }\n",
       "</style>\n",
       "<table border=\"1\" class=\"dataframe\">\n",
       "  <thead>\n",
       "    <tr style=\"text-align: right;\">\n",
       "      <th></th>\n",
       "      <th>RowNumber</th>\n",
       "      <th>CustomerId</th>\n",
       "      <th>Surname</th>\n",
       "      <th>CreditScore</th>\n",
       "      <th>Geography</th>\n",
       "      <th>Gender</th>\n",
       "      <th>Age</th>\n",
       "      <th>Tenure</th>\n",
       "      <th>Balance</th>\n",
       "      <th>NumOfProducts</th>\n",
       "      <th>HasCrCard</th>\n",
       "      <th>IsActiveMember</th>\n",
       "      <th>EstimatedSalary</th>\n",
       "      <th>Exited</th>\n",
       "    </tr>\n",
       "  </thead>\n",
       "  <tbody>\n",
       "    <tr>\n",
       "      <th>0</th>\n",
       "      <td>1</td>\n",
       "      <td>15634602</td>\n",
       "      <td>Hargrave</td>\n",
       "      <td>619</td>\n",
       "      <td>France</td>\n",
       "      <td>Female</td>\n",
       "      <td>42</td>\n",
       "      <td>2</td>\n",
       "      <td>0.00</td>\n",
       "      <td>1</td>\n",
       "      <td>1</td>\n",
       "      <td>1</td>\n",
       "      <td>101348.88</td>\n",
       "      <td>1</td>\n",
       "    </tr>\n",
       "    <tr>\n",
       "      <th>1</th>\n",
       "      <td>2</td>\n",
       "      <td>15647311</td>\n",
       "      <td>Hill</td>\n",
       "      <td>608</td>\n",
       "      <td>Spain</td>\n",
       "      <td>Female</td>\n",
       "      <td>41</td>\n",
       "      <td>1</td>\n",
       "      <td>83807.86</td>\n",
       "      <td>1</td>\n",
       "      <td>0</td>\n",
       "      <td>1</td>\n",
       "      <td>112542.58</td>\n",
       "      <td>0</td>\n",
       "    </tr>\n",
       "    <tr>\n",
       "      <th>2</th>\n",
       "      <td>3</td>\n",
       "      <td>15619304</td>\n",
       "      <td>Onio</td>\n",
       "      <td>502</td>\n",
       "      <td>France</td>\n",
       "      <td>Female</td>\n",
       "      <td>42</td>\n",
       "      <td>8</td>\n",
       "      <td>159660.80</td>\n",
       "      <td>3</td>\n",
       "      <td>1</td>\n",
       "      <td>0</td>\n",
       "      <td>113931.57</td>\n",
       "      <td>1</td>\n",
       "    </tr>\n",
       "    <tr>\n",
       "      <th>3</th>\n",
       "      <td>4</td>\n",
       "      <td>15701354</td>\n",
       "      <td>Boni</td>\n",
       "      <td>699</td>\n",
       "      <td>France</td>\n",
       "      <td>Female</td>\n",
       "      <td>39</td>\n",
       "      <td>1</td>\n",
       "      <td>0.00</td>\n",
       "      <td>2</td>\n",
       "      <td>0</td>\n",
       "      <td>0</td>\n",
       "      <td>93826.63</td>\n",
       "      <td>0</td>\n",
       "    </tr>\n",
       "    <tr>\n",
       "      <th>4</th>\n",
       "      <td>5</td>\n",
       "      <td>15737888</td>\n",
       "      <td>Mitchell</td>\n",
       "      <td>850</td>\n",
       "      <td>Spain</td>\n",
       "      <td>Female</td>\n",
       "      <td>43</td>\n",
       "      <td>2</td>\n",
       "      <td>125510.82</td>\n",
       "      <td>1</td>\n",
       "      <td>1</td>\n",
       "      <td>1</td>\n",
       "      <td>79084.10</td>\n",
       "      <td>0</td>\n",
       "    </tr>\n",
       "  </tbody>\n",
       "</table>\n",
       "</div>"
      ],
      "text/plain": [
       "   RowNumber  CustomerId   Surname  CreditScore Geography  Gender  Age  \\\n",
       "0          1    15634602  Hargrave          619    France  Female   42   \n",
       "1          2    15647311      Hill          608     Spain  Female   41   \n",
       "2          3    15619304      Onio          502    France  Female   42   \n",
       "3          4    15701354      Boni          699    France  Female   39   \n",
       "4          5    15737888  Mitchell          850     Spain  Female   43   \n",
       "\n",
       "   Tenure    Balance  NumOfProducts  HasCrCard  IsActiveMember  \\\n",
       "0       2       0.00              1          1               1   \n",
       "1       1   83807.86              1          0               1   \n",
       "2       8  159660.80              3          1               0   \n",
       "3       1       0.00              2          0               0   \n",
       "4       2  125510.82              1          1               1   \n",
       "\n",
       "   EstimatedSalary  Exited  \n",
       "0        101348.88       1  \n",
       "1        112542.58       0  \n",
       "2        113931.57       1  \n",
       "3         93826.63       0  \n",
       "4         79084.10       0  "
      ]
     },
     "execution_count": 42,
     "metadata": {},
     "output_type": "execute_result"
    }
   ],
   "source": [
    "import pandas as pd\n",
    "# Importing the dataset\n",
    "dataset = pd.read_csv('churn_modelling.csv')\n",
    "X = dataset.iloc[:, 3:13]\n",
    "y = dataset.iloc[:, 13]\n",
    "#Create dummy variables\n",
    "dataset.head()\n"
   ]
  },
  {
   "cell_type": "code",
   "execution_count": 43,
   "metadata": {},
   "outputs": [
    {
     "data": {
      "text/plain": [
       "RowNumber          0\n",
       "CustomerId         0\n",
       "Surname            0\n",
       "CreditScore        0\n",
       "Geography          0\n",
       "Gender             0\n",
       "Age                0\n",
       "Tenure             0\n",
       "Balance            0\n",
       "NumOfProducts      0\n",
       "HasCrCard          0\n",
       "IsActiveMember     0\n",
       "EstimatedSalary    0\n",
       "Exited             0\n",
       "dtype: int64"
      ]
     },
     "execution_count": 43,
     "metadata": {},
     "output_type": "execute_result"
    }
   ],
   "source": [
    "dataset.isnull().sum()"
   ]
  },
  {
   "cell_type": "code",
   "execution_count": 44,
   "metadata": {},
   "outputs": [
    {
     "data": {
      "text/html": [
       "<div>\n",
       "<style scoped>\n",
       "    .dataframe tbody tr th:only-of-type {\n",
       "        vertical-align: middle;\n",
       "    }\n",
       "\n",
       "    .dataframe tbody tr th {\n",
       "        vertical-align: top;\n",
       "    }\n",
       "\n",
       "    .dataframe thead th {\n",
       "        text-align: right;\n",
       "    }\n",
       "</style>\n",
       "<table border=\"1\" class=\"dataframe\">\n",
       "  <thead>\n",
       "    <tr style=\"text-align: right;\">\n",
       "      <th></th>\n",
       "      <th>CreditScore</th>\n",
       "      <th>Geography</th>\n",
       "      <th>Gender</th>\n",
       "      <th>Age</th>\n",
       "      <th>Tenure</th>\n",
       "      <th>Balance</th>\n",
       "      <th>NumOfProducts</th>\n",
       "      <th>HasCrCard</th>\n",
       "      <th>IsActiveMember</th>\n",
       "      <th>EstimatedSalary</th>\n",
       "    </tr>\n",
       "  </thead>\n",
       "  <tbody>\n",
       "    <tr>\n",
       "      <th>0</th>\n",
       "      <td>619</td>\n",
       "      <td>France</td>\n",
       "      <td>Female</td>\n",
       "      <td>42</td>\n",
       "      <td>2</td>\n",
       "      <td>0.00</td>\n",
       "      <td>1</td>\n",
       "      <td>1</td>\n",
       "      <td>1</td>\n",
       "      <td>101348.88</td>\n",
       "    </tr>\n",
       "    <tr>\n",
       "      <th>1</th>\n",
       "      <td>608</td>\n",
       "      <td>Spain</td>\n",
       "      <td>Female</td>\n",
       "      <td>41</td>\n",
       "      <td>1</td>\n",
       "      <td>83807.86</td>\n",
       "      <td>1</td>\n",
       "      <td>0</td>\n",
       "      <td>1</td>\n",
       "      <td>112542.58</td>\n",
       "    </tr>\n",
       "    <tr>\n",
       "      <th>2</th>\n",
       "      <td>502</td>\n",
       "      <td>France</td>\n",
       "      <td>Female</td>\n",
       "      <td>42</td>\n",
       "      <td>8</td>\n",
       "      <td>159660.80</td>\n",
       "      <td>3</td>\n",
       "      <td>1</td>\n",
       "      <td>0</td>\n",
       "      <td>113931.57</td>\n",
       "    </tr>\n",
       "    <tr>\n",
       "      <th>3</th>\n",
       "      <td>699</td>\n",
       "      <td>France</td>\n",
       "      <td>Female</td>\n",
       "      <td>39</td>\n",
       "      <td>1</td>\n",
       "      <td>0.00</td>\n",
       "      <td>2</td>\n",
       "      <td>0</td>\n",
       "      <td>0</td>\n",
       "      <td>93826.63</td>\n",
       "    </tr>\n",
       "    <tr>\n",
       "      <th>4</th>\n",
       "      <td>850</td>\n",
       "      <td>Spain</td>\n",
       "      <td>Female</td>\n",
       "      <td>43</td>\n",
       "      <td>2</td>\n",
       "      <td>125510.82</td>\n",
       "      <td>1</td>\n",
       "      <td>1</td>\n",
       "      <td>1</td>\n",
       "      <td>79084.10</td>\n",
       "    </tr>\n",
       "  </tbody>\n",
       "</table>\n",
       "</div>"
      ],
      "text/plain": [
       "   CreditScore Geography  Gender  Age  Tenure    Balance  NumOfProducts  \\\n",
       "0          619    France  Female   42       2       0.00              1   \n",
       "1          608     Spain  Female   41       1   83807.86              1   \n",
       "2          502    France  Female   42       8  159660.80              3   \n",
       "3          699    France  Female   39       1       0.00              2   \n",
       "4          850     Spain  Female   43       2  125510.82              1   \n",
       "\n",
       "   HasCrCard  IsActiveMember  EstimatedSalary  \n",
       "0          1               1        101348.88  \n",
       "1          0               1        112542.58  \n",
       "2          1               0        113931.57  \n",
       "3          0               0         93826.63  \n",
       "4          1               1         79084.10  "
      ]
     },
     "execution_count": 44,
     "metadata": {},
     "output_type": "execute_result"
    }
   ],
   "source": [
    "X.head()"
   ]
  },
  {
   "cell_type": "code",
   "execution_count": 45,
   "metadata": {},
   "outputs": [
    {
     "data": {
      "text/plain": [
       "0    1\n",
       "1    0\n",
       "2    1\n",
       "3    0\n",
       "4    0\n",
       "Name: Exited, dtype: int64"
      ]
     },
     "execution_count": 45,
     "metadata": {},
     "output_type": "execute_result"
    }
   ],
   "source": [
    "y.head()"
   ]
  },
  {
   "cell_type": "code",
   "execution_count": 47,
   "metadata": {},
   "outputs": [],
   "source": [
    "geography=pd.get_dummies(X[\"Geography\"],drop_first=True)\n",
    "gender=pd.get_dummies(X['Gender'],drop_first=True)"
   ]
  },
  {
   "cell_type": "code",
   "execution_count": 14,
   "metadata": {},
   "outputs": [
    {
     "data": {
      "text/html": [
       "<div>\n",
       "<style scoped>\n",
       "    .dataframe tbody tr th:only-of-type {\n",
       "        vertical-align: middle;\n",
       "    }\n",
       "\n",
       "    .dataframe tbody tr th {\n",
       "        vertical-align: top;\n",
       "    }\n",
       "\n",
       "    .dataframe thead th {\n",
       "        text-align: right;\n",
       "    }\n",
       "</style>\n",
       "<table border=\"1\" class=\"dataframe\">\n",
       "  <thead>\n",
       "    <tr style=\"text-align: right;\">\n",
       "      <th></th>\n",
       "      <th>Germany</th>\n",
       "      <th>Spain</th>\n",
       "    </tr>\n",
       "  </thead>\n",
       "  <tbody>\n",
       "    <tr>\n",
       "      <th>0</th>\n",
       "      <td>0</td>\n",
       "      <td>0</td>\n",
       "    </tr>\n",
       "    <tr>\n",
       "      <th>1</th>\n",
       "      <td>0</td>\n",
       "      <td>1</td>\n",
       "    </tr>\n",
       "    <tr>\n",
       "      <th>2</th>\n",
       "      <td>0</td>\n",
       "      <td>0</td>\n",
       "    </tr>\n",
       "    <tr>\n",
       "      <th>3</th>\n",
       "      <td>0</td>\n",
       "      <td>0</td>\n",
       "    </tr>\n",
       "    <tr>\n",
       "      <th>4</th>\n",
       "      <td>0</td>\n",
       "      <td>1</td>\n",
       "    </tr>\n",
       "    <tr>\n",
       "      <th>...</th>\n",
       "      <td>...</td>\n",
       "      <td>...</td>\n",
       "    </tr>\n",
       "    <tr>\n",
       "      <th>9995</th>\n",
       "      <td>0</td>\n",
       "      <td>0</td>\n",
       "    </tr>\n",
       "    <tr>\n",
       "      <th>9996</th>\n",
       "      <td>0</td>\n",
       "      <td>0</td>\n",
       "    </tr>\n",
       "    <tr>\n",
       "      <th>9997</th>\n",
       "      <td>0</td>\n",
       "      <td>0</td>\n",
       "    </tr>\n",
       "    <tr>\n",
       "      <th>9998</th>\n",
       "      <td>1</td>\n",
       "      <td>0</td>\n",
       "    </tr>\n",
       "    <tr>\n",
       "      <th>9999</th>\n",
       "      <td>0</td>\n",
       "      <td>0</td>\n",
       "    </tr>\n",
       "  </tbody>\n",
       "</table>\n",
       "<p>10000 rows × 2 columns</p>\n",
       "</div>"
      ],
      "text/plain": [
       "      Germany  Spain\n",
       "0           0      0\n",
       "1           0      1\n",
       "2           0      0\n",
       "3           0      0\n",
       "4           0      1\n",
       "...       ...    ...\n",
       "9995        0      0\n",
       "9996        0      0\n",
       "9997        0      0\n",
       "9998        1      0\n",
       "9999        0      0\n",
       "\n",
       "[10000 rows x 2 columns]"
      ]
     },
     "execution_count": 14,
     "metadata": {},
     "output_type": "execute_result"
    }
   ],
   "source": [
    "geography"
   ]
  },
  {
   "cell_type": "code",
   "execution_count": 48,
   "metadata": {},
   "outputs": [],
   "source": [
    "\n",
    "X=pd.concat([X,geography,gender],axis=1)\n",
    "\n",
    "## Drop Unnecessary columns\n",
    "X=X.drop(['Geography','Gender'],axis=1)"
   ]
  },
  {
   "cell_type": "code",
   "execution_count": 32,
   "metadata": {},
   "outputs": [
    {
     "data": {
      "text/plain": [
       "(10000, 14)"
      ]
     },
     "execution_count": 32,
     "metadata": {},
     "output_type": "execute_result"
    }
   ],
   "source": [
    "X.shape"
   ]
  },
  {
   "cell_type": "code",
   "execution_count": 33,
   "metadata": {},
   "outputs": [
    {
     "data": {
      "text/html": [
       "<div>\n",
       "<style scoped>\n",
       "    .dataframe tbody tr th:only-of-type {\n",
       "        vertical-align: middle;\n",
       "    }\n",
       "\n",
       "    .dataframe tbody tr th {\n",
       "        vertical-align: top;\n",
       "    }\n",
       "\n",
       "    .dataframe thead th {\n",
       "        text-align: right;\n",
       "    }\n",
       "</style>\n",
       "<table border=\"1\" class=\"dataframe\">\n",
       "  <thead>\n",
       "    <tr style=\"text-align: right;\">\n",
       "      <th></th>\n",
       "      <th>CreditScore</th>\n",
       "      <th>Age</th>\n",
       "      <th>Tenure</th>\n",
       "      <th>Balance</th>\n",
       "      <th>NumOfProducts</th>\n",
       "      <th>HasCrCard</th>\n",
       "      <th>IsActiveMember</th>\n",
       "      <th>EstimatedSalary</th>\n",
       "      <th>Germany</th>\n",
       "      <th>Spain</th>\n",
       "      <th>Male</th>\n",
       "      <th>Germany</th>\n",
       "      <th>Spain</th>\n",
       "      <th>Male</th>\n",
       "    </tr>\n",
       "  </thead>\n",
       "  <tbody>\n",
       "    <tr>\n",
       "      <th>0</th>\n",
       "      <td>619</td>\n",
       "      <td>42</td>\n",
       "      <td>2</td>\n",
       "      <td>0.00</td>\n",
       "      <td>1</td>\n",
       "      <td>1</td>\n",
       "      <td>1</td>\n",
       "      <td>101348.88</td>\n",
       "      <td>0</td>\n",
       "      <td>0</td>\n",
       "      <td>0</td>\n",
       "      <td>0</td>\n",
       "      <td>0</td>\n",
       "      <td>0</td>\n",
       "    </tr>\n",
       "    <tr>\n",
       "      <th>1</th>\n",
       "      <td>608</td>\n",
       "      <td>41</td>\n",
       "      <td>1</td>\n",
       "      <td>83807.86</td>\n",
       "      <td>1</td>\n",
       "      <td>0</td>\n",
       "      <td>1</td>\n",
       "      <td>112542.58</td>\n",
       "      <td>0</td>\n",
       "      <td>1</td>\n",
       "      <td>0</td>\n",
       "      <td>0</td>\n",
       "      <td>1</td>\n",
       "      <td>0</td>\n",
       "    </tr>\n",
       "    <tr>\n",
       "      <th>2</th>\n",
       "      <td>502</td>\n",
       "      <td>42</td>\n",
       "      <td>8</td>\n",
       "      <td>159660.80</td>\n",
       "      <td>3</td>\n",
       "      <td>1</td>\n",
       "      <td>0</td>\n",
       "      <td>113931.57</td>\n",
       "      <td>0</td>\n",
       "      <td>0</td>\n",
       "      <td>0</td>\n",
       "      <td>0</td>\n",
       "      <td>0</td>\n",
       "      <td>0</td>\n",
       "    </tr>\n",
       "    <tr>\n",
       "      <th>3</th>\n",
       "      <td>699</td>\n",
       "      <td>39</td>\n",
       "      <td>1</td>\n",
       "      <td>0.00</td>\n",
       "      <td>2</td>\n",
       "      <td>0</td>\n",
       "      <td>0</td>\n",
       "      <td>93826.63</td>\n",
       "      <td>0</td>\n",
       "      <td>0</td>\n",
       "      <td>0</td>\n",
       "      <td>0</td>\n",
       "      <td>0</td>\n",
       "      <td>0</td>\n",
       "    </tr>\n",
       "    <tr>\n",
       "      <th>4</th>\n",
       "      <td>850</td>\n",
       "      <td>43</td>\n",
       "      <td>2</td>\n",
       "      <td>125510.82</td>\n",
       "      <td>1</td>\n",
       "      <td>1</td>\n",
       "      <td>1</td>\n",
       "      <td>79084.10</td>\n",
       "      <td>0</td>\n",
       "      <td>1</td>\n",
       "      <td>0</td>\n",
       "      <td>0</td>\n",
       "      <td>1</td>\n",
       "      <td>0</td>\n",
       "    </tr>\n",
       "  </tbody>\n",
       "</table>\n",
       "</div>"
      ],
      "text/plain": [
       "   CreditScore  Age  Tenure    Balance  NumOfProducts  HasCrCard  \\\n",
       "0          619   42       2       0.00              1          1   \n",
       "1          608   41       1   83807.86              1          0   \n",
       "2          502   42       8  159660.80              3          1   \n",
       "3          699   39       1       0.00              2          0   \n",
       "4          850   43       2  125510.82              1          1   \n",
       "\n",
       "   IsActiveMember  EstimatedSalary  Germany  Spain  Male  Germany  Spain  Male  \n",
       "0               1        101348.88        0      0     0        0      0     0  \n",
       "1               1        112542.58        0      1     0        0      1     0  \n",
       "2               0        113931.57        0      0     0        0      0     0  \n",
       "3               0         93826.63        0      0     0        0      0     0  \n",
       "4               1         79084.10        0      1     0        0      1     0  "
      ]
     },
     "execution_count": 33,
     "metadata": {},
     "output_type": "execute_result"
    }
   ],
   "source": [
    "X.head()"
   ]
  },
  {
   "cell_type": "code",
   "execution_count": 49,
   "metadata": {},
   "outputs": [],
   "source": [
    "from sklearn.model_selection import train_test_split\n",
    "X_train, X_test, y_train, y_test = train_test_split(X, y, test_size = 0.2, random_state = 0)"
   ]
  },
  {
   "cell_type": "code",
   "execution_count": 50,
   "metadata": {},
   "outputs": [],
   "source": [
    "# Feature Scaling\n",
    "from sklearn.preprocessing import StandardScaler\n",
    "sc = StandardScaler()\n",
    "X_train = sc.fit_transform(X_train)\n",
    "X_test = sc.transform(X_test)"
   ]
  },
  {
   "cell_type": "code",
   "execution_count": 82,
   "metadata": {},
   "outputs": [],
   "source": [
    "def build_model(hp):\n",
    "    model = keras.Sequential()\n",
    "    for i in range(hp.Int('num_layers', 2, 20)):\n",
    "        model.add(layers.Dense(units=hp.Int('units_' + str(i),\n",
    "                                            min_value=32,\n",
    "                                            max_value=512,\n",
    "                                            step=32),\n",
    "                               activation='relu'))\n",
    "    model.add(layers.Dense(1, activation='sigmoid'))\n",
    "    model.compile(\n",
    "        optimizer=keras.optimizers.Adam(\n",
    "            hp.Choice('learning_rate', [1e-2, 1e-3, 1e-4])),\n",
    "        loss='binary_crossentropy',\n",
    "        metrics=['accuracy'])\n",
    "    return model"
   ]
  },
  {
   "cell_type": "code",
   "execution_count": 83,
   "metadata": {},
   "outputs": [],
   "source": [
    "from tensorflow import keras\n",
    "from tensorflow.keras import layers\n",
    "from kerastuner.tuners import RandomSearch\n",
    "tuner = RandomSearch(\n",
    "    build_model,\n",
    "    objective='val_accuracy',\n",
    "    max_trials=5,\n",
    "    executions_per_trial=3,\n",
    "    directory='Weights',\n",
    "    project_name='Churn')"
   ]
  },
  {
   "cell_type": "code",
   "execution_count": 84,
   "metadata": {},
   "outputs": [
    {
     "data": {
      "text/html": [
       "<span style=\"color:#4527A0\"><h1 style=\"font-size:18px\">Search space summary</h1></span>"
      ],
      "text/plain": [
       "<IPython.core.display.HTML object>"
      ]
     },
     "metadata": {},
     "output_type": "display_data"
    },
    {
     "data": {
      "text/html": [
       "<span style=\"color:cyan\"> |-Default search space size: 4</span>"
      ],
      "text/plain": [
       "<IPython.core.display.HTML object>"
      ]
     },
     "metadata": {},
     "output_type": "display_data"
    },
    {
     "data": {
      "text/html": [
       "<span style=\"color:#7E57C2\"><h2 style=\"font-size:16px\">num_layers (Int)</h2></span>"
      ],
      "text/plain": [
       "<IPython.core.display.HTML object>"
      ]
     },
     "metadata": {},
     "output_type": "display_data"
    },
    {
     "data": {
      "text/html": [
       "<span style=\"color:cyan\"> |-default: None</span>"
      ],
      "text/plain": [
       "<IPython.core.display.HTML object>"
      ]
     },
     "metadata": {},
     "output_type": "display_data"
    },
    {
     "data": {
      "text/html": [
       "<span style=\"color:blue\"> |-max_value: 20</span>"
      ],
      "text/plain": [
       "<IPython.core.display.HTML object>"
      ]
     },
     "metadata": {},
     "output_type": "display_data"
    },
    {
     "data": {
      "text/html": [
       "<span style=\"color:cyan\"> |-min_value: 2</span>"
      ],
      "text/plain": [
       "<IPython.core.display.HTML object>"
      ]
     },
     "metadata": {},
     "output_type": "display_data"
    },
    {
     "data": {
      "text/html": [
       "<span style=\"color:blue\"> |-sampling: None</span>"
      ],
      "text/plain": [
       "<IPython.core.display.HTML object>"
      ]
     },
     "metadata": {},
     "output_type": "display_data"
    },
    {
     "data": {
      "text/html": [
       "<span style=\"color:cyan\"> |-step: 1</span>"
      ],
      "text/plain": [
       "<IPython.core.display.HTML object>"
      ]
     },
     "metadata": {},
     "output_type": "display_data"
    },
    {
     "data": {
      "text/html": [
       "<span style=\"color:#7E57C2\"><h2 style=\"font-size:16px\">units_0 (Int)</h2></span>"
      ],
      "text/plain": [
       "<IPython.core.display.HTML object>"
      ]
     },
     "metadata": {},
     "output_type": "display_data"
    },
    {
     "data": {
      "text/html": [
       "<span style=\"color:cyan\"> |-default: None</span>"
      ],
      "text/plain": [
       "<IPython.core.display.HTML object>"
      ]
     },
     "metadata": {},
     "output_type": "display_data"
    },
    {
     "data": {
      "text/html": [
       "<span style=\"color:blue\"> |-max_value: 512</span>"
      ],
      "text/plain": [
       "<IPython.core.display.HTML object>"
      ]
     },
     "metadata": {},
     "output_type": "display_data"
    },
    {
     "data": {
      "text/html": [
       "<span style=\"color:cyan\"> |-min_value: 32</span>"
      ],
      "text/plain": [
       "<IPython.core.display.HTML object>"
      ]
     },
     "metadata": {},
     "output_type": "display_data"
    },
    {
     "data": {
      "text/html": [
       "<span style=\"color:blue\"> |-sampling: None</span>"
      ],
      "text/plain": [
       "<IPython.core.display.HTML object>"
      ]
     },
     "metadata": {},
     "output_type": "display_data"
    },
    {
     "data": {
      "text/html": [
       "<span style=\"color:cyan\"> |-step: 32</span>"
      ],
      "text/plain": [
       "<IPython.core.display.HTML object>"
      ]
     },
     "metadata": {},
     "output_type": "display_data"
    },
    {
     "data": {
      "text/html": [
       "<span style=\"color:#7E57C2\"><h2 style=\"font-size:16px\">units_1 (Int)</h2></span>"
      ],
      "text/plain": [
       "<IPython.core.display.HTML object>"
      ]
     },
     "metadata": {},
     "output_type": "display_data"
    },
    {
     "data": {
      "text/html": [
       "<span style=\"color:cyan\"> |-default: None</span>"
      ],
      "text/plain": [
       "<IPython.core.display.HTML object>"
      ]
     },
     "metadata": {},
     "output_type": "display_data"
    },
    {
     "data": {
      "text/html": [
       "<span style=\"color:blue\"> |-max_value: 512</span>"
      ],
      "text/plain": [
       "<IPython.core.display.HTML object>"
      ]
     },
     "metadata": {},
     "output_type": "display_data"
    },
    {
     "data": {
      "text/html": [
       "<span style=\"color:cyan\"> |-min_value: 32</span>"
      ],
      "text/plain": [
       "<IPython.core.display.HTML object>"
      ]
     },
     "metadata": {},
     "output_type": "display_data"
    },
    {
     "data": {
      "text/html": [
       "<span style=\"color:blue\"> |-sampling: None</span>"
      ],
      "text/plain": [
       "<IPython.core.display.HTML object>"
      ]
     },
     "metadata": {},
     "output_type": "display_data"
    },
    {
     "data": {
      "text/html": [
       "<span style=\"color:cyan\"> |-step: 32</span>"
      ],
      "text/plain": [
       "<IPython.core.display.HTML object>"
      ]
     },
     "metadata": {},
     "output_type": "display_data"
    },
    {
     "data": {
      "text/html": [
       "<span style=\"color:#7E57C2\"><h2 style=\"font-size:16px\">learning_rate (Choice)</h2></span>"
      ],
      "text/plain": [
       "<IPython.core.display.HTML object>"
      ]
     },
     "metadata": {},
     "output_type": "display_data"
    },
    {
     "data": {
      "text/html": [
       "<span style=\"color:cyan\"> |-default: 0.01</span>"
      ],
      "text/plain": [
       "<IPython.core.display.HTML object>"
      ]
     },
     "metadata": {},
     "output_type": "display_data"
    },
    {
     "data": {
      "text/html": [
       "<span style=\"color:blue\"> |-ordered: True</span>"
      ],
      "text/plain": [
       "<IPython.core.display.HTML object>"
      ]
     },
     "metadata": {},
     "output_type": "display_data"
    },
    {
     "data": {
      "text/html": [
       "<span style=\"color:cyan\"> |-values: [0.01, 0.001, 0.0001]</span>"
      ],
      "text/plain": [
       "<IPython.core.display.HTML object>"
      ]
     },
     "metadata": {},
     "output_type": "display_data"
    }
   ],
   "source": [
    "tuner.search_space_summary()"
   ]
  },
  {
   "cell_type": "code",
   "execution_count": 85,
   "metadata": {},
   "outputs": [
    {
     "name": "stdout",
     "output_type": "stream",
     "text": [
      "Epoch 1/5\n",
      "250/250 [==============================] - ETA: 0s - loss: 0.6933 - accuracy: 0.37 - ETA: 0s - loss: 0.5591 - accuracy: 0.78 - ETA: 0s - loss: 0.5078 - accuracy: 0.79 - ETA: 0s - loss: 0.4766 - accuracy: 0.79 - ETA: 0s - loss: 0.4604 - accuracy: 0.80 - 0s 2ms/step - loss: 0.4544 - accuracy: 0.8039 - val_loss: 0.3844 - val_accuracy: 0.8500\n",
      "Epoch 2/5\n",
      "250/250 [==============================] - ETA: 0s - loss: 0.4797 - accuracy: 0.78 - ETA: 0s - loss: 0.3907 - accuracy: 0.83 - ETA: 0s - loss: 0.3825 - accuracy: 0.84 - ETA: 0s - loss: 0.3733 - accuracy: 0.84 - ETA: 0s - loss: 0.3763 - accuracy: 0.84 - 0s 1ms/step - loss: 0.3746 - accuracy: 0.8454 - val_loss: 0.3703 - val_accuracy: 0.8400\n",
      "Epoch 3/5\n",
      "250/250 [==============================] - ETA: 0s - loss: 0.4217 - accuracy: 0.81 - ETA: 0s - loss: 0.3702 - accuracy: 0.84 - ETA: 0s - loss: 0.3532 - accuracy: 0.85 - ETA: 0s - loss: 0.3539 - accuracy: 0.85 - ETA: 0s - loss: 0.3578 - accuracy: 0.85 - 0s 1ms/step - loss: 0.3543 - accuracy: 0.8589 - val_loss: 0.3549 - val_accuracy: 0.8560\n",
      "Epoch 4/5\n",
      "250/250 [==============================] - ETA: 0s - loss: 0.3077 - accuracy: 0.84 - ETA: 0s - loss: 0.3382 - accuracy: 0.86 - ETA: 0s - loss: 0.3470 - accuracy: 0.85 - ETA: 0s - loss: 0.3448 - accuracy: 0.85 - ETA: 0s - loss: 0.3461 - accuracy: 0.85 - ETA: 0s - loss: 0.3475 - accuracy: 0.85 - ETA: 0s - loss: 0.3461 - accuracy: 0.86 - 0s 2ms/step - loss: 0.3445 - accuracy: 0.8614 - val_loss: 0.3471 - val_accuracy: 0.8570\n",
      "Epoch 5/5\n",
      "250/250 [==============================] - ETA: 0s - loss: 0.3953 - accuracy: 0.84 - ETA: 0s - loss: 0.3281 - accuracy: 0.86 - ETA: 0s - loss: 0.3167 - accuracy: 0.87 - ETA: 0s - loss: 0.3389 - accuracy: 0.86 - ETA: 0s - loss: 0.3369 - accuracy: 0.86 - ETA: 0s - loss: 0.3412 - accuracy: 0.85 - ETA: 0s - loss: 0.3395 - accuracy: 0.86 - 0s 2ms/step - loss: 0.3389 - accuracy: 0.8620 - val_loss: 0.3428 - val_accuracy: 0.8510\n",
      "Epoch 1/5\n",
      "244/250 [============================>.] - ETA: 0s - loss: 0.6949 - accuracy: 0.15 - ETA: 0s - loss: 0.5435 - accuracy: 0.78 - ETA: 0s - loss: 0.4850 - accuracy: 0.79 - ETA: 0s - loss: 0.4763 - accuracy: 0.79 - ETA: 0s - loss: 0.4669 - accuracy: 0.79 - ETA: 0s - loss: 0.4556 - accuracy: 0.8035WARNING:tensorflow:Callbacks method `on_test_batch_end` is slow compared to the batch time (batch time: 0.0000s vs `on_test_batch_end` time: 0.0010s). Check your callbacks.\n",
      "250/250 [==============================] - 0s 2ms/step - loss: 0.4539 - accuracy: 0.8036 - val_loss: 0.3815 - val_accuracy: 0.8415\n",
      "Epoch 2/5\n",
      "250/250 [==============================] - ETA: 0s - loss: 0.4469 - accuracy: 0.84 - ETA: 0s - loss: 0.3613 - accuracy: 0.85 - ETA: 0s - loss: 0.3751 - accuracy: 0.84 - ETA: 0s - loss: 0.3735 - accuracy: 0.84 - ETA: 0s - loss: 0.3730 - accuracy: 0.84 - ETA: 0s - loss: 0.3722 - accuracy: 0.84 - 0s 1ms/step - loss: 0.3721 - accuracy: 0.8468 - val_loss: 0.3562 - val_accuracy: 0.8570\n",
      "Epoch 3/5\n",
      "250/250 [==============================] - ETA: 0s - loss: 0.4852 - accuracy: 0.81 - ETA: 0s - loss: 0.3407 - accuracy: 0.86 - ETA: 0s - loss: 0.3500 - accuracy: 0.86 - ETA: 0s - loss: 0.3538 - accuracy: 0.85 - ETA: 0s - loss: 0.3553 - accuracy: 0.85 - 0s 1ms/step - loss: 0.3530 - accuracy: 0.8585 - val_loss: 0.3403 - val_accuracy: 0.8640\n",
      "Epoch 4/5\n",
      "250/250 [==============================] - ETA: 0s - loss: 0.2092 - accuracy: 0.93 - ETA: 0s - loss: 0.3425 - accuracy: 0.86 - ETA: 0s - loss: 0.3413 - accuracy: 0.86 - ETA: 0s - loss: 0.3461 - accuracy: 0.86 - ETA: 0s - loss: 0.3496 - accuracy: 0.85 - ETA: 0s - loss: 0.3431 - accuracy: 0.86 - 0s 1ms/step - loss: 0.3457 - accuracy: 0.8608 - val_loss: 0.3420 - val_accuracy: 0.8615\n",
      "Epoch 5/5\n",
      "250/250 [==============================] - ETA: 0s - loss: 0.2424 - accuracy: 0.93 - ETA: 0s - loss: 0.3189 - accuracy: 0.87 - ETA: 0s - loss: 0.3218 - accuracy: 0.87 - ETA: 0s - loss: 0.3354 - accuracy: 0.86 - ETA: 0s - loss: 0.3396 - accuracy: 0.86 - 0s 1ms/step - loss: 0.3389 - accuracy: 0.8619 - val_loss: 0.3379 - val_accuracy: 0.8615\n",
      "Epoch 1/5\n",
      "250/250 [==============================] - ETA: 0s - loss: 0.6955 - accuracy: 0.18 - ETA: 0s - loss: 0.5869 - accuracy: 0.78 - ETA: 0s - loss: 0.5299 - accuracy: 0.78 - ETA: 0s - loss: 0.5015 - accuracy: 0.79 - ETA: 0s - loss: 0.4815 - accuracy: 0.79 - 0s 2ms/step - loss: 0.4759 - accuracy: 0.7937 - val_loss: 0.4034 - val_accuracy: 0.8235\n",
      "Epoch 2/5\n",
      "250/250 [==============================] - ETA: 0s - loss: 0.3037 - accuracy: 0.84 - ETA: 0s - loss: 0.3960 - accuracy: 0.81 - ETA: 0s - loss: 0.4035 - accuracy: 0.82 - ETA: 0s - loss: 0.3989 - accuracy: 0.83 - ETA: 0s - loss: 0.3971 - accuracy: 0.83 - ETA: 0s - loss: 0.3923 - accuracy: 0.83 - 0s 1ms/step - loss: 0.3911 - accuracy: 0.8344 - val_loss: 0.3522 - val_accuracy: 0.8570\n",
      "Epoch 3/5\n",
      "250/250 [==============================] - ETA: 0s - loss: 0.4375 - accuracy: 0.84 - ETA: 0s - loss: 0.3671 - accuracy: 0.83 - ETA: 0s - loss: 0.3560 - accuracy: 0.84 - ETA: 0s - loss: 0.3555 - accuracy: 0.84 - ETA: 0s - loss: 0.3552 - accuracy: 0.85 - 0s 1ms/step - loss: 0.3562 - accuracy: 0.8520 - val_loss: 0.3471 - val_accuracy: 0.8580\n",
      "Epoch 4/5\n",
      "250/250 [==============================] - ETA: 0s - loss: 0.4459 - accuracy: 0.78 - ETA: 0s - loss: 0.3186 - accuracy: 0.87 - ETA: 0s - loss: 0.3417 - accuracy: 0.86 - ETA: 0s - loss: 0.3433 - accuracy: 0.86 - ETA: 0s - loss: 0.3499 - accuracy: 0.85 - 0s 1ms/step - loss: 0.3454 - accuracy: 0.8604 - val_loss: 0.3446 - val_accuracy: 0.8590\n",
      "Epoch 5/5\n",
      "250/250 [==============================] - ETA: 0s - loss: 0.4067 - accuracy: 0.81 - ETA: 0s - loss: 0.3522 - accuracy: 0.85 - ETA: 0s - loss: 0.3409 - accuracy: 0.86 - ETA: 0s - loss: 0.3480 - accuracy: 0.85 - ETA: 0s - loss: 0.3418 - accuracy: 0.86 - 0s 1ms/step - loss: 0.3393 - accuracy: 0.8616 - val_loss: 0.3431 - val_accuracy: 0.8620\n"
     ]
    },
    {
     "data": {
      "text/html": [
       "<span style=\"color:#4527A0\"><h1 style=\"font-size:18px\">Trial complete</h1></span>"
      ],
      "text/plain": [
       "<IPython.core.display.HTML object>"
      ]
     },
     "metadata": {},
     "output_type": "display_data"
    },
    {
     "data": {
      "text/html": [
       "<span style=\"color:#4527A0\"><h1 style=\"font-size:18px\">Trial summary</h1></span>"
      ],
      "text/plain": [
       "<IPython.core.display.HTML object>"
      ]
     },
     "metadata": {},
     "output_type": "display_data"
    },
    {
     "data": {
      "text/html": [
       "<span style=\"color:cyan\"> |-Trial ID: 5d5e46fc91a397e23ce879136cae6ac7</span>"
      ],
      "text/plain": [
       "<IPython.core.display.HTML object>"
      ]
     },
     "metadata": {},
     "output_type": "display_data"
    },
    {
     "data": {
      "text/html": [
       "<span style=\"color:cyan\"> |-Score: 0.8610000014305115</span>"
      ],
      "text/plain": [
       "<IPython.core.display.HTML object>"
      ]
     },
     "metadata": {},
     "output_type": "display_data"
    },
    {
     "data": {
      "text/html": [
       "<span style=\"color:cyan\"> |-Best step: 0</span>"
      ],
      "text/plain": [
       "<IPython.core.display.HTML object>"
      ]
     },
     "metadata": {},
     "output_type": "display_data"
    },
    {
     "data": {
      "text/html": [
       "<span style=\"color:#7E57C2\"><h2 style=\"font-size:16px\">Hyperparameters:</h2></span>"
      ],
      "text/plain": [
       "<IPython.core.display.HTML object>"
      ]
     },
     "metadata": {},
     "output_type": "display_data"
    },
    {
     "data": {
      "text/html": [
       "<span style=\"color:cyan\"> |-learning_rate: 0.001</span>"
      ],
      "text/plain": [
       "<IPython.core.display.HTML object>"
      ]
     },
     "metadata": {},
     "output_type": "display_data"
    },
    {
     "data": {
      "text/html": [
       "<span style=\"color:blue\"> |-num_layers: 12</span>"
      ],
      "text/plain": [
       "<IPython.core.display.HTML object>"
      ]
     },
     "metadata": {},
     "output_type": "display_data"
    },
    {
     "data": {
      "text/html": [
       "<span style=\"color:cyan\"> |-units_0: 32</span>"
      ],
      "text/plain": [
       "<IPython.core.display.HTML object>"
      ]
     },
     "metadata": {},
     "output_type": "display_data"
    },
    {
     "data": {
      "text/html": [
       "<span style=\"color:blue\"> |-units_1: 224</span>"
      ],
      "text/plain": [
       "<IPython.core.display.HTML object>"
      ]
     },
     "metadata": {},
     "output_type": "display_data"
    },
    {
     "data": {
      "text/html": [
       "<span style=\"color:cyan\"> |-units_10: 32</span>"
      ],
      "text/plain": [
       "<IPython.core.display.HTML object>"
      ]
     },
     "metadata": {},
     "output_type": "display_data"
    },
    {
     "data": {
      "text/html": [
       "<span style=\"color:blue\"> |-units_11: 32</span>"
      ],
      "text/plain": [
       "<IPython.core.display.HTML object>"
      ]
     },
     "metadata": {},
     "output_type": "display_data"
    },
    {
     "data": {
      "text/html": [
       "<span style=\"color:cyan\"> |-units_2: 32</span>"
      ],
      "text/plain": [
       "<IPython.core.display.HTML object>"
      ]
     },
     "metadata": {},
     "output_type": "display_data"
    },
    {
     "data": {
      "text/html": [
       "<span style=\"color:blue\"> |-units_3: 32</span>"
      ],
      "text/plain": [
       "<IPython.core.display.HTML object>"
      ]
     },
     "metadata": {},
     "output_type": "display_data"
    },
    {
     "data": {
      "text/html": [
       "<span style=\"color:cyan\"> |-units_4: 32</span>"
      ],
      "text/plain": [
       "<IPython.core.display.HTML object>"
      ]
     },
     "metadata": {},
     "output_type": "display_data"
    },
    {
     "data": {
      "text/html": [
       "<span style=\"color:blue\"> |-units_5: 32</span>"
      ],
      "text/plain": [
       "<IPython.core.display.HTML object>"
      ]
     },
     "metadata": {},
     "output_type": "display_data"
    },
    {
     "data": {
      "text/html": [
       "<span style=\"color:cyan\"> |-units_6: 32</span>"
      ],
      "text/plain": [
       "<IPython.core.display.HTML object>"
      ]
     },
     "metadata": {},
     "output_type": "display_data"
    },
    {
     "data": {
      "text/html": [
       "<span style=\"color:blue\"> |-units_7: 32</span>"
      ],
      "text/plain": [
       "<IPython.core.display.HTML object>"
      ]
     },
     "metadata": {},
     "output_type": "display_data"
    },
    {
     "data": {
      "text/html": [
       "<span style=\"color:cyan\"> |-units_8: 32</span>"
      ],
      "text/plain": [
       "<IPython.core.display.HTML object>"
      ]
     },
     "metadata": {},
     "output_type": "display_data"
    },
    {
     "data": {
      "text/html": [
       "<span style=\"color:blue\"> |-units_9: 32</span>"
      ],
      "text/plain": [
       "<IPython.core.display.HTML object>"
      ]
     },
     "metadata": {},
     "output_type": "display_data"
    },
    {
     "name": "stdout",
     "output_type": "stream",
     "text": [
      "Epoch 1/5\n",
      "250/250 [==============================] - ETA: 0s - loss: 0.6931 - accuracy: 0.68 - ETA: 1s - loss: 1.0228 - accuracy: 0.78 - ETA: 1s - loss: 0.7621 - accuracy: 0.79 - ETA: 1s - loss: 0.6684 - accuracy: 0.80 - ETA: 0s - loss: 0.6438 - accuracy: 0.79 - ETA: 0s - loss: 0.6142 - accuracy: 0.79 - ETA: 0s - loss: 0.5943 - accuracy: 0.79 - ETA: 0s - loss: 0.5862 - accuracy: 0.79 - ETA: 0s - loss: 0.5784 - accuracy: 0.79 - ETA: 0s - loss: 0.5733 - accuracy: 0.78 - ETA: 0s - loss: 0.5641 - accuracy: 0.79 - ETA: 0s - loss: 0.5577 - accuracy: 0.79 - ETA: 0s - loss: 0.5509 - accuracy: 0.79 - ETA: 0s - loss: 0.5436 - accuracy: 0.79 - ETA: 0s - loss: 0.5409 - accuracy: 0.79 - ETA: 0s - loss: 0.5391 - accuracy: 0.79 - ETA: 0s - loss: 0.5357 - accuracy: 0.79 - ETA: 0s - loss: 0.5341 - accuracy: 0.79 - ETA: 0s - loss: 0.5313 - accuracy: 0.79 - ETA: 0s - loss: 0.5336 - accuracy: 0.79 - ETA: 0s - loss: 0.5383 - accuracy: 0.79 - ETA: 0s - loss: 0.5379 - accuracy: 0.79 - 1s 6ms/step - loss: 0.5363 - accuracy: 0.7962 - val_loss: 0.5022 - val_accuracy: 0.7975\n",
      "Epoch 2/5\n",
      "250/250 [==============================] - ETA: 0s - loss: 0.3256 - accuracy: 0.93 - ETA: 0s - loss: 0.4767 - accuracy: 0.81 - ETA: 0s - loss: 0.4618 - accuracy: 0.82 - ETA: 0s - loss: 0.5336 - accuracy: 0.81 - ETA: 0s - loss: 0.5339 - accuracy: 0.80 - ETA: 0s - loss: 0.5325 - accuracy: 0.80 - ETA: 0s - loss: 0.5336 - accuracy: 0.79 - ETA: 0s - loss: 0.5290 - accuracy: 0.79 - ETA: 0s - loss: 0.5225 - accuracy: 0.80 - ETA: 0s - loss: 0.5214 - accuracy: 0.80 - ETA: 0s - loss: 0.5174 - accuracy: 0.80 - ETA: 0s - loss: 0.5174 - accuracy: 0.80 - ETA: 0s - loss: 0.5186 - accuracy: 0.79 - ETA: 0s - loss: 0.5166 - accuracy: 0.79 - ETA: 0s - loss: 0.5191 - accuracy: 0.79 - ETA: 0s - loss: 0.5170 - accuracy: 0.79 - ETA: 0s - loss: 0.5195 - accuracy: 0.79 - ETA: 0s - loss: 0.5195 - accuracy: 0.79 - ETA: 0s - loss: 0.5194 - accuracy: 0.79 - ETA: 0s - loss: 0.5191 - accuracy: 0.79 - ETA: 0s - loss: 0.5198 - accuracy: 0.79 - ETA: 0s - loss: 0.5197 - accuracy: 0.79 - ETA: 0s - loss: 0.5198 - accuracy: 0.79 - ETA: 0s - loss: 0.5189 - accuracy: 0.79 - ETA: 0s - loss: 0.5171 - accuracy: 0.79 - ETA: 0s - loss: 0.5156 - accuracy: 0.79 - ETA: 0s - loss: 0.5189 - accuracy: 0.79 - 1s 6ms/step - loss: 0.5160 - accuracy: 0.7959 - val_loss: 0.5044 - val_accuracy: 0.7975\n",
      "Epoch 3/5\n",
      "250/250 [==============================] - ETA: 0s - loss: 0.5656 - accuracy: 0.75 - ETA: 0s - loss: 0.5095 - accuracy: 0.79 - ETA: 0s - loss: 0.4693 - accuracy: 0.82 - ETA: 0s - loss: 0.4945 - accuracy: 0.80 - ETA: 0s - loss: 0.5073 - accuracy: 0.79 - ETA: 0s - loss: 0.5101 - accuracy: 0.79 - ETA: 0s - loss: 0.5059 - accuracy: 0.79 - ETA: 0s - loss: 0.5111 - accuracy: 0.79 - ETA: 0s - loss: 0.5100 - accuracy: 0.79 - ETA: 0s - loss: 0.5023 - accuracy: 0.79 - ETA: 0s - loss: 0.5008 - accuracy: 0.80 - ETA: 0s - loss: 0.5026 - accuracy: 0.79 - ETA: 0s - loss: 0.5030 - accuracy: 0.79 - ETA: 0s - loss: 0.5021 - accuracy: 0.80 - ETA: 0s - loss: 0.4987 - accuracy: 0.80 - ETA: 0s - loss: 0.4999 - accuracy: 0.80 - ETA: 0s - loss: 0.5008 - accuracy: 0.80 - ETA: 0s - loss: 0.5012 - accuracy: 0.80 - ETA: 0s - loss: 0.5003 - accuracy: 0.80 - ETA: 0s - loss: 0.5012 - accuracy: 0.80 - ETA: 0s - loss: 0.4993 - accuracy: 0.80 - ETA: 0s - loss: 0.5004 - accuracy: 0.80 - ETA: 0s - loss: 0.5025 - accuracy: 0.79 - ETA: 0s - loss: 0.5034 - accuracy: 0.79 - ETA: 0s - loss: 0.5051 - accuracy: 0.79 - ETA: 0s - loss: 0.5046 - accuracy: 0.79 - 1s 6ms/step - loss: 0.5069 - accuracy: 0.7960 - val_loss: 0.5046 - val_accuracy: 0.7975\n",
      "Epoch 4/5\n",
      "250/250 [==============================] - ETA: 0s - loss: 0.3656 - accuracy: 0.90 - ETA: 1s - loss: 0.4474 - accuracy: 0.84 - ETA: 1s - loss: 0.4778 - accuracy: 0.81 - ETA: 0s - loss: 0.4861 - accuracy: 0.81 - ETA: 0s - loss: 0.5037 - accuracy: 0.79 - ETA: 0s - loss: 0.5075 - accuracy: 0.79 - ETA: 0s - loss: 0.5074 - accuracy: 0.79 - ETA: 0s - loss: 0.5100 - accuracy: 0.79 - ETA: 0s - loss: 0.5137 - accuracy: 0.79 - ETA: 0s - loss: 0.5181 - accuracy: 0.78 - ETA: 0s - loss: 0.5206 - accuracy: 0.78 - ETA: 0s - loss: 0.5163 - accuracy: 0.78 - ETA: 0s - loss: 0.5212 - accuracy: 0.78 - ETA: 0s - loss: 0.5176 - accuracy: 0.78 - ETA: 0s - loss: 0.5162 - accuracy: 0.78 - ETA: 0s - loss: 0.5134 - accuracy: 0.79 - ETA: 0s - loss: 0.5112 - accuracy: 0.79 - ETA: 0s - loss: 0.5117 - accuracy: 0.79 - ETA: 0s - loss: 0.5099 - accuracy: 0.79 - ETA: 0s - loss: 0.5099 - accuracy: 0.79 - ETA: 0s - loss: 0.5111 - accuracy: 0.79 - ETA: 0s - loss: 0.5092 - accuracy: 0.79 - ETA: 0s - loss: 0.5075 - accuracy: 0.79 - ETA: 0s - loss: 0.5066 - accuracy: 0.79 - 1s 5ms/step - loss: 0.5064 - accuracy: 0.7960 - val_loss: 0.5054 - val_accuracy: 0.7975\n",
      "Epoch 5/5\n",
      "250/250 [==============================] - ETA: 0s - loss: 0.3882 - accuracy: 0.87 - ETA: 1s - loss: 0.4440 - accuracy: 0.83 - ETA: 0s - loss: 0.4741 - accuracy: 0.81 - ETA: 0s - loss: 0.4885 - accuracy: 0.80 - ETA: 0s - loss: 0.4975 - accuracy: 0.80 - ETA: 0s - loss: 0.4944 - accuracy: 0.80 - ETA: 0s - loss: 0.4938 - accuracy: 0.80 - ETA: 0s - loss: 0.5010 - accuracy: 0.80 - ETA: 0s - loss: 0.5030 - accuracy: 0.79 - ETA: 0s - loss: 0.5017 - accuracy: 0.79 - ETA: 0s - loss: 0.5024 - accuracy: 0.79 - ETA: 0s - loss: 0.5061 - accuracy: 0.79 - ETA: 0s - loss: 0.5091 - accuracy: 0.79 - ETA: 0s - loss: 0.5065 - accuracy: 0.79 - ETA: 0s - loss: 0.5047 - accuracy: 0.79 - ETA: 0s - loss: 0.5028 - accuracy: 0.79 - ETA: 0s - loss: 0.5027 - accuracy: 0.79 - ETA: 0s - loss: 0.5022 - accuracy: 0.79 - ETA: 0s - loss: 0.5014 - accuracy: 0.79 - ETA: 0s - loss: 0.5017 - accuracy: 0.79 - ETA: 0s - loss: 0.5059 - accuracy: 0.79 - ETA: 0s - loss: 0.5066 - accuracy: 0.79 - ETA: 0s - loss: 0.5058 - accuracy: 0.79 - ETA: 0s - loss: 0.5067 - accuracy: 0.79 - ETA: 0s - loss: 0.5069 - accuracy: 0.79 - ETA: 0s - loss: 0.5065 - accuracy: 0.79 - ETA: 0s - loss: 0.5063 - accuracy: 0.79 - 1s 6ms/step - loss: 0.5068 - accuracy: 0.7960 - val_loss: 0.5039 - val_accuracy: 0.7975\n",
      "Epoch 1/5\n",
      "250/250 [==============================] - ETA: 0s - loss: 0.6930 - accuracy: 0.81 - ETA: 1s - loss: 0.6352 - accuracy: 0.78 - ETA: 1s - loss: 0.5830 - accuracy: 0.79 - ETA: 1s - loss: 0.5748 - accuracy: 0.78 - ETA: 0s - loss: 0.5588 - accuracy: 0.78 - ETA: 0s - loss: 0.5585 - accuracy: 0.78 - ETA: 0s - loss: 0.5500 - accuracy: 0.78 - ETA: 0s - loss: 0.5412 - accuracy: 0.78 - ETA: 0s - loss: 0.5406 - accuracy: 0.78 - ETA: 0s - loss: 0.5367 - accuracy: 0.78 - ETA: 0s - loss: 0.5340 - accuracy: 0.78 - ETA: 0s - loss: 0.5300 - accuracy: 0.79 - ETA: 0s - loss: 0.5279 - accuracy: 0.79 - ETA: 0s - loss: 0.5273 - accuracy: 0.79 - ETA: 0s - loss: 0.5226 - accuracy: 0.79 - ETA: 0s - loss: 0.5219 - accuracy: 0.79 - ETA: 0s - loss: 0.5231 - accuracy: 0.79 - ETA: 0s - loss: 0.5222 - accuracy: 0.79 - ETA: 0s - loss: 0.5199 - accuracy: 0.79 - ETA: 0s - loss: 0.5189 - accuracy: 0.79 - ETA: 0s - loss: 0.5156 - accuracy: 0.79 - ETA: 0s - loss: 0.5161 - accuracy: 0.79 - ETA: 0s - loss: 0.5145 - accuracy: 0.79 - ETA: 0s - loss: 0.5146 - accuracy: 0.79 - 2s 6ms/step - loss: 0.5152 - accuracy: 0.7960 - val_loss: 0.5055 - val_accuracy: 0.7975\n",
      "Epoch 2/5\n"
     ]
    },
    {
     "name": "stdout",
     "output_type": "stream",
     "text": [
      "250/250 [==============================] - ETA: 0s - loss: 0.4870 - accuracy: 0.81 - ETA: 1s - loss: 0.5183 - accuracy: 0.78 - ETA: 1s - loss: 0.4987 - accuracy: 0.80 - ETA: 1s - loss: 0.5082 - accuracy: 0.79 - ETA: 1s - loss: 0.5121 - accuracy: 0.79 - ETA: 1s - loss: 0.5170 - accuracy: 0.78 - ETA: 1s - loss: 0.5177 - accuracy: 0.78 - ETA: 1s - loss: 0.5171 - accuracy: 0.78 - ETA: 1s - loss: 0.5102 - accuracy: 0.79 - ETA: 1s - loss: 0.5076 - accuracy: 0.79 - ETA: 1s - loss: 0.5097 - accuracy: 0.79 - ETA: 0s - loss: 0.5137 - accuracy: 0.79 - ETA: 0s - loss: 0.5114 - accuracy: 0.79 - ETA: 0s - loss: 0.5134 - accuracy: 0.79 - ETA: 0s - loss: 0.5099 - accuracy: 0.79 - ETA: 0s - loss: 0.5051 - accuracy: 0.79 - ETA: 0s - loss: 0.5057 - accuracy: 0.79 - ETA: 0s - loss: 0.5082 - accuracy: 0.79 - ETA: 0s - loss: 0.5103 - accuracy: 0.79 - ETA: 0s - loss: 0.5117 - accuracy: 0.79 - ETA: 0s - loss: 0.5101 - accuracy: 0.79 - ETA: 0s - loss: 0.5081 - accuracy: 0.79 - ETA: 0s - loss: 0.5087 - accuracy: 0.79 - ETA: 0s - loss: 0.5099 - accuracy: 0.79 - ETA: 0s - loss: 0.5112 - accuracy: 0.79 - ETA: 0s - loss: 0.5126 - accuracy: 0.79 - ETA: 0s - loss: 0.5126 - accuracy: 0.79 - ETA: 0s - loss: 0.5078 - accuracy: 0.79 - 2s 6ms/step - loss: 0.5077 - accuracy: 0.7960 - val_loss: 0.5256 - val_accuracy: 0.7975\n",
      "Epoch 3/5\n",
      "250/250 [==============================] - ETA: 0s - loss: 0.3768 - accuracy: 0.87 - ETA: 1s - loss: 0.5002 - accuracy: 0.80 - ETA: 1s - loss: 0.5323 - accuracy: 0.77 - ETA: 1s - loss: 0.5510 - accuracy: 0.76 - ETA: 0s - loss: 0.5398 - accuracy: 0.77 - ETA: 0s - loss: 0.5414 - accuracy: 0.77 - ETA: 0s - loss: 0.5332 - accuracy: 0.77 - ETA: 0s - loss: 0.5259 - accuracy: 0.78 - ETA: 0s - loss: 0.5238 - accuracy: 0.78 - ETA: 0s - loss: 0.5128 - accuracy: 0.79 - ETA: 0s - loss: 0.5087 - accuracy: 0.79 - ETA: 0s - loss: 0.5086 - accuracy: 0.79 - ETA: 0s - loss: 0.5092 - accuracy: 0.79 - ETA: 0s - loss: 0.5083 - accuracy: 0.79 - ETA: 0s - loss: 0.5084 - accuracy: 0.79 - ETA: 0s - loss: 0.5040 - accuracy: 0.79 - ETA: 0s - loss: 0.5026 - accuracy: 0.79 - ETA: 0s - loss: 0.5017 - accuracy: 0.79 - ETA: 0s - loss: 0.5059 - accuracy: 0.79 - ETA: 0s - loss: 0.5059 - accuracy: 0.79 - ETA: 0s - loss: 0.5061 - accuracy: 0.79 - ETA: 0s - loss: 0.5056 - accuracy: 0.79 - ETA: 0s - loss: 0.5064 - accuracy: 0.79 - 1s 5ms/step - loss: 0.5073 - accuracy: 0.7960 - val_loss: 0.5039 - val_accuracy: 0.7975\n",
      "Epoch 4/5\n",
      "250/250 [==============================] - ETA: 0s - loss: 0.3972 - accuracy: 0.87 - ETA: 0s - loss: 0.4689 - accuracy: 0.82 - ETA: 0s - loss: 0.5037 - accuracy: 0.79 - ETA: 0s - loss: 0.4977 - accuracy: 0.80 - ETA: 0s - loss: 0.5021 - accuracy: 0.79 - ETA: 0s - loss: 0.5027 - accuracy: 0.79 - ETA: 0s - loss: 0.5130 - accuracy: 0.79 - ETA: 0s - loss: 0.5108 - accuracy: 0.79 - ETA: 0s - loss: 0.5124 - accuracy: 0.79 - ETA: 0s - loss: 0.5142 - accuracy: 0.79 - ETA: 0s - loss: 0.5128 - accuracy: 0.79 - ETA: 0s - loss: 0.5050 - accuracy: 0.79 - ETA: 0s - loss: 0.5061 - accuracy: 0.79 - ETA: 0s - loss: 0.5060 - accuracy: 0.79 - ETA: 0s - loss: 0.5057 - accuracy: 0.79 - ETA: 0s - loss: 0.5071 - accuracy: 0.79 - ETA: 0s - loss: 0.5068 - accuracy: 0.79 - ETA: 0s - loss: 0.5086 - accuracy: 0.79 - ETA: 0s - loss: 0.5048 - accuracy: 0.79 - ETA: 0s - loss: 0.5073 - accuracy: 0.79 - ETA: 0s - loss: 0.5079 - accuracy: 0.79 - ETA: 0s - loss: 0.5079 - accuracy: 0.79 - ETA: 0s - loss: 0.5075 - accuracy: 0.79 - 1s 5ms/step - loss: 0.5074 - accuracy: 0.7960 - val_loss: 0.5042 - val_accuracy: 0.7975\n",
      "Epoch 5/5\n",
      "250/250 [==============================] - ETA: 0s - loss: 0.7523 - accuracy: 0.62 - ETA: 1s - loss: 0.5059 - accuracy: 0.79 - ETA: 0s - loss: 0.5167 - accuracy: 0.78 - ETA: 0s - loss: 0.5088 - accuracy: 0.79 - ETA: 0s - loss: 0.5041 - accuracy: 0.79 - ETA: 0s - loss: 0.5067 - accuracy: 0.79 - ETA: 0s - loss: 0.5009 - accuracy: 0.80 - ETA: 0s - loss: 0.5073 - accuracy: 0.79 - ETA: 0s - loss: 0.5123 - accuracy: 0.79 - ETA: 0s - loss: 0.5180 - accuracy: 0.78 - ETA: 0s - loss: 0.5154 - accuracy: 0.78 - ETA: 0s - loss: 0.5133 - accuracy: 0.79 - ETA: 0s - loss: 0.5128 - accuracy: 0.79 - ETA: 0s - loss: 0.5131 - accuracy: 0.79 - ETA: 0s - loss: 0.5103 - accuracy: 0.79 - ETA: 0s - loss: 0.5096 - accuracy: 0.79 - ETA: 0s - loss: 0.5079 - accuracy: 0.79 - ETA: 0s - loss: 0.5056 - accuracy: 0.79 - ETA: 0s - loss: 0.5060 - accuracy: 0.79 - ETA: 0s - loss: 0.5051 - accuracy: 0.79 - ETA: 0s - loss: 0.5073 - accuracy: 0.79 - ETA: 0s - loss: 0.5068 - accuracy: 0.79 - 1s 5ms/step - loss: 0.5068 - accuracy: 0.7960 - val_loss: 0.5041 - val_accuracy: 0.7975\n",
      "Epoch 1/5\n",
      "250/250 [==============================] - ETA: 0s - loss: 0.6932 - accuracy: 0.12 - ETA: 1s - loss: 0.7549 - accuracy: 0.73 - ETA: 1s - loss: 0.6522 - accuracy: 0.75 - ETA: 1s - loss: 0.6168 - accuracy: 0.76 - ETA: 1s - loss: 0.5925 - accuracy: 0.76 - ETA: 1s - loss: 0.5727 - accuracy: 0.77 - ETA: 0s - loss: 0.5537 - accuracy: 0.78 - ETA: 0s - loss: 0.5507 - accuracy: 0.78 - ETA: 0s - loss: 0.5422 - accuracy: 0.78 - ETA: 0s - loss: 0.5396 - accuracy: 0.78 - ETA: 0s - loss: 0.5315 - accuracy: 0.79 - ETA: 0s - loss: 0.5336 - accuracy: 0.79 - ETA: 0s - loss: 0.5335 - accuracy: 0.78 - ETA: 0s - loss: 0.5327 - accuracy: 0.78 - ETA: 0s - loss: 0.5291 - accuracy: 0.79 - ETA: 0s - loss: 0.5294 - accuracy: 0.78 - ETA: 0s - loss: 0.5281 - accuracy: 0.78 - ETA: 0s - loss: 0.5260 - accuracy: 0.79 - ETA: 0s - loss: 0.5260 - accuracy: 0.79 - ETA: 0s - loss: 0.5232 - accuracy: 0.79 - ETA: 0s - loss: 0.5236 - accuracy: 0.79 - ETA: 0s - loss: 0.5218 - accuracy: 0.79 - ETA: 0s - loss: 0.5205 - accuracy: 0.79 - 1s 6ms/step - loss: 0.5210 - accuracy: 0.7930 - val_loss: 0.5059 - val_accuracy: 0.7975\n",
      "Epoch 2/5\n",
      "250/250 [==============================] - ETA: 0s - loss: 0.5309 - accuracy: 0.78 - ETA: 1s - loss: 0.4756 - accuracy: 0.81 - ETA: 1s - loss: 0.5152 - accuracy: 0.78 - ETA: 1s - loss: 0.5043 - accuracy: 0.79 - ETA: 1s - loss: 0.5082 - accuracy: 0.79 - ETA: 0s - loss: 0.5078 - accuracy: 0.79 - ETA: 0s - loss: 0.5098 - accuracy: 0.79 - ETA: 0s - loss: 0.5141 - accuracy: 0.79 - ETA: 0s - loss: 0.5076 - accuracy: 0.79 - ETA: 0s - loss: 0.5111 - accuracy: 0.79 - ETA: 0s - loss: 0.5116 - accuracy: 0.79 - ETA: 0s - loss: 0.5087 - accuracy: 0.79 - ETA: 0s - loss: 0.5097 - accuracy: 0.79 - ETA: 0s - loss: 0.5102 - accuracy: 0.79 - ETA: 0s - loss: 0.5108 - accuracy: 0.79 - ETA: 0s - loss: 0.5115 - accuracy: 0.79 - ETA: 0s - loss: 0.5103 - accuracy: 0.79 - ETA: 0s - loss: 0.5089 - accuracy: 0.79 - ETA: 0s - loss: 0.5066 - accuracy: 0.79 - ETA: 0s - loss: 0.5104 - accuracy: 0.79 - ETA: 0s - loss: 0.5107 - accuracy: 0.79 - ETA: 0s - loss: 0.5091 - accuracy: 0.79 - 1s 5ms/step - loss: 0.5089 - accuracy: 0.7960 - val_loss: 0.5071 - val_accuracy: 0.7975\n",
      "Epoch 3/5\n",
      "250/250 [==============================] - ETA: 0s - loss: 0.4835 - accuracy: 0.81 - ETA: 1s - loss: 0.5071 - accuracy: 0.79 - ETA: 1s - loss: 0.5065 - accuracy: 0.79 - ETA: 1s - loss: 0.5022 - accuracy: 0.79 - ETA: 1s - loss: 0.5103 - accuracy: 0.79 - ETA: 0s - loss: 0.5105 - accuracy: 0.79 - ETA: 0s - loss: 0.5122 - accuracy: 0.79 - ETA: 0s - loss: 0.5061 - accuracy: 0.79 - ETA: 0s - loss: 0.5012 - accuracy: 0.79 - ETA: 0s - loss: 0.4978 - accuracy: 0.80 - ETA: 0s - loss: 0.5038 - accuracy: 0.79 - ETA: 0s - loss: 0.5062 - accuracy: 0.79 - ETA: 0s - loss: 0.5047 - accuracy: 0.79 - ETA: 0s - loss: 0.4998 - accuracy: 0.80 - ETA: 0s - loss: 0.5018 - accuracy: 0.80 - ETA: 0s - loss: 0.5015 - accuracy: 0.80 - ETA: 0s - loss: 0.5018 - accuracy: 0.80 - ETA: 0s - loss: 0.5030 - accuracy: 0.79 - ETA: 0s - loss: 0.5058 - accuracy: 0.79 - ETA: 0s - loss: 0.5079 - accuracy: 0.79 - ETA: 0s - loss: 0.5074 - accuracy: 0.79 - ETA: 0s - loss: 0.5061 - accuracy: 0.79 - ETA: 0s - loss: 0.5083 - accuracy: 0.79 - ETA: 0s - loss: 0.5079 - accuracy: 0.79 - 1s 5ms/step - loss: 0.5077 - accuracy: 0.7960 - val_loss: 0.5043 - val_accuracy: 0.7975\n",
      "Epoch 4/5\n"
     ]
    },
    {
     "name": "stdout",
     "output_type": "stream",
     "text": [
      "250/250 [==============================] - ETA: 0s - loss: 0.5254 - accuracy: 0.78 - ETA: 1s - loss: 0.4511 - accuracy: 0.83 - ETA: 1s - loss: 0.4502 - accuracy: 0.83 - ETA: 1s - loss: 0.4928 - accuracy: 0.80 - ETA: 1s - loss: 0.4994 - accuracy: 0.80 - ETA: 1s - loss: 0.4973 - accuracy: 0.80 - ETA: 0s - loss: 0.5008 - accuracy: 0.80 - ETA: 0s - loss: 0.4968 - accuracy: 0.80 - ETA: 0s - loss: 0.4962 - accuracy: 0.80 - ETA: 0s - loss: 0.4971 - accuracy: 0.80 - ETA: 0s - loss: 0.4987 - accuracy: 0.80 - ETA: 0s - loss: 0.4988 - accuracy: 0.80 - ETA: 0s - loss: 0.4997 - accuracy: 0.80 - ETA: 0s - loss: 0.5015 - accuracy: 0.80 - ETA: 0s - loss: 0.5039 - accuracy: 0.79 - ETA: 0s - loss: 0.5058 - accuracy: 0.79 - ETA: 0s - loss: 0.5044 - accuracy: 0.79 - ETA: 0s - loss: 0.5060 - accuracy: 0.79 - ETA: 0s - loss: 0.5089 - accuracy: 0.79 - ETA: 0s - loss: 0.5098 - accuracy: 0.79 - ETA: 0s - loss: 0.5086 - accuracy: 0.79 - ETA: 0s - loss: 0.5105 - accuracy: 0.79 - ETA: 0s - loss: 0.5073 - accuracy: 0.79 - 1s 5ms/step - loss: 0.5074 - accuracy: 0.7960 - val_loss: 0.5051 - val_accuracy: 0.7975\n",
      "Epoch 5/5\n",
      "250/250 [==============================] - ETA: 0s - loss: 0.5763 - accuracy: 0.75 - ETA: 1s - loss: 0.5289 - accuracy: 0.78 - ETA: 1s - loss: 0.5337 - accuracy: 0.77 - ETA: 1s - loss: 0.5309 - accuracy: 0.77 - ETA: 1s - loss: 0.5225 - accuracy: 0.78 - ETA: 1s - loss: 0.5157 - accuracy: 0.79 - ETA: 1s - loss: 0.5211 - accuracy: 0.78 - ETA: 1s - loss: 0.5171 - accuracy: 0.78 - ETA: 1s - loss: 0.5166 - accuracy: 0.78 - ETA: 0s - loss: 0.5178 - accuracy: 0.78 - ETA: 0s - loss: 0.5185 - accuracy: 0.78 - ETA: 0s - loss: 0.5140 - accuracy: 0.79 - ETA: 0s - loss: 0.5103 - accuracy: 0.79 - ETA: 0s - loss: 0.5107 - accuracy: 0.79 - ETA: 0s - loss: 0.5103 - accuracy: 0.79 - ETA: 0s - loss: 0.5131 - accuracy: 0.79 - ETA: 0s - loss: 0.5104 - accuracy: 0.79 - ETA: 0s - loss: 0.5105 - accuracy: 0.79 - ETA: 0s - loss: 0.5092 - accuracy: 0.79 - ETA: 0s - loss: 0.5058 - accuracy: 0.79 - ETA: 0s - loss: 0.5061 - accuracy: 0.79 - ETA: 0s - loss: 0.5066 - accuracy: 0.79 - ETA: 0s - loss: 0.5052 - accuracy: 0.79 - ETA: 0s - loss: 0.5050 - accuracy: 0.79 - ETA: 0s - loss: 0.5052 - accuracy: 0.79 - ETA: 0s - loss: 0.5066 - accuracy: 0.79 - 1s 6ms/step - loss: 0.5071 - accuracy: 0.7960 - val_loss: 0.5046 - val_accuracy: 0.7975\n"
     ]
    },
    {
     "data": {
      "text/html": [
       "<span style=\"color:#4527A0\"><h1 style=\"font-size:18px\">Trial complete</h1></span>"
      ],
      "text/plain": [
       "<IPython.core.display.HTML object>"
      ]
     },
     "metadata": {},
     "output_type": "display_data"
    },
    {
     "data": {
      "text/html": [
       "<span style=\"color:#4527A0\"><h1 style=\"font-size:18px\">Trial summary</h1></span>"
      ],
      "text/plain": [
       "<IPython.core.display.HTML object>"
      ]
     },
     "metadata": {},
     "output_type": "display_data"
    },
    {
     "data": {
      "text/html": [
       "<span style=\"color:cyan\"> |-Trial ID: ba2dbf804464bddae3cfda909633183e</span>"
      ],
      "text/plain": [
       "<IPython.core.display.HTML object>"
      ]
     },
     "metadata": {},
     "output_type": "display_data"
    },
    {
     "data": {
      "text/html": [
       "<span style=\"color:cyan\"> |-Score: 0.7975000143051147</span>"
      ],
      "text/plain": [
       "<IPython.core.display.HTML object>"
      ]
     },
     "metadata": {},
     "output_type": "display_data"
    },
    {
     "data": {
      "text/html": [
       "<span style=\"color:cyan\"> |-Best step: 0</span>"
      ],
      "text/plain": [
       "<IPython.core.display.HTML object>"
      ]
     },
     "metadata": {},
     "output_type": "display_data"
    },
    {
     "data": {
      "text/html": [
       "<span style=\"color:#7E57C2\"><h2 style=\"font-size:16px\">Hyperparameters:</h2></span>"
      ],
      "text/plain": [
       "<IPython.core.display.HTML object>"
      ]
     },
     "metadata": {},
     "output_type": "display_data"
    },
    {
     "data": {
      "text/html": [
       "<span style=\"color:cyan\"> |-learning_rate: 0.01</span>"
      ],
      "text/plain": [
       "<IPython.core.display.HTML object>"
      ]
     },
     "metadata": {},
     "output_type": "display_data"
    },
    {
     "data": {
      "text/html": [
       "<span style=\"color:blue\"> |-num_layers: 18</span>"
      ],
      "text/plain": [
       "<IPython.core.display.HTML object>"
      ]
     },
     "metadata": {},
     "output_type": "display_data"
    },
    {
     "data": {
      "text/html": [
       "<span style=\"color:cyan\"> |-units_0: 480</span>"
      ],
      "text/plain": [
       "<IPython.core.display.HTML object>"
      ]
     },
     "metadata": {},
     "output_type": "display_data"
    },
    {
     "data": {
      "text/html": [
       "<span style=\"color:blue\"> |-units_1: 224</span>"
      ],
      "text/plain": [
       "<IPython.core.display.HTML object>"
      ]
     },
     "metadata": {},
     "output_type": "display_data"
    },
    {
     "data": {
      "text/html": [
       "<span style=\"color:cyan\"> |-units_10: 96</span>"
      ],
      "text/plain": [
       "<IPython.core.display.HTML object>"
      ]
     },
     "metadata": {},
     "output_type": "display_data"
    },
    {
     "data": {
      "text/html": [
       "<span style=\"color:blue\"> |-units_11: 288</span>"
      ],
      "text/plain": [
       "<IPython.core.display.HTML object>"
      ]
     },
     "metadata": {},
     "output_type": "display_data"
    },
    {
     "data": {
      "text/html": [
       "<span style=\"color:cyan\"> |-units_12: 32</span>"
      ],
      "text/plain": [
       "<IPython.core.display.HTML object>"
      ]
     },
     "metadata": {},
     "output_type": "display_data"
    },
    {
     "data": {
      "text/html": [
       "<span style=\"color:blue\"> |-units_13: 32</span>"
      ],
      "text/plain": [
       "<IPython.core.display.HTML object>"
      ]
     },
     "metadata": {},
     "output_type": "display_data"
    },
    {
     "data": {
      "text/html": [
       "<span style=\"color:cyan\"> |-units_14: 32</span>"
      ],
      "text/plain": [
       "<IPython.core.display.HTML object>"
      ]
     },
     "metadata": {},
     "output_type": "display_data"
    },
    {
     "data": {
      "text/html": [
       "<span style=\"color:blue\"> |-units_15: 32</span>"
      ],
      "text/plain": [
       "<IPython.core.display.HTML object>"
      ]
     },
     "metadata": {},
     "output_type": "display_data"
    },
    {
     "data": {
      "text/html": [
       "<span style=\"color:cyan\"> |-units_16: 32</span>"
      ],
      "text/plain": [
       "<IPython.core.display.HTML object>"
      ]
     },
     "metadata": {},
     "output_type": "display_data"
    },
    {
     "data": {
      "text/html": [
       "<span style=\"color:blue\"> |-units_17: 32</span>"
      ],
      "text/plain": [
       "<IPython.core.display.HTML object>"
      ]
     },
     "metadata": {},
     "output_type": "display_data"
    },
    {
     "data": {
      "text/html": [
       "<span style=\"color:cyan\"> |-units_2: 352</span>"
      ],
      "text/plain": [
       "<IPython.core.display.HTML object>"
      ]
     },
     "metadata": {},
     "output_type": "display_data"
    },
    {
     "data": {
      "text/html": [
       "<span style=\"color:blue\"> |-units_3: 288</span>"
      ],
      "text/plain": [
       "<IPython.core.display.HTML object>"
      ]
     },
     "metadata": {},
     "output_type": "display_data"
    },
    {
     "data": {
      "text/html": [
       "<span style=\"color:cyan\"> |-units_4: 128</span>"
      ],
      "text/plain": [
       "<IPython.core.display.HTML object>"
      ]
     },
     "metadata": {},
     "output_type": "display_data"
    },
    {
     "data": {
      "text/html": [
       "<span style=\"color:blue\"> |-units_5: 384</span>"
      ],
      "text/plain": [
       "<IPython.core.display.HTML object>"
      ]
     },
     "metadata": {},
     "output_type": "display_data"
    },
    {
     "data": {
      "text/html": [
       "<span style=\"color:cyan\"> |-units_6: 448</span>"
      ],
      "text/plain": [
       "<IPython.core.display.HTML object>"
      ]
     },
     "metadata": {},
     "output_type": "display_data"
    },
    {
     "data": {
      "text/html": [
       "<span style=\"color:blue\"> |-units_7: 256</span>"
      ],
      "text/plain": [
       "<IPython.core.display.HTML object>"
      ]
     },
     "metadata": {},
     "output_type": "display_data"
    },
    {
     "data": {
      "text/html": [
       "<span style=\"color:cyan\"> |-units_8: 320</span>"
      ],
      "text/plain": [
       "<IPython.core.display.HTML object>"
      ]
     },
     "metadata": {},
     "output_type": "display_data"
    },
    {
     "data": {
      "text/html": [
       "<span style=\"color:blue\"> |-units_9: 96</span>"
      ],
      "text/plain": [
       "<IPython.core.display.HTML object>"
      ]
     },
     "metadata": {},
     "output_type": "display_data"
    },
    {
     "name": "stdout",
     "output_type": "stream",
     "text": [
      "Epoch 1/5\n",
      "250/250 [==============================] - ETA: 0s - loss: 0.6872 - accuracy: 0.56 - ETA: 0s - loss: 0.5948 - accuracy: 0.77 - ETA: 0s - loss: 0.5359 - accuracy: 0.78 - ETA: 0s - loss: 0.5137 - accuracy: 0.78 - ETA: 0s - loss: 0.4928 - accuracy: 0.79 - 0s 2ms/step - loss: 0.4762 - accuracy: 0.7989 - val_loss: 0.4114 - val_accuracy: 0.8210\n",
      "Epoch 2/5\n",
      "250/250 [==============================] - ETA: 0s - loss: 0.3368 - accuracy: 0.87 - ETA: 0s - loss: 0.4083 - accuracy: 0.82 - ETA: 0s - loss: 0.4048 - accuracy: 0.82 - ETA: 0s - loss: 0.4031 - accuracy: 0.82 - ETA: 0s - loss: 0.3995 - accuracy: 0.83 - 0s 1ms/step - loss: 0.3974 - accuracy: 0.8340 - val_loss: 0.3714 - val_accuracy: 0.8550\n",
      "Epoch 3/5\n",
      "250/250 [==============================] - ETA: 0s - loss: 0.4265 - accuracy: 0.81 - ETA: 0s - loss: 0.3635 - accuracy: 0.84 - ETA: 0s - loss: 0.3544 - accuracy: 0.85 - ETA: 0s - loss: 0.3652 - accuracy: 0.84 - ETA: 0s - loss: 0.3620 - accuracy: 0.85 - ETA: 0s - loss: 0.3618 - accuracy: 0.85 - 0s 1ms/step - loss: 0.3604 - accuracy: 0.8518 - val_loss: 0.3456 - val_accuracy: 0.8585\n",
      "Epoch 4/5\n",
      "250/250 [==============================] - ETA: 0s - loss: 0.4102 - accuracy: 0.81 - ETA: 0s - loss: 0.3606 - accuracy: 0.85 - ETA: 0s - loss: 0.3421 - accuracy: 0.86 - ETA: 0s - loss: 0.3392 - accuracy: 0.86 - ETA: 0s - loss: 0.3463 - accuracy: 0.85 - 0s 1ms/step - loss: 0.3465 - accuracy: 0.8590 - val_loss: 0.3406 - val_accuracy: 0.8615\n",
      "Epoch 5/5\n",
      "250/250 [==============================] - ETA: 0s - loss: 0.3902 - accuracy: 0.84 - ETA: 0s - loss: 0.3530 - accuracy: 0.84 - ETA: 0s - loss: 0.3466 - accuracy: 0.85 - ETA: 0s - loss: 0.3503 - accuracy: 0.85 - ETA: 0s - loss: 0.3500 - accuracy: 0.85 - ETA: 0s - loss: 0.3426 - accuracy: 0.85 - 0s 1ms/step - loss: 0.3395 - accuracy: 0.8597 - val_loss: 0.3369 - val_accuracy: 0.8580\n",
      "Epoch 1/5\n",
      "250/250 [==============================] - ETA: 0s - loss: 0.7241 - accuracy: 0.25 - ETA: 0s - loss: 0.6290 - accuracy: 0.70 - ETA: 0s - loss: 0.5676 - accuracy: 0.75 - ETA: 0s - loss: 0.5387 - accuracy: 0.76 - ETA: 0s - loss: 0.5127 - accuracy: 0.77 - ETA: 0s - loss: 0.4974 - accuracy: 0.78 - ETA: 0s - loss: 0.4855 - accuracy: 0.78 - 0s 2ms/step - loss: 0.4825 - accuracy: 0.7915 - val_loss: 0.4082 - val_accuracy: 0.8325\n",
      "Epoch 2/5\n",
      "250/250 [==============================] - ETA: 0s - loss: 0.3711 - accuracy: 0.81 - ETA: 0s - loss: 0.4081 - accuracy: 0.83 - ETA: 0s - loss: 0.4064 - accuracy: 0.82 - ETA: 0s - loss: 0.4086 - accuracy: 0.82 - ETA: 0s - loss: 0.4027 - accuracy: 0.83 - ETA: 0s - loss: 0.3957 - accuracy: 0.83 - 0s 1ms/step - loss: 0.3957 - accuracy: 0.8371 - val_loss: 0.3717 - val_accuracy: 0.8550\n",
      "Epoch 3/5\n",
      "250/250 [==============================] - ETA: 0s - loss: 0.5305 - accuracy: 0.84 - ETA: 0s - loss: 0.3781 - accuracy: 0.84 - ETA: 0s - loss: 0.3704 - accuracy: 0.85 - ETA: 0s - loss: 0.3703 - accuracy: 0.85 - ETA: 0s - loss: 0.3657 - accuracy: 0.85 - 0s 1ms/step - loss: 0.3605 - accuracy: 0.8553 - val_loss: 0.3458 - val_accuracy: 0.8635\n",
      "Epoch 4/5\n",
      "250/250 [==============================] - ETA: 0s - loss: 0.2897 - accuracy: 0.84 - ETA: 0s - loss: 0.3399 - accuracy: 0.85 - ETA: 0s - loss: 0.3344 - accuracy: 0.86 - ETA: 0s - loss: 0.3397 - accuracy: 0.86 - ETA: 0s - loss: 0.3437 - accuracy: 0.85 - 0s 1ms/step - loss: 0.3450 - accuracy: 0.8589 - val_loss: 0.3466 - val_accuracy: 0.8540\n",
      "Epoch 5/5\n",
      "250/250 [==============================] - ETA: 0s - loss: 0.2789 - accuracy: 0.90 - ETA: 0s - loss: 0.3453 - accuracy: 0.85 - ETA: 0s - loss: 0.3499 - accuracy: 0.85 - ETA: 0s - loss: 0.3452 - accuracy: 0.85 - ETA: 0s - loss: 0.3436 - accuracy: 0.85 - ETA: 0s - loss: 0.3414 - accuracy: 0.85 - 0s 1ms/step - loss: 0.3388 - accuracy: 0.8593 - val_loss: 0.3433 - val_accuracy: 0.8635\n",
      "Epoch 1/5\n",
      "202/250 [=======================>......] - ETA: 0s - loss: 0.7187 - accuracy: 0.28 - ETA: 0s - loss: 0.6034 - accuracy: 0.73 - ETA: 0s - loss: 0.5375 - accuracy: 0.77 - ETA: 0s - loss: 0.5101 - accuracy: 0.78 - ETA: 0s - loss: 0.4908 - accuracy: 0.7867WARNING:tensorflow:Callbacks method `on_test_batch_begin` is slow compared to the batch time (batch time: 0.0003s vs `on_test_batch_begin` time: 0.0010s). Check your callbacks.\n",
      "250/250 [==============================] - 0s 2ms/step - loss: 0.4788 - accuracy: 0.7925 - val_loss: 0.4172 - val_accuracy: 0.8230\n",
      "Epoch 2/5\n",
      "250/250 [==============================] - ETA: 0s - loss: 0.5841 - accuracy: 0.75 - ETA: 0s - loss: 0.4030 - accuracy: 0.83 - ETA: 0s - loss: 0.4154 - accuracy: 0.82 - ETA: 0s - loss: 0.4143 - accuracy: 0.82 - ETA: 0s - loss: 0.4075 - accuracy: 0.82 - ETA: 0s - loss: 0.4027 - accuracy: 0.83 - 0s 1ms/step - loss: 0.4018 - accuracy: 0.8328 - val_loss: 0.3713 - val_accuracy: 0.8560\n",
      "Epoch 3/5\n",
      "250/250 [==============================] - ETA: 0s - loss: 0.4175 - accuracy: 0.75 - ETA: 0s - loss: 0.3605 - accuracy: 0.85 - ETA: 0s - loss: 0.3792 - accuracy: 0.84 - ETA: 0s - loss: 0.3681 - accuracy: 0.85 - ETA: 0s - loss: 0.3654 - accuracy: 0.85 - 0s 1ms/step - loss: 0.3625 - accuracy: 0.8554 - val_loss: 0.3463 - val_accuracy: 0.8640\n",
      "Epoch 4/5\n",
      "250/250 [==============================] - ETA: 0s - loss: 0.3486 - accuracy: 0.84 - ETA: 0s - loss: 0.3404 - accuracy: 0.86 - ETA: 0s - loss: 0.3427 - accuracy: 0.85 - ETA: 0s - loss: 0.3465 - accuracy: 0.85 - ETA: 0s - loss: 0.3495 - accuracy: 0.85 - ETA: 0s - loss: 0.3470 - accuracy: 0.85 - 0s 1ms/step - loss: 0.3477 - accuracy: 0.8574 - val_loss: 0.3430 - val_accuracy: 0.8665\n",
      "Epoch 5/5\n",
      "250/250 [==============================] - ETA: 0s - loss: 0.2090 - accuracy: 0.90 - ETA: 0s - loss: 0.3398 - accuracy: 0.86 - ETA: 0s - loss: 0.3458 - accuracy: 0.85 - ETA: 0s - loss: 0.3458 - accuracy: 0.85 - ETA: 0s - loss: 0.3392 - accuracy: 0.85 - ETA: 0s - loss: 0.3397 - accuracy: 0.85 - 0s 1ms/step - loss: 0.3396 - accuracy: 0.8594 - val_loss: 0.3416 - val_accuracy: 0.8635\n"
     ]
    },
    {
     "data": {
      "text/html": [
       "<span style=\"color:#4527A0\"><h1 style=\"font-size:18px\">Trial complete</h1></span>"
      ],
      "text/plain": [
       "<IPython.core.display.HTML object>"
      ]
     },
     "metadata": {},
     "output_type": "display_data"
    },
    {
     "data": {
      "text/html": [
       "<span style=\"color:#4527A0\"><h1 style=\"font-size:18px\">Trial summary</h1></span>"
      ],
      "text/plain": [
       "<IPython.core.display.HTML object>"
      ]
     },
     "metadata": {},
     "output_type": "display_data"
    },
    {
     "data": {
      "text/html": [
       "<span style=\"color:cyan\"> |-Trial ID: c439278a3b8d6a1e526bf994b4e0616c</span>"
      ],
      "text/plain": [
       "<IPython.core.display.HTML object>"
      ]
     },
     "metadata": {},
     "output_type": "display_data"
    },
    {
     "data": {
      "text/html": [
       "<span style=\"color:cyan\"> |-Score: 0.8638333479563395</span>"
      ],
      "text/plain": [
       "<IPython.core.display.HTML object>"
      ]
     },
     "metadata": {},
     "output_type": "display_data"
    },
    {
     "data": {
      "text/html": [
       "<span style=\"color:cyan\"> |-Best step: 0</span>"
      ],
      "text/plain": [
       "<IPython.core.display.HTML object>"
      ]
     },
     "metadata": {},
     "output_type": "display_data"
    },
    {
     "data": {
      "text/html": [
       "<span style=\"color:#7E57C2\"><h2 style=\"font-size:16px\">Hyperparameters:</h2></span>"
      ],
      "text/plain": [
       "<IPython.core.display.HTML object>"
      ]
     },
     "metadata": {},
     "output_type": "display_data"
    },
    {
     "data": {
      "text/html": [
       "<span style=\"color:cyan\"> |-learning_rate: 0.0001</span>"
      ],
      "text/plain": [
       "<IPython.core.display.HTML object>"
      ]
     },
     "metadata": {},
     "output_type": "display_data"
    },
    {
     "data": {
      "text/html": [
       "<span style=\"color:blue\"> |-num_layers: 3</span>"
      ],
      "text/plain": [
       "<IPython.core.display.HTML object>"
      ]
     },
     "metadata": {},
     "output_type": "display_data"
    },
    {
     "data": {
      "text/html": [
       "<span style=\"color:cyan\"> |-units_0: 512</span>"
      ],
      "text/plain": [
       "<IPython.core.display.HTML object>"
      ]
     },
     "metadata": {},
     "output_type": "display_data"
    },
    {
     "data": {
      "text/html": [
       "<span style=\"color:blue\"> |-units_1: 128</span>"
      ],
      "text/plain": [
       "<IPython.core.display.HTML object>"
      ]
     },
     "metadata": {},
     "output_type": "display_data"
    },
    {
     "data": {
      "text/html": [
       "<span style=\"color:cyan\"> |-units_10: 416</span>"
      ],
      "text/plain": [
       "<IPython.core.display.HTML object>"
      ]
     },
     "metadata": {},
     "output_type": "display_data"
    },
    {
     "data": {
      "text/html": [
       "<span style=\"color:blue\"> |-units_11: 352</span>"
      ],
      "text/plain": [
       "<IPython.core.display.HTML object>"
      ]
     },
     "metadata": {},
     "output_type": "display_data"
    },
    {
     "data": {
      "text/html": [
       "<span style=\"color:cyan\"> |-units_12: 416</span>"
      ],
      "text/plain": [
       "<IPython.core.display.HTML object>"
      ]
     },
     "metadata": {},
     "output_type": "display_data"
    },
    {
     "data": {
      "text/html": [
       "<span style=\"color:blue\"> |-units_13: 320</span>"
      ],
      "text/plain": [
       "<IPython.core.display.HTML object>"
      ]
     },
     "metadata": {},
     "output_type": "display_data"
    },
    {
     "data": {
      "text/html": [
       "<span style=\"color:cyan\"> |-units_14: 448</span>"
      ],
      "text/plain": [
       "<IPython.core.display.HTML object>"
      ]
     },
     "metadata": {},
     "output_type": "display_data"
    },
    {
     "data": {
      "text/html": [
       "<span style=\"color:blue\"> |-units_15: 64</span>"
      ],
      "text/plain": [
       "<IPython.core.display.HTML object>"
      ]
     },
     "metadata": {},
     "output_type": "display_data"
    },
    {
     "data": {
      "text/html": [
       "<span style=\"color:cyan\"> |-units_16: 384</span>"
      ],
      "text/plain": [
       "<IPython.core.display.HTML object>"
      ]
     },
     "metadata": {},
     "output_type": "display_data"
    },
    {
     "data": {
      "text/html": [
       "<span style=\"color:blue\"> |-units_17: 288</span>"
      ],
      "text/plain": [
       "<IPython.core.display.HTML object>"
      ]
     },
     "metadata": {},
     "output_type": "display_data"
    },
    {
     "data": {
      "text/html": [
       "<span style=\"color:cyan\"> |-units_2: 320</span>"
      ],
      "text/plain": [
       "<IPython.core.display.HTML object>"
      ]
     },
     "metadata": {},
     "output_type": "display_data"
    },
    {
     "data": {
      "text/html": [
       "<span style=\"color:blue\"> |-units_3: 384</span>"
      ],
      "text/plain": [
       "<IPython.core.display.HTML object>"
      ]
     },
     "metadata": {},
     "output_type": "display_data"
    },
    {
     "data": {
      "text/html": [
       "<span style=\"color:cyan\"> |-units_4: 128</span>"
      ],
      "text/plain": [
       "<IPython.core.display.HTML object>"
      ]
     },
     "metadata": {},
     "output_type": "display_data"
    },
    {
     "data": {
      "text/html": [
       "<span style=\"color:blue\"> |-units_5: 256</span>"
      ],
      "text/plain": [
       "<IPython.core.display.HTML object>"
      ]
     },
     "metadata": {},
     "output_type": "display_data"
    },
    {
     "data": {
      "text/html": [
       "<span style=\"color:cyan\"> |-units_6: 480</span>"
      ],
      "text/plain": [
       "<IPython.core.display.HTML object>"
      ]
     },
     "metadata": {},
     "output_type": "display_data"
    },
    {
     "data": {
      "text/html": [
       "<span style=\"color:blue\"> |-units_7: 256</span>"
      ],
      "text/plain": [
       "<IPython.core.display.HTML object>"
      ]
     },
     "metadata": {},
     "output_type": "display_data"
    },
    {
     "data": {
      "text/html": [
       "<span style=\"color:cyan\"> |-units_8: 64</span>"
      ],
      "text/plain": [
       "<IPython.core.display.HTML object>"
      ]
     },
     "metadata": {},
     "output_type": "display_data"
    },
    {
     "data": {
      "text/html": [
       "<span style=\"color:blue\"> |-units_9: 96</span>"
      ],
      "text/plain": [
       "<IPython.core.display.HTML object>"
      ]
     },
     "metadata": {},
     "output_type": "display_data"
    },
    {
     "name": "stdout",
     "output_type": "stream",
     "text": [
      "Epoch 1/5\n",
      "250/250 [==============================] - ETA: 0s - loss: 0.6968 - accuracy: 0.18 - ETA: 0s - loss: 0.6724 - accuracy: 0.74 - ETA: 0s - loss: 0.6230 - accuracy: 0.77 - ETA: 0s - loss: 0.5879 - accuracy: 0.78 - ETA: 0s - loss: 0.5619 - accuracy: 0.78 - ETA: 0s - loss: 0.5454 - accuracy: 0.78 - ETA: 0s - loss: 0.5337 - accuracy: 0.78 - ETA: 0s - loss: 0.5247 - accuracy: 0.78 - ETA: 0s - loss: 0.5163 - accuracy: 0.78 - ETA: 0s - loss: 0.5108 - accuracy: 0.78 - ETA: 0s - loss: 0.5026 - accuracy: 0.78 - ETA: 0s - loss: 0.4972 - accuracy: 0.78 - ETA: 0s - loss: 0.4914 - accuracy: 0.79 - ETA: 0s - loss: 0.4873 - accuracy: 0.79 - ETA: 0s - loss: 0.4803 - accuracy: 0.79 - ETA: 0s - loss: 0.4741 - accuracy: 0.80 - 1s 4ms/step - loss: 0.4708 - accuracy: 0.8011 - val_loss: 0.4015 - val_accuracy: 0.8365\n",
      "Epoch 2/5\n",
      "250/250 [==============================] - ETA: 0s - loss: 0.2821 - accuracy: 0.90 - ETA: 0s - loss: 0.4023 - accuracy: 0.83 - ETA: 0s - loss: 0.3857 - accuracy: 0.83 - ETA: 0s - loss: 0.3971 - accuracy: 0.82 - ETA: 0s - loss: 0.3851 - accuracy: 0.83 - ETA: 0s - loss: 0.3853 - accuracy: 0.83 - ETA: 0s - loss: 0.3856 - accuracy: 0.83 - ETA: 0s - loss: 0.3747 - accuracy: 0.83 - ETA: 0s - loss: 0.3699 - accuracy: 0.83 - ETA: 0s - loss: 0.3719 - accuracy: 0.83 - ETA: 0s - loss: 0.3727 - accuracy: 0.84 - ETA: 0s - loss: 0.3707 - accuracy: 0.84 - ETA: 0s - loss: 0.3688 - accuracy: 0.84 - ETA: 0s - loss: 0.3696 - accuracy: 0.84 - ETA: 0s - loss: 0.3684 - accuracy: 0.84 - ETA: 0s - loss: 0.3675 - accuracy: 0.84 - 1s 4ms/step - loss: 0.3679 - accuracy: 0.8443 - val_loss: 0.3478 - val_accuracy: 0.8560\n",
      "Epoch 3/5\n",
      "250/250 [==============================] - ETA: 0s - loss: 0.3071 - accuracy: 0.84 - ETA: 0s - loss: 0.3282 - accuracy: 0.85 - ETA: 0s - loss: 0.3443 - accuracy: 0.85 - ETA: 0s - loss: 0.3331 - accuracy: 0.86 - ETA: 0s - loss: 0.3363 - accuracy: 0.86 - ETA: 0s - loss: 0.3385 - accuracy: 0.85 - ETA: 0s - loss: 0.3424 - accuracy: 0.85 - ETA: 0s - loss: 0.3415 - accuracy: 0.85 - ETA: 0s - loss: 0.3408 - accuracy: 0.85 - ETA: 0s - loss: 0.3393 - accuracy: 0.86 - ETA: 0s - loss: 0.3388 - accuracy: 0.86 - ETA: 0s - loss: 0.3441 - accuracy: 0.85 - ETA: 0s - loss: 0.3460 - accuracy: 0.85 - ETA: 0s - loss: 0.3430 - accuracy: 0.85 - ETA: 0s - loss: 0.3403 - accuracy: 0.86 - ETA: 0s - loss: 0.3388 - accuracy: 0.86 - ETA: 0s - loss: 0.3391 - accuracy: 0.86 - ETA: 0s - loss: 0.3400 - accuracy: 0.86 - 1s 4ms/step - loss: 0.3396 - accuracy: 0.8615 - val_loss: 0.3503 - val_accuracy: 0.8585\n",
      "Epoch 4/5\n",
      "250/250 [==============================] - ETA: 0s - loss: 0.4071 - accuracy: 0.84 - ETA: 1s - loss: 0.3242 - accuracy: 0.88 - ETA: 0s - loss: 0.3329 - accuracy: 0.87 - ETA: 0s - loss: 0.3316 - accuracy: 0.87 - ETA: 0s - loss: 0.3333 - accuracy: 0.86 - ETA: 0s - loss: 0.3350 - accuracy: 0.86 - ETA: 0s - loss: 0.3409 - accuracy: 0.86 - ETA: 0s - loss: 0.3405 - accuracy: 0.86 - ETA: 0s - loss: 0.3369 - accuracy: 0.86 - ETA: 0s - loss: 0.3407 - accuracy: 0.86 - ETA: 0s - loss: 0.3349 - accuracy: 0.86 - ETA: 0s - loss: 0.3343 - accuracy: 0.86 - ETA: 0s - loss: 0.3332 - accuracy: 0.86 - ETA: 0s - loss: 0.3330 - accuracy: 0.86 - ETA: 0s - loss: 0.3306 - accuracy: 0.86 - ETA: 0s - loss: 0.3288 - accuracy: 0.86 - ETA: 0s - loss: 0.3282 - accuracy: 0.86 - ETA: 0s - loss: 0.3310 - accuracy: 0.86 - 1s 4ms/step - loss: 0.3310 - accuracy: 0.8640 - val_loss: 0.3452 - val_accuracy: 0.8615\n",
      "Epoch 5/5\n",
      "250/250 [==============================] - ETA: 0s - loss: 0.2445 - accuracy: 0.90 - ETA: 0s - loss: 0.3340 - accuracy: 0.85 - ETA: 0s - loss: 0.3486 - accuracy: 0.85 - ETA: 0s - loss: 0.3281 - accuracy: 0.86 - ETA: 0s - loss: 0.3172 - accuracy: 0.87 - ETA: 0s - loss: 0.3200 - accuracy: 0.86 - ETA: 0s - loss: 0.3167 - accuracy: 0.86 - ETA: 0s - loss: 0.3215 - accuracy: 0.86 - ETA: 0s - loss: 0.3244 - accuracy: 0.86 - ETA: 0s - loss: 0.3229 - accuracy: 0.86 - ETA: 0s - loss: 0.3228 - accuracy: 0.86 - ETA: 0s - loss: 0.3258 - accuracy: 0.86 - ETA: 0s - loss: 0.3251 - accuracy: 0.86 - ETA: 0s - loss: 0.3215 - accuracy: 0.87 - ETA: 0s - loss: 0.3203 - accuracy: 0.87 - ETA: 0s - loss: 0.3211 - accuracy: 0.87 - ETA: 0s - loss: 0.3194 - accuracy: 0.87 - 1s 4ms/step - loss: 0.3192 - accuracy: 0.8730 - val_loss: 0.3407 - val_accuracy: 0.8635\n",
      "Epoch 1/5\n",
      "250/250 [==============================] - ETA: 0s - loss: 0.6903 - accuracy: 0.81 - ETA: 0s - loss: 0.6714 - accuracy: 0.77 - ETA: 0s - loss: 0.6188 - accuracy: 0.77 - ETA: 0s - loss: 0.5791 - accuracy: 0.78 - ETA: 0s - loss: 0.5566 - accuracy: 0.78 - ETA: 0s - loss: 0.5369 - accuracy: 0.79 - ETA: 0s - loss: 0.5300 - accuracy: 0.79 - ETA: 0s - loss: 0.5216 - accuracy: 0.78 - ETA: 0s - loss: 0.5166 - accuracy: 0.78 - ETA: 0s - loss: 0.5062 - accuracy: 0.78 - ETA: 0s - loss: 0.4966 - accuracy: 0.79 - ETA: 0s - loss: 0.4905 - accuracy: 0.79 - ETA: 0s - loss: 0.4820 - accuracy: 0.79 - ETA: 0s - loss: 0.4757 - accuracy: 0.79 - ETA: 0s - loss: 0.4701 - accuracy: 0.79 - ETA: 0s - loss: 0.4682 - accuracy: 0.79 - ETA: 0s - loss: 0.4634 - accuracy: 0.80 - ETA: 0s - loss: 0.4592 - accuracy: 0.80 - 1s 5ms/step - loss: 0.4591 - accuracy: 0.8050 - val_loss: 0.3855 - val_accuracy: 0.8415\n",
      "Epoch 2/5\n",
      "250/250 [==============================] - ETA: 0s - loss: 0.4285 - accuracy: 0.78 - ETA: 0s - loss: 0.3596 - accuracy: 0.83 - ETA: 0s - loss: 0.3735 - accuracy: 0.84 - ETA: 0s - loss: 0.3711 - accuracy: 0.84 - ETA: 0s - loss: 0.3746 - accuracy: 0.83 - ETA: 0s - loss: 0.3721 - accuracy: 0.84 - ETA: 0s - loss: 0.3718 - accuracy: 0.83 - ETA: 0s - loss: 0.3693 - accuracy: 0.83 - ETA: 0s - loss: 0.3691 - accuracy: 0.84 - ETA: 0s - loss: 0.3747 - accuracy: 0.83 - ETA: 0s - loss: 0.3712 - accuracy: 0.84 - ETA: 0s - loss: 0.3680 - accuracy: 0.84 - ETA: 0s - loss: 0.3677 - accuracy: 0.84 - ETA: 0s - loss: 0.3683 - accuracy: 0.84 - ETA: 0s - loss: 0.3688 - accuracy: 0.84 - ETA: 0s - loss: 0.3691 - accuracy: 0.84 - ETA: 0s - loss: 0.3663 - accuracy: 0.84 - ETA: 0s - loss: 0.3652 - accuracy: 0.84 - 1s 4ms/step - loss: 0.3666 - accuracy: 0.8471 - val_loss: 0.3684 - val_accuracy: 0.8505\n",
      "Epoch 3/5\n",
      "250/250 [==============================] - ETA: 0s - loss: 0.3577 - accuracy: 0.87 - ETA: 0s - loss: 0.2862 - accuracy: 0.88 - ETA: 0s - loss: 0.3187 - accuracy: 0.86 - ETA: 0s - loss: 0.3339 - accuracy: 0.86 - ETA: 0s - loss: 0.3466 - accuracy: 0.85 - ETA: 0s - loss: 0.3476 - accuracy: 0.85 - ETA: 0s - loss: 0.3536 - accuracy: 0.85 - ETA: 0s - loss: 0.3446 - accuracy: 0.85 - ETA: 0s - loss: 0.3396 - accuracy: 0.85 - ETA: 0s - loss: 0.3363 - accuracy: 0.86 - ETA: 0s - loss: 0.3342 - accuracy: 0.86 - ETA: 0s - loss: 0.3356 - accuracy: 0.86 - ETA: 0s - loss: 0.3371 - accuracy: 0.86 - ETA: 0s - loss: 0.3412 - accuracy: 0.86 - ETA: 0s - loss: 0.3443 - accuracy: 0.85 - ETA: 0s - loss: 0.3418 - accuracy: 0.85 - ETA: 0s - loss: 0.3436 - accuracy: 0.85 - ETA: 0s - loss: 0.3441 - accuracy: 0.85 - 1s 4ms/step - loss: 0.3439 - accuracy: 0.8584 - val_loss: 0.3479 - val_accuracy: 0.8585\n",
      "Epoch 4/5\n",
      "250/250 [==============================] - ETA: 0s - loss: 0.3737 - accuracy: 0.81 - ETA: 0s - loss: 0.3197 - accuracy: 0.85 - ETA: 0s - loss: 0.3079 - accuracy: 0.87 - ETA: 0s - loss: 0.3079 - accuracy: 0.86 - ETA: 0s - loss: 0.3133 - accuracy: 0.87 - ETA: 0s - loss: 0.3200 - accuracy: 0.86 - ETA: 0s - loss: 0.3187 - accuracy: 0.87 - ETA: 0s - loss: 0.3258 - accuracy: 0.86 - ETA: 0s - loss: 0.3243 - accuracy: 0.86 - ETA: 0s - loss: 0.3241 - accuracy: 0.86 - ETA: 0s - loss: 0.3239 - accuracy: 0.86 - ETA: 0s - loss: 0.3255 - accuracy: 0.86 - ETA: 0s - loss: 0.3261 - accuracy: 0.86 - ETA: 0s - loss: 0.3262 - accuracy: 0.86 - ETA: 0s - loss: 0.3269 - accuracy: 0.86 - ETA: 0s - loss: 0.3296 - accuracy: 0.86 - ETA: 0s - loss: 0.3302 - accuracy: 0.86 - ETA: 0s - loss: 0.3312 - accuracy: 0.86 - 1s 4ms/step - loss: 0.3315 - accuracy: 0.8645 - val_loss: 0.3579 - val_accuracy: 0.8550\n",
      "Epoch 5/5\n"
     ]
    },
    {
     "name": "stdout",
     "output_type": "stream",
     "text": [
      "250/250 [==============================] - ETA: 0s - loss: 0.2498 - accuracy: 0.90 - ETA: 0s - loss: 0.3198 - accuracy: 0.86 - ETA: 0s - loss: 0.3198 - accuracy: 0.87 - ETA: 0s - loss: 0.3310 - accuracy: 0.86 - ETA: 0s - loss: 0.3252 - accuracy: 0.86 - ETA: 0s - loss: 0.3285 - accuracy: 0.86 - ETA: 0s - loss: 0.3299 - accuracy: 0.86 - ETA: 0s - loss: 0.3356 - accuracy: 0.86 - ETA: 0s - loss: 0.3330 - accuracy: 0.86 - ETA: 0s - loss: 0.3318 - accuracy: 0.86 - ETA: 0s - loss: 0.3329 - accuracy: 0.86 - ETA: 0s - loss: 0.3280 - accuracy: 0.86 - ETA: 0s - loss: 0.3276 - accuracy: 0.86 - ETA: 0s - loss: 0.3258 - accuracy: 0.86 - ETA: 0s - loss: 0.3236 - accuracy: 0.86 - ETA: 0s - loss: 0.3252 - accuracy: 0.86 - ETA: 0s - loss: 0.3235 - accuracy: 0.86 - ETA: 0s - loss: 0.3227 - accuracy: 0.86 - ETA: 0s - loss: 0.3217 - accuracy: 0.86 - 1s 4ms/step - loss: 0.3211 - accuracy: 0.8696 - val_loss: 0.3511 - val_accuracy: 0.8605\n",
      "Epoch 1/5\n",
      "250/250 [==============================] - ETA: 0s - loss: 0.6945 - accuracy: 0.37 - ETA: 0s - loss: 0.6601 - accuracy: 0.77 - ETA: 0s - loss: 0.6077 - accuracy: 0.77 - ETA: 0s - loss: 0.5859 - accuracy: 0.77 - ETA: 0s - loss: 0.5581 - accuracy: 0.78 - ETA: 0s - loss: 0.5521 - accuracy: 0.78 - ETA: 0s - loss: 0.5355 - accuracy: 0.78 - ETA: 0s - loss: 0.5272 - accuracy: 0.78 - ETA: 0s - loss: 0.5181 - accuracy: 0.78 - ETA: 0s - loss: 0.5161 - accuracy: 0.78 - ETA: 0s - loss: 0.5123 - accuracy: 0.78 - ETA: 0s - loss: 0.5086 - accuracy: 0.78 - ETA: 0s - loss: 0.5002 - accuracy: 0.78 - ETA: 0s - loss: 0.4930 - accuracy: 0.78 - ETA: 0s - loss: 0.4847 - accuracy: 0.78 - ETA: 0s - loss: 0.4793 - accuracy: 0.79 - ETA: 0s - loss: 0.4736 - accuracy: 0.79 - ETA: 0s - loss: 0.4705 - accuracy: 0.79 - ETA: 0s - loss: 0.4671 - accuracy: 0.79 - 1s 5ms/step - loss: 0.4659 - accuracy: 0.7980 - val_loss: 0.4015 - val_accuracy: 0.8400\n",
      "Epoch 2/5\n",
      "250/250 [==============================] - ETA: 0s - loss: 0.3050 - accuracy: 0.90 - ETA: 0s - loss: 0.4335 - accuracy: 0.82 - ETA: 0s - loss: 0.3984 - accuracy: 0.83 - ETA: 0s - loss: 0.3913 - accuracy: 0.84 - ETA: 0s - loss: 0.3830 - accuracy: 0.84 - ETA: 0s - loss: 0.3819 - accuracy: 0.84 - ETA: 0s - loss: 0.3864 - accuracy: 0.84 - ETA: 0s - loss: 0.3796 - accuracy: 0.84 - ETA: 0s - loss: 0.3843 - accuracy: 0.84 - ETA: 0s - loss: 0.3857 - accuracy: 0.84 - ETA: 0s - loss: 0.3866 - accuracy: 0.84 - ETA: 0s - loss: 0.3848 - accuracy: 0.84 - ETA: 0s - loss: 0.3850 - accuracy: 0.84 - ETA: 0s - loss: 0.3849 - accuracy: 0.84 - ETA: 0s - loss: 0.3811 - accuracy: 0.84 - ETA: 0s - loss: 0.3797 - accuracy: 0.84 - ETA: 0s - loss: 0.3811 - accuracy: 0.84 - ETA: 0s - loss: 0.3803 - accuracy: 0.84 - 1s 4ms/step - loss: 0.3805 - accuracy: 0.8459 - val_loss: 0.3507 - val_accuracy: 0.8595\n",
      "Epoch 3/5\n",
      "250/250 [==============================] - ETA: 0s - loss: 0.1787 - accuracy: 1.00 - ETA: 0s - loss: 0.3497 - accuracy: 0.86 - ETA: 0s - loss: 0.3426 - accuracy: 0.86 - ETA: 0s - loss: 0.3623 - accuracy: 0.85 - ETA: 0s - loss: 0.3567 - accuracy: 0.85 - ETA: 0s - loss: 0.3547 - accuracy: 0.85 - ETA: 0s - loss: 0.3507 - accuracy: 0.86 - ETA: 0s - loss: 0.3570 - accuracy: 0.85 - ETA: 0s - loss: 0.3599 - accuracy: 0.85 - ETA: 0s - loss: 0.3602 - accuracy: 0.85 - ETA: 0s - loss: 0.3597 - accuracy: 0.85 - ETA: 0s - loss: 0.3526 - accuracy: 0.85 - ETA: 0s - loss: 0.3490 - accuracy: 0.86 - ETA: 0s - loss: 0.3503 - accuracy: 0.85 - ETA: 0s - loss: 0.3488 - accuracy: 0.85 - ETA: 0s - loss: 0.3476 - accuracy: 0.85 - ETA: 0s - loss: 0.3468 - accuracy: 0.86 - ETA: 0s - loss: 0.3460 - accuracy: 0.86 - 1s 4ms/step - loss: 0.3449 - accuracy: 0.8622 - val_loss: 0.3511 - val_accuracy: 0.8600\n",
      "Epoch 4/5\n",
      "250/250 [==============================] - ETA: 0s - loss: 0.2642 - accuracy: 0.90 - ETA: 0s - loss: 0.3370 - accuracy: 0.87 - ETA: 0s - loss: 0.3525 - accuracy: 0.86 - ETA: 0s - loss: 0.3544 - accuracy: 0.85 - ETA: 0s - loss: 0.3520 - accuracy: 0.85 - ETA: 0s - loss: 0.3368 - accuracy: 0.86 - ETA: 0s - loss: 0.3297 - accuracy: 0.86 - ETA: 0s - loss: 0.3248 - accuracy: 0.87 - ETA: 0s - loss: 0.3223 - accuracy: 0.87 - ETA: 0s - loss: 0.3208 - accuracy: 0.87 - ETA: 0s - loss: 0.3262 - accuracy: 0.87 - ETA: 0s - loss: 0.3307 - accuracy: 0.86 - ETA: 0s - loss: 0.3301 - accuracy: 0.86 - ETA: 0s - loss: 0.3331 - accuracy: 0.86 - ETA: 0s - loss: 0.3349 - accuracy: 0.86 - ETA: 0s - loss: 0.3346 - accuracy: 0.86 - ETA: 0s - loss: 0.3348 - accuracy: 0.86 - ETA: 0s - loss: 0.3343 - accuracy: 0.86 - ETA: 0s - loss: 0.3323 - accuracy: 0.86 - ETA: 0s - loss: 0.3329 - accuracy: 0.86 - ETA: 0s - loss: 0.3333 - accuracy: 0.86 - 1s 4ms/step - loss: 0.3326 - accuracy: 0.8644 - val_loss: 0.3523 - val_accuracy: 0.8520\n",
      "Epoch 5/5\n",
      "250/250 [==============================] - ETA: 0s - loss: 0.2801 - accuracy: 0.90 - ETA: 0s - loss: 0.3244 - accuracy: 0.87 - ETA: 0s - loss: 0.3265 - accuracy: 0.87 - ETA: 0s - loss: 0.3137 - accuracy: 0.87 - ETA: 0s - loss: 0.3212 - accuracy: 0.87 - ETA: 0s - loss: 0.3221 - accuracy: 0.87 - ETA: 0s - loss: 0.3174 - accuracy: 0.87 - ETA: 0s - loss: 0.3197 - accuracy: 0.87 - ETA: 0s - loss: 0.3105 - accuracy: 0.87 - ETA: 0s - loss: 0.3174 - accuracy: 0.87 - ETA: 0s - loss: 0.3150 - accuracy: 0.87 - ETA: 0s - loss: 0.3169 - accuracy: 0.87 - ETA: 0s - loss: 0.3155 - accuracy: 0.87 - ETA: 0s - loss: 0.3154 - accuracy: 0.87 - ETA: 0s - loss: 0.3154 - accuracy: 0.87 - ETA: 0s - loss: 0.3169 - accuracy: 0.87 - ETA: 0s - loss: 0.3154 - accuracy: 0.87 - ETA: 0s - loss: 0.3174 - accuracy: 0.87 - 1s 4ms/step - loss: 0.3188 - accuracy: 0.8711 - val_loss: 0.3604 - val_accuracy: 0.8565\n"
     ]
    },
    {
     "data": {
      "text/html": [
       "<span style=\"color:#4527A0\"><h1 style=\"font-size:18px\">Trial complete</h1></span>"
      ],
      "text/plain": [
       "<IPython.core.display.HTML object>"
      ]
     },
     "metadata": {},
     "output_type": "display_data"
    },
    {
     "data": {
      "text/html": [
       "<span style=\"color:#4527A0\"><h1 style=\"font-size:18px\">Trial summary</h1></span>"
      ],
      "text/plain": [
       "<IPython.core.display.HTML object>"
      ]
     },
     "metadata": {},
     "output_type": "display_data"
    },
    {
     "data": {
      "text/html": [
       "<span style=\"color:cyan\"> |-Trial ID: 1e94b049971eb232d401c9d141205b0e</span>"
      ],
      "text/plain": [
       "<IPython.core.display.HTML object>"
      ]
     },
     "metadata": {},
     "output_type": "display_data"
    },
    {
     "data": {
      "text/html": [
       "<span style=\"color:cyan\"> |-Score: 0.8613333304723104</span>"
      ],
      "text/plain": [
       "<IPython.core.display.HTML object>"
      ]
     },
     "metadata": {},
     "output_type": "display_data"
    },
    {
     "data": {
      "text/html": [
       "<span style=\"color:cyan\"> |-Best step: 0</span>"
      ],
      "text/plain": [
       "<IPython.core.display.HTML object>"
      ]
     },
     "metadata": {},
     "output_type": "display_data"
    },
    {
     "data": {
      "text/html": [
       "<span style=\"color:#7E57C2\"><h2 style=\"font-size:16px\">Hyperparameters:</h2></span>"
      ],
      "text/plain": [
       "<IPython.core.display.HTML object>"
      ]
     },
     "metadata": {},
     "output_type": "display_data"
    },
    {
     "data": {
      "text/html": [
       "<span style=\"color:cyan\"> |-learning_rate: 0.0001</span>"
      ],
      "text/plain": [
       "<IPython.core.display.HTML object>"
      ]
     },
     "metadata": {},
     "output_type": "display_data"
    },
    {
     "data": {
      "text/html": [
       "<span style=\"color:blue\"> |-num_layers: 10</span>"
      ],
      "text/plain": [
       "<IPython.core.display.HTML object>"
      ]
     },
     "metadata": {},
     "output_type": "display_data"
    },
    {
     "data": {
      "text/html": [
       "<span style=\"color:cyan\"> |-units_0: 128</span>"
      ],
      "text/plain": [
       "<IPython.core.display.HTML object>"
      ]
     },
     "metadata": {},
     "output_type": "display_data"
    },
    {
     "data": {
      "text/html": [
       "<span style=\"color:blue\"> |-units_1: 256</span>"
      ],
      "text/plain": [
       "<IPython.core.display.HTML object>"
      ]
     },
     "metadata": {},
     "output_type": "display_data"
    },
    {
     "data": {
      "text/html": [
       "<span style=\"color:cyan\"> |-units_10: 160</span>"
      ],
      "text/plain": [
       "<IPython.core.display.HTML object>"
      ]
     },
     "metadata": {},
     "output_type": "display_data"
    },
    {
     "data": {
      "text/html": [
       "<span style=\"color:blue\"> |-units_11: 160</span>"
      ],
      "text/plain": [
       "<IPython.core.display.HTML object>"
      ]
     },
     "metadata": {},
     "output_type": "display_data"
    },
    {
     "data": {
      "text/html": [
       "<span style=\"color:cyan\"> |-units_12: 384</span>"
      ],
      "text/plain": [
       "<IPython.core.display.HTML object>"
      ]
     },
     "metadata": {},
     "output_type": "display_data"
    },
    {
     "data": {
      "text/html": [
       "<span style=\"color:blue\"> |-units_13: 320</span>"
      ],
      "text/plain": [
       "<IPython.core.display.HTML object>"
      ]
     },
     "metadata": {},
     "output_type": "display_data"
    },
    {
     "data": {
      "text/html": [
       "<span style=\"color:cyan\"> |-units_14: 320</span>"
      ],
      "text/plain": [
       "<IPython.core.display.HTML object>"
      ]
     },
     "metadata": {},
     "output_type": "display_data"
    },
    {
     "data": {
      "text/html": [
       "<span style=\"color:blue\"> |-units_15: 256</span>"
      ],
      "text/plain": [
       "<IPython.core.display.HTML object>"
      ]
     },
     "metadata": {},
     "output_type": "display_data"
    },
    {
     "data": {
      "text/html": [
       "<span style=\"color:cyan\"> |-units_16: 224</span>"
      ],
      "text/plain": [
       "<IPython.core.display.HTML object>"
      ]
     },
     "metadata": {},
     "output_type": "display_data"
    },
    {
     "data": {
      "text/html": [
       "<span style=\"color:blue\"> |-units_17: 384</span>"
      ],
      "text/plain": [
       "<IPython.core.display.HTML object>"
      ]
     },
     "metadata": {},
     "output_type": "display_data"
    },
    {
     "data": {
      "text/html": [
       "<span style=\"color:cyan\"> |-units_2: 224</span>"
      ],
      "text/plain": [
       "<IPython.core.display.HTML object>"
      ]
     },
     "metadata": {},
     "output_type": "display_data"
    },
    {
     "data": {
      "text/html": [
       "<span style=\"color:blue\"> |-units_3: 320</span>"
      ],
      "text/plain": [
       "<IPython.core.display.HTML object>"
      ]
     },
     "metadata": {},
     "output_type": "display_data"
    },
    {
     "data": {
      "text/html": [
       "<span style=\"color:cyan\"> |-units_4: 320</span>"
      ],
      "text/plain": [
       "<IPython.core.display.HTML object>"
      ]
     },
     "metadata": {},
     "output_type": "display_data"
    },
    {
     "data": {
      "text/html": [
       "<span style=\"color:blue\"> |-units_5: 224</span>"
      ],
      "text/plain": [
       "<IPython.core.display.HTML object>"
      ]
     },
     "metadata": {},
     "output_type": "display_data"
    },
    {
     "data": {
      "text/html": [
       "<span style=\"color:cyan\"> |-units_6: 192</span>"
      ],
      "text/plain": [
       "<IPython.core.display.HTML object>"
      ]
     },
     "metadata": {},
     "output_type": "display_data"
    },
    {
     "data": {
      "text/html": [
       "<span style=\"color:blue\"> |-units_7: 352</span>"
      ],
      "text/plain": [
       "<IPython.core.display.HTML object>"
      ]
     },
     "metadata": {},
     "output_type": "display_data"
    },
    {
     "data": {
      "text/html": [
       "<span style=\"color:cyan\"> |-units_8: 224</span>"
      ],
      "text/plain": [
       "<IPython.core.display.HTML object>"
      ]
     },
     "metadata": {},
     "output_type": "display_data"
    },
    {
     "data": {
      "text/html": [
       "<span style=\"color:blue\"> |-units_9: 288</span>"
      ],
      "text/plain": [
       "<IPython.core.display.HTML object>"
      ]
     },
     "metadata": {},
     "output_type": "display_data"
    },
    {
     "name": "stdout",
     "output_type": "stream",
     "text": [
      "Epoch 1/5\n",
      "250/250 [==============================] - ETA: 0s - loss: 0.6815 - accuracy: 0.93 - ETA: 0s - loss: 1.1579 - accuracy: 0.81 - ETA: 0s - loss: 0.8133 - accuracy: 0.81 - ETA: 0s - loss: 0.6957 - accuracy: 0.80 - ETA: 0s - loss: 0.6456 - accuracy: 0.80 - ETA: 0s - loss: 0.6136 - accuracy: 0.80 - ETA: 0s - loss: 0.5955 - accuracy: 0.80 - ETA: 0s - loss: 0.5745 - accuracy: 0.80 - ETA: 0s - loss: 0.5580 - accuracy: 0.80 - ETA: 0s - loss: 0.5410 - accuracy: 0.80 - ETA: 0s - loss: 0.5307 - accuracy: 0.80 - ETA: 0s - loss: 0.5204 - accuracy: 0.81 - ETA: 0s - loss: 0.5078 - accuracy: 0.81 - ETA: 0s - loss: 0.5060 - accuracy: 0.81 - ETA: 0s - loss: 0.5013 - accuracy: 0.81 - ETA: 0s - loss: 0.4959 - accuracy: 0.81 - ETA: 0s - loss: 0.4935 - accuracy: 0.81 - ETA: 0s - loss: 0.4884 - accuracy: 0.81 - ETA: 0s - loss: 0.4860 - accuracy: 0.81 - 1s 5ms/step - loss: 0.4860 - accuracy: 0.8156 - val_loss: 0.4007 - val_accuracy: 0.8310\n",
      "Epoch 2/5\n",
      "250/250 [==============================] - ETA: 0s - loss: 0.3296 - accuracy: 0.93 - ETA: 0s - loss: 0.3922 - accuracy: 0.83 - ETA: 0s - loss: 0.3689 - accuracy: 0.84 - ETA: 0s - loss: 0.3710 - accuracy: 0.85 - ETA: 0s - loss: 0.3702 - accuracy: 0.85 - ETA: 0s - loss: 0.3640 - accuracy: 0.85 - ETA: 0s - loss: 0.3676 - accuracy: 0.85 - ETA: 0s - loss: 0.3702 - accuracy: 0.84 - ETA: 0s - loss: 0.3846 - accuracy: 0.83 - ETA: 0s - loss: 0.3879 - accuracy: 0.83 - ETA: 0s - loss: 0.3886 - accuracy: 0.83 - ETA: 0s - loss: 0.3910 - accuracy: 0.83 - ETA: 0s - loss: 0.3907 - accuracy: 0.83 - ETA: 0s - loss: 0.3917 - accuracy: 0.83 - ETA: 0s - loss: 0.3890 - accuracy: 0.84 - ETA: 0s - loss: 0.3890 - accuracy: 0.84 - ETA: 0s - loss: 0.3859 - accuracy: 0.84 - ETA: 0s - loss: 0.3860 - accuracy: 0.84 - 1s 4ms/step - loss: 0.3854 - accuracy: 0.8425 - val_loss: 0.3985 - val_accuracy: 0.8535\n",
      "Epoch 3/5\n",
      "250/250 [==============================] - ETA: 0s - loss: 0.3492 - accuracy: 0.87 - ETA: 0s - loss: 0.8927 - accuracy: 0.84 - ETA: 0s - loss: 0.6980 - accuracy: 0.84 - ETA: 0s - loss: 0.6015 - accuracy: 0.85 - ETA: 0s - loss: 0.5469 - accuracy: 0.84 - ETA: 0s - loss: 0.5261 - accuracy: 0.84 - ETA: 0s - loss: 0.5067 - accuracy: 0.84 - ETA: 0s - loss: 0.4882 - accuracy: 0.84 - ETA: 0s - loss: 0.4694 - accuracy: 0.84 - ETA: 0s - loss: 0.4586 - accuracy: 0.84 - ETA: 0s - loss: 0.4488 - accuracy: 0.84 - ETA: 0s - loss: 0.4403 - accuracy: 0.84 - ETA: 0s - loss: 0.4343 - accuracy: 0.84 - ETA: 0s - loss: 0.4296 - accuracy: 0.84 - ETA: 0s - loss: 0.4269 - accuracy: 0.84 - ETA: 0s - loss: 0.4226 - accuracy: 0.84 - ETA: 0s - loss: 0.4207 - accuracy: 0.84 - ETA: 0s - loss: 0.4206 - accuracy: 0.84 - ETA: 0s - loss: 0.4178 - accuracy: 0.84 - 1s 4ms/step - loss: 0.4170 - accuracy: 0.8432 - val_loss: 0.3641 - val_accuracy: 0.8490\n",
      "Epoch 4/5\n",
      "250/250 [==============================] - ETA: 0s - loss: 0.3403 - accuracy: 0.81 - ETA: 0s - loss: 0.3548 - accuracy: 0.86 - ETA: 0s - loss: 0.3495 - accuracy: 0.85 - ETA: 0s - loss: 0.3754 - accuracy: 0.84 - ETA: 0s - loss: 0.3701 - accuracy: 0.84 - ETA: 0s - loss: 0.3685 - accuracy: 0.84 - ETA: 0s - loss: 0.3653 - accuracy: 0.84 - ETA: 0s - loss: 0.3569 - accuracy: 0.85 - ETA: 0s - loss: 0.3542 - accuracy: 0.85 - ETA: 0s - loss: 0.3552 - accuracy: 0.85 - ETA: 0s - loss: 0.3618 - accuracy: 0.85 - ETA: 0s - loss: 0.3611 - accuracy: 0.84 - ETA: 0s - loss: 0.3614 - accuracy: 0.85 - ETA: 0s - loss: 0.3622 - accuracy: 0.84 - ETA: 0s - loss: 0.3614 - accuracy: 0.84 - ETA: 0s - loss: 0.3607 - accuracy: 0.85 - ETA: 0s - loss: 0.3602 - accuracy: 0.85 - ETA: 0s - loss: 0.3630 - accuracy: 0.85 - ETA: 0s - loss: 0.3653 - accuracy: 0.84 - ETA: 0s - loss: 0.3663 - accuracy: 0.84 - 1s 4ms/step - loss: 0.3660 - accuracy: 0.8481 - val_loss: 0.3757 - val_accuracy: 0.8210\n",
      "Epoch 5/5\n",
      "250/250 [==============================] - ETA: 0s - loss: 0.3566 - accuracy: 0.81 - ETA: 0s - loss: 0.4110 - accuracy: 0.81 - ETA: 0s - loss: 0.4001 - accuracy: 0.82 - ETA: 0s - loss: 0.3878 - accuracy: 0.83 - ETA: 0s - loss: 0.3833 - accuracy: 0.84 - ETA: 0s - loss: 0.3869 - accuracy: 0.84 - ETA: 0s - loss: 0.3828 - accuracy: 0.84 - ETA: 0s - loss: 0.3884 - accuracy: 0.84 - ETA: 0s - loss: 0.3823 - accuracy: 0.84 - ETA: 0s - loss: 0.3778 - accuracy: 0.84 - ETA: 0s - loss: 0.3762 - accuracy: 0.84 - ETA: 0s - loss: 0.3735 - accuracy: 0.84 - ETA: 0s - loss: 0.3735 - accuracy: 0.84 - ETA: 0s - loss: 0.3715 - accuracy: 0.84 - ETA: 0s - loss: 0.3709 - accuracy: 0.85 - ETA: 0s - loss: 0.3705 - accuracy: 0.85 - ETA: 0s - loss: 0.3687 - accuracy: 0.85 - ETA: 0s - loss: 0.3687 - accuracy: 0.85 - ETA: 0s - loss: 0.3717 - accuracy: 0.85 - 1s 4ms/step - loss: 0.3707 - accuracy: 0.8515 - val_loss: 0.3943 - val_accuracy: 0.8575\n",
      "Epoch 1/5\n",
      "250/250 [==============================] - ETA: 0s - loss: 0.6992 - accuracy: 0.18 - ETA: 0s - loss: 0.6654 - accuracy: 0.74 - ETA: 0s - loss: 0.5918 - accuracy: 0.76 - ETA: 0s - loss: 0.5470 - accuracy: 0.77 - ETA: 0s - loss: 0.5390 - accuracy: 0.78 - ETA: 0s - loss: 0.5334 - accuracy: 0.77 - ETA: 0s - loss: 0.5184 - accuracy: 0.77 - ETA: 0s - loss: 0.5142 - accuracy: 0.78 - ETA: 0s - loss: 0.5148 - accuracy: 0.78 - ETA: 0s - loss: 0.5142 - accuracy: 0.78 - ETA: 0s - loss: 0.5129 - accuracy: 0.78 - ETA: 0s - loss: 0.5103 - accuracy: 0.78 - ETA: 0s - loss: 0.5052 - accuracy: 0.78 - ETA: 0s - loss: 0.5004 - accuracy: 0.78 - ETA: 0s - loss: 0.4923 - accuracy: 0.79 - ETA: 0s - loss: 0.4876 - accuracy: 0.79 - ETA: 0s - loss: 0.4869 - accuracy: 0.79 - ETA: 0s - loss: 0.4848 - accuracy: 0.79 - 1s 5ms/step - loss: 0.4843 - accuracy: 0.7925 - val_loss: 0.4600 - val_accuracy: 0.8220\n",
      "Epoch 2/5\n",
      "250/250 [==============================] - ETA: 0s - loss: 0.4529 - accuracy: 0.84 - ETA: 0s - loss: 0.4694 - accuracy: 0.80 - ETA: 0s - loss: 0.4489 - accuracy: 0.80 - ETA: 0s - loss: 0.4143 - accuracy: 0.82 - ETA: 0s - loss: 0.4192 - accuracy: 0.82 - ETA: 0s - loss: 0.4348 - accuracy: 0.82 - ETA: 0s - loss: 0.4425 - accuracy: 0.81 - ETA: 0s - loss: 0.4388 - accuracy: 0.82 - ETA: 0s - loss: 0.4363 - accuracy: 0.82 - ETA: 0s - loss: 0.4267 - accuracy: 0.82 - ETA: 0s - loss: 0.4213 - accuracy: 0.82 - ETA: 0s - loss: 0.4149 - accuracy: 0.83 - ETA: 0s - loss: 0.4118 - accuracy: 0.83 - ETA: 0s - loss: 0.4118 - accuracy: 0.83 - ETA: 0s - loss: 0.4123 - accuracy: 0.83 - ETA: 0s - loss: 0.4111 - accuracy: 0.83 - ETA: 0s - loss: 0.4079 - accuracy: 0.83 - ETA: 0s - loss: 0.4054 - accuracy: 0.83 - 1s 4ms/step - loss: 0.4060 - accuracy: 0.8372 - val_loss: 0.4421 - val_accuracy: 0.8385\n",
      "Epoch 3/5\n",
      "250/250 [==============================] - ETA: 0s - loss: 0.4066 - accuracy: 0.87 - ETA: 0s - loss: 0.4368 - accuracy: 0.82 - ETA: 0s - loss: 0.4212 - accuracy: 0.83 - ETA: 0s - loss: 0.4080 - accuracy: 0.83 - ETA: 0s - loss: 0.4167 - accuracy: 0.82 - ETA: 0s - loss: 0.4066 - accuracy: 0.82 - ETA: 0s - loss: 0.4078 - accuracy: 0.82 - ETA: 0s - loss: 0.4080 - accuracy: 0.82 - ETA: 0s - loss: 0.4048 - accuracy: 0.83 - ETA: 0s - loss: 0.4046 - accuracy: 0.83 - ETA: 0s - loss: 0.4017 - accuracy: 0.83 - ETA: 0s - loss: 0.4015 - accuracy: 0.83 - ETA: 0s - loss: 0.4047 - accuracy: 0.83 - ETA: 0s - loss: 0.4051 - accuracy: 0.83 - ETA: 0s - loss: 0.4039 - accuracy: 0.83 - ETA: 0s - loss: 0.4043 - accuracy: 0.83 - ETA: 0s - loss: 0.4038 - accuracy: 0.83 - ETA: 0s - loss: 0.4019 - accuracy: 0.83 - ETA: 0s - loss: 0.4038 - accuracy: 0.83 - ETA: 0s - loss: 0.4043 - accuracy: 0.83 - 1s 4ms/step - loss: 0.4044 - accuracy: 0.8354 - val_loss: 0.3754 - val_accuracy: 0.8480\n",
      "Epoch 4/5\n"
     ]
    },
    {
     "name": "stdout",
     "output_type": "stream",
     "text": [
      "250/250 [==============================] - ETA: 0s - loss: 0.4503 - accuracy: 0.75 - ETA: 1s - loss: 0.3616 - accuracy: 0.83 - ETA: 1s - loss: 0.4660 - accuracy: 0.84 - ETA: 0s - loss: 0.4322 - accuracy: 0.85 - ETA: 0s - loss: 0.4346 - accuracy: 0.84 - ETA: 0s - loss: 0.4306 - accuracy: 0.83 - ETA: 0s - loss: 0.4210 - accuracy: 0.84 - ETA: 0s - loss: 0.4323 - accuracy: 0.83 - ETA: 0s - loss: 0.4252 - accuracy: 0.83 - ETA: 0s - loss: 0.4209 - accuracy: 0.83 - ETA: 0s - loss: 0.4125 - accuracy: 0.83 - ETA: 0s - loss: 0.4113 - accuracy: 0.83 - ETA: 0s - loss: 0.4147 - accuracy: 0.83 - ETA: 0s - loss: 0.4119 - accuracy: 0.83 - ETA: 0s - loss: 0.4098 - accuracy: 0.83 - ETA: 0s - loss: 0.4046 - accuracy: 0.84 - ETA: 0s - loss: 0.4025 - accuracy: 0.84 - ETA: 0s - loss: 0.4028 - accuracy: 0.84 - ETA: 0s - loss: 0.4007 - accuracy: 0.84 - ETA: 0s - loss: 0.4027 - accuracy: 0.83 - ETA: 0s - loss: 0.4023 - accuracy: 0.84 - ETA: 0s - loss: 0.3998 - accuracy: 0.84 - 1s 5ms/step - loss: 0.3995 - accuracy: 0.8410 - val_loss: 0.3731 - val_accuracy: 0.8535\n",
      "Epoch 5/5\n",
      "250/250 [==============================] - ETA: 0s - loss: 0.3495 - accuracy: 0.84 - ETA: 0s - loss: 0.3746 - accuracy: 0.82 - ETA: 1s - loss: 0.3906 - accuracy: 0.83 - ETA: 1s - loss: 0.3964 - accuracy: 0.83 - ETA: 0s - loss: 0.4028 - accuracy: 0.83 - ETA: 0s - loss: 0.3981 - accuracy: 0.83 - ETA: 0s - loss: 0.3956 - accuracy: 0.83 - ETA: 0s - loss: 0.3928 - accuracy: 0.83 - ETA: 0s - loss: 0.3860 - accuracy: 0.84 - ETA: 0s - loss: 0.3801 - accuracy: 0.84 - ETA: 0s - loss: 0.3806 - accuracy: 0.84 - ETA: 0s - loss: 0.3783 - accuracy: 0.84 - ETA: 0s - loss: 0.3765 - accuracy: 0.84 - ETA: 0s - loss: 0.3738 - accuracy: 0.84 - ETA: 0s - loss: 0.3722 - accuracy: 0.84 - ETA: 0s - loss: 0.3711 - accuracy: 0.84 - ETA: 0s - loss: 0.3711 - accuracy: 0.85 - ETA: 0s - loss: 0.3696 - accuracy: 0.85 - ETA: 0s - loss: 0.3700 - accuracy: 0.85 - 1s 4ms/step - loss: 0.3699 - accuracy: 0.8509 - val_loss: 0.3770 - val_accuracy: 0.8420\n",
      "Epoch 1/5\n",
      "250/250 [==============================] - ETA: 0s - loss: 0.6890 - accuracy: 0.71 - ETA: 0s - loss: 0.9097 - accuracy: 0.78 - ETA: 0s - loss: 0.6810 - accuracy: 0.80 - ETA: 0s - loss: 0.6145 - accuracy: 0.79 - ETA: 0s - loss: 0.5771 - accuracy: 0.80 - ETA: 0s - loss: 0.5412 - accuracy: 0.80 - ETA: 0s - loss: 0.5344 - accuracy: 0.80 - ETA: 0s - loss: 0.5208 - accuracy: 0.80 - ETA: 0s - loss: 0.5134 - accuracy: 0.80 - ETA: 0s - loss: 0.5040 - accuracy: 0.80 - ETA: 0s - loss: 0.4996 - accuracy: 0.80 - ETA: 0s - loss: 0.4927 - accuracy: 0.80 - ETA: 0s - loss: 0.4861 - accuracy: 0.80 - ETA: 0s - loss: 0.4729 - accuracy: 0.81 - ETA: 0s - loss: 0.4721 - accuracy: 0.81 - ETA: 0s - loss: 0.4705 - accuracy: 0.81 - ETA: 0s - loss: 0.4675 - accuracy: 0.81 - ETA: 0s - loss: 0.4672 - accuracy: 0.80 - 1s 4ms/step - loss: 0.4667 - accuracy: 0.8090 - val_loss: 0.4393 - val_accuracy: 0.7975\n",
      "Epoch 2/5\n",
      "250/250 [==============================] - ETA: 0s - loss: 0.3481 - accuracy: 0.78 - ETA: 0s - loss: 0.4458 - accuracy: 0.79 - ETA: 0s - loss: 0.4343 - accuracy: 0.80 - ETA: 0s - loss: 0.4336 - accuracy: 0.80 - ETA: 0s - loss: 0.4312 - accuracy: 0.80 - ETA: 0s - loss: 0.4295 - accuracy: 0.81 - ETA: 0s - loss: 0.4279 - accuracy: 0.81 - ETA: 0s - loss: 0.4355 - accuracy: 0.81 - ETA: 0s - loss: 0.4405 - accuracy: 0.81 - ETA: 0s - loss: 0.4422 - accuracy: 0.81 - ETA: 0s - loss: 0.4341 - accuracy: 0.81 - ETA: 0s - loss: 0.4333 - accuracy: 0.81 - ETA: 0s - loss: 0.4322 - accuracy: 0.81 - ETA: 0s - loss: 0.4417 - accuracy: 0.80 - ETA: 0s - loss: 0.4387 - accuracy: 0.80 - ETA: 0s - loss: 0.4362 - accuracy: 0.80 - ETA: 0s - loss: 0.4361 - accuracy: 0.80 - ETA: 0s - loss: 0.4326 - accuracy: 0.80 - 1s 4ms/step - loss: 0.4329 - accuracy: 0.8079 - val_loss: 0.8832 - val_accuracy: 0.8260\n",
      "Epoch 3/5\n",
      "250/250 [==============================] - ETA: 0s - loss: 0.3108 - accuracy: 0.84 - ETA: 0s - loss: 0.7286 - accuracy: 0.82 - ETA: 0s - loss: 0.5709 - accuracy: 0.83 - ETA: 0s - loss: 0.5108 - accuracy: 0.83 - ETA: 0s - loss: 0.4855 - accuracy: 0.83 - ETA: 0s - loss: 0.4662 - accuracy: 0.83 - ETA: 0s - loss: 0.4611 - accuracy: 0.83 - ETA: 0s - loss: 0.4531 - accuracy: 0.83 - ETA: 0s - loss: 0.4409 - accuracy: 0.83 - ETA: 0s - loss: 0.4516 - accuracy: 0.83 - ETA: 0s - loss: 0.4540 - accuracy: 0.82 - ETA: 0s - loss: 0.4518 - accuracy: 0.82 - ETA: 0s - loss: 0.4513 - accuracy: 0.82 - ETA: 0s - loss: 0.4477 - accuracy: 0.82 - ETA: 0s - loss: 0.4442 - accuracy: 0.82 - ETA: 0s - loss: 0.4417 - accuracy: 0.82 - ETA: 0s - loss: 0.4387 - accuracy: 0.82 - ETA: 0s - loss: 0.4370 - accuracy: 0.82 - 1s 4ms/step - loss: 0.4353 - accuracy: 0.8270 - val_loss: 0.4095 - val_accuracy: 0.8080\n",
      "Epoch 4/5\n",
      "250/250 [==============================] - ETA: 0s - loss: 0.3874 - accuracy: 0.75 - ETA: 0s - loss: 0.3859 - accuracy: 0.81 - ETA: 0s - loss: 0.3965 - accuracy: 0.81 - ETA: 0s - loss: 0.3829 - accuracy: 0.82 - ETA: 0s - loss: 0.3936 - accuracy: 0.82 - ETA: 0s - loss: 0.3933 - accuracy: 0.82 - ETA: 0s - loss: 0.3944 - accuracy: 0.82 - ETA: 0s - loss: 0.4012 - accuracy: 0.82 - ETA: 0s - loss: 0.4009 - accuracy: 0.82 - ETA: 0s - loss: 0.3985 - accuracy: 0.82 - ETA: 0s - loss: 0.3935 - accuracy: 0.83 - ETA: 0s - loss: 0.4002 - accuracy: 0.83 - ETA: 0s - loss: 0.4068 - accuracy: 0.83 - ETA: 0s - loss: 0.4031 - accuracy: 0.83 - ETA: 0s - loss: 0.4028 - accuracy: 0.83 - ETA: 0s - loss: 0.4002 - accuracy: 0.83 - ETA: 0s - loss: 0.3992 - accuracy: 0.83 - ETA: 0s - loss: 0.3988 - accuracy: 0.83 - ETA: 0s - loss: 0.3980 - accuracy: 0.83 - 1s 4ms/step - loss: 0.3973 - accuracy: 0.8340 - val_loss: 0.3622 - val_accuracy: 0.8525\n",
      "Epoch 5/5\n",
      "250/250 [==============================] - ETA: 0s - loss: 0.4169 - accuracy: 0.81 - ETA: 0s - loss: 0.3362 - accuracy: 0.85 - ETA: 0s - loss: 0.3402 - accuracy: 0.85 - ETA: 0s - loss: 0.3625 - accuracy: 0.84 - ETA: 0s - loss: 0.3817 - accuracy: 0.83 - ETA: 0s - loss: 0.3856 - accuracy: 0.84 - ETA: 0s - loss: 0.3799 - accuracy: 0.84 - ETA: 0s - loss: 0.3773 - accuracy: 0.84 - ETA: 0s - loss: 0.3742 - accuracy: 0.84 - ETA: 0s - loss: 0.3754 - accuracy: 0.84 - ETA: 0s - loss: 0.3773 - accuracy: 0.84 - ETA: 0s - loss: 0.3741 - accuracy: 0.84 - ETA: 0s - loss: 0.3762 - accuracy: 0.84 - ETA: 0s - loss: 0.3724 - accuracy: 0.84 - ETA: 0s - loss: 0.3689 - accuracy: 0.84 - ETA: 0s - loss: 0.3656 - accuracy: 0.84 - ETA: 0s - loss: 0.3662 - accuracy: 0.84 - ETA: 0s - loss: 0.3657 - accuracy: 0.85 - ETA: 0s - loss: 0.3685 - accuracy: 0.84 - 1s 4ms/step - loss: 0.3694 - accuracy: 0.8489 - val_loss: 0.3514 - val_accuracy: 0.8595\n"
     ]
    },
    {
     "data": {
      "text/html": [
       "<span style=\"color:#4527A0\"><h1 style=\"font-size:18px\">Trial complete</h1></span>"
      ],
      "text/plain": [
       "<IPython.core.display.HTML object>"
      ]
     },
     "metadata": {},
     "output_type": "display_data"
    },
    {
     "data": {
      "text/html": [
       "<span style=\"color:#4527A0\"><h1 style=\"font-size:18px\">Trial summary</h1></span>"
      ],
      "text/plain": [
       "<IPython.core.display.HTML object>"
      ]
     },
     "metadata": {},
     "output_type": "display_data"
    },
    {
     "data": {
      "text/html": [
       "<span style=\"color:cyan\"> |-Trial ID: 77fc85cb67126b02e6b4cd054783116e</span>"
      ],
      "text/plain": [
       "<IPython.core.display.HTML object>"
      ]
     },
     "metadata": {},
     "output_type": "display_data"
    },
    {
     "data": {
      "text/html": [
       "<span style=\"color:cyan\"> |-Score: 0.8568333387374878</span>"
      ],
      "text/plain": [
       "<IPython.core.display.HTML object>"
      ]
     },
     "metadata": {},
     "output_type": "display_data"
    },
    {
     "data": {
      "text/html": [
       "<span style=\"color:cyan\"> |-Best step: 0</span>"
      ],
      "text/plain": [
       "<IPython.core.display.HTML object>"
      ]
     },
     "metadata": {},
     "output_type": "display_data"
    },
    {
     "data": {
      "text/html": [
       "<span style=\"color:#7E57C2\"><h2 style=\"font-size:16px\">Hyperparameters:</h2></span>"
      ],
      "text/plain": [
       "<IPython.core.display.HTML object>"
      ]
     },
     "metadata": {},
     "output_type": "display_data"
    },
    {
     "data": {
      "text/html": [
       "<span style=\"color:cyan\"> |-learning_rate: 0.01</span>"
      ],
      "text/plain": [
       "<IPython.core.display.HTML object>"
      ]
     },
     "metadata": {},
     "output_type": "display_data"
    },
    {
     "data": {
      "text/html": [
       "<span style=\"color:blue\"> |-num_layers: 8</span>"
      ],
      "text/plain": [
       "<IPython.core.display.HTML object>"
      ]
     },
     "metadata": {},
     "output_type": "display_data"
    },
    {
     "data": {
      "text/html": [
       "<span style=\"color:cyan\"> |-units_0: 320</span>"
      ],
      "text/plain": [
       "<IPython.core.display.HTML object>"
      ]
     },
     "metadata": {},
     "output_type": "display_data"
    },
    {
     "data": {
      "text/html": [
       "<span style=\"color:blue\"> |-units_1: 192</span>"
      ],
      "text/plain": [
       "<IPython.core.display.HTML object>"
      ]
     },
     "metadata": {},
     "output_type": "display_data"
    },
    {
     "data": {
      "text/html": [
       "<span style=\"color:cyan\"> |-units_10: 352</span>"
      ],
      "text/plain": [
       "<IPython.core.display.HTML object>"
      ]
     },
     "metadata": {},
     "output_type": "display_data"
    },
    {
     "data": {
      "text/html": [
       "<span style=\"color:blue\"> |-units_11: 192</span>"
      ],
      "text/plain": [
       "<IPython.core.display.HTML object>"
      ]
     },
     "metadata": {},
     "output_type": "display_data"
    },
    {
     "data": {
      "text/html": [
       "<span style=\"color:cyan\"> |-units_12: 384</span>"
      ],
      "text/plain": [
       "<IPython.core.display.HTML object>"
      ]
     },
     "metadata": {},
     "output_type": "display_data"
    },
    {
     "data": {
      "text/html": [
       "<span style=\"color:blue\"> |-units_13: 32</span>"
      ],
      "text/plain": [
       "<IPython.core.display.HTML object>"
      ]
     },
     "metadata": {},
     "output_type": "display_data"
    },
    {
     "data": {
      "text/html": [
       "<span style=\"color:cyan\"> |-units_14: 416</span>"
      ],
      "text/plain": [
       "<IPython.core.display.HTML object>"
      ]
     },
     "metadata": {},
     "output_type": "display_data"
    },
    {
     "data": {
      "text/html": [
       "<span style=\"color:blue\"> |-units_15: 64</span>"
      ],
      "text/plain": [
       "<IPython.core.display.HTML object>"
      ]
     },
     "metadata": {},
     "output_type": "display_data"
    },
    {
     "data": {
      "text/html": [
       "<span style=\"color:cyan\"> |-units_16: 160</span>"
      ],
      "text/plain": [
       "<IPython.core.display.HTML object>"
      ]
     },
     "metadata": {},
     "output_type": "display_data"
    },
    {
     "data": {
      "text/html": [
       "<span style=\"color:blue\"> |-units_17: 416</span>"
      ],
      "text/plain": [
       "<IPython.core.display.HTML object>"
      ]
     },
     "metadata": {},
     "output_type": "display_data"
    },
    {
     "data": {
      "text/html": [
       "<span style=\"color:cyan\"> |-units_2: 480</span>"
      ],
      "text/plain": [
       "<IPython.core.display.HTML object>"
      ]
     },
     "metadata": {},
     "output_type": "display_data"
    },
    {
     "data": {
      "text/html": [
       "<span style=\"color:blue\"> |-units_3: 192</span>"
      ],
      "text/plain": [
       "<IPython.core.display.HTML object>"
      ]
     },
     "metadata": {},
     "output_type": "display_data"
    },
    {
     "data": {
      "text/html": [
       "<span style=\"color:cyan\"> |-units_4: 480</span>"
      ],
      "text/plain": [
       "<IPython.core.display.HTML object>"
      ]
     },
     "metadata": {},
     "output_type": "display_data"
    },
    {
     "data": {
      "text/html": [
       "<span style=\"color:blue\"> |-units_5: 480</span>"
      ],
      "text/plain": [
       "<IPython.core.display.HTML object>"
      ]
     },
     "metadata": {},
     "output_type": "display_data"
    },
    {
     "data": {
      "text/html": [
       "<span style=\"color:cyan\"> |-units_6: 128</span>"
      ],
      "text/plain": [
       "<IPython.core.display.HTML object>"
      ]
     },
     "metadata": {},
     "output_type": "display_data"
    },
    {
     "data": {
      "text/html": [
       "<span style=\"color:blue\"> |-units_7: 192</span>"
      ],
      "text/plain": [
       "<IPython.core.display.HTML object>"
      ]
     },
     "metadata": {},
     "output_type": "display_data"
    },
    {
     "data": {
      "text/html": [
       "<span style=\"color:cyan\"> |-units_8: 416</span>"
      ],
      "text/plain": [
       "<IPython.core.display.HTML object>"
      ]
     },
     "metadata": {},
     "output_type": "display_data"
    },
    {
     "data": {
      "text/html": [
       "<span style=\"color:blue\"> |-units_9: 224</span>"
      ],
      "text/plain": [
       "<IPython.core.display.HTML object>"
      ]
     },
     "metadata": {},
     "output_type": "display_data"
    },
    {
     "name": "stdout",
     "output_type": "stream",
     "text": [
      "INFO:tensorflow:Oracle triggered exit\n"
     ]
    }
   ],
   "source": [
    "tuner.search(X_train, y_train,\n",
    "             epochs=5,\n",
    "             validation_data=(X_test, y_test))"
   ]
  },
  {
   "cell_type": "code",
   "execution_count": 86,
   "metadata": {},
   "outputs": [
    {
     "data": {
      "text/plain": [
       "<bound method BaseTuner.get_best_hyperparameters of <kerastuner.tuners.randomsearch.RandomSearch object at 0x000001704EA9B220>>"
      ]
     },
     "execution_count": 86,
     "metadata": {},
     "output_type": "execute_result"
    }
   ],
   "source": [
    "tuner.get_best_hyperparameters"
   ]
  },
  {
   "cell_type": "code",
   "execution_count": 87,
   "metadata": {},
   "outputs": [
    {
     "data": {
      "text/plain": [
       "[<tensorflow.python.keras.engine.sequential.Sequential at 0x1704f5dc1c0>,\n",
       " <tensorflow.python.keras.engine.sequential.Sequential at 0x1704f5dc4f0>,\n",
       " <tensorflow.python.keras.engine.sequential.Sequential at 0x1704f5dc5b0>]"
      ]
     },
     "execution_count": 87,
     "metadata": {},
     "output_type": "execute_result"
    }
   ],
   "source": [
    " tuner.get_best_models(num_models=3)"
   ]
  },
  {
   "cell_type": "code",
   "execution_count": 65,
   "metadata": {},
   "outputs": [
    {
     "data": {
      "text/html": [
       "<span style=\"color:#4527A0\"><h1 style=\"font-size:18px\">Results summary</h1></span>"
      ],
      "text/plain": [
       "<IPython.core.display.HTML object>"
      ]
     },
     "metadata": {},
     "output_type": "display_data"
    },
    {
     "data": {
      "text/html": [
       "<span style=\"color:cyan\"> |-Results in Weights\\Churn</span>"
      ],
      "text/plain": [
       "<IPython.core.display.HTML object>"
      ]
     },
     "metadata": {},
     "output_type": "display_data"
    },
    {
     "data": {
      "text/html": [
       "<span style=\"color:cyan\"> |-Showing 10 best trials</span>"
      ],
      "text/plain": [
       "<IPython.core.display.HTML object>"
      ]
     },
     "metadata": {},
     "output_type": "display_data"
    },
    {
     "data": {
      "text/html": [
       "<span style=\"color:cyan\"> |-Objective(name='val_accuracy', direction='max')</span>"
      ],
      "text/plain": [
       "<IPython.core.display.HTML object>"
      ]
     },
     "metadata": {},
     "output_type": "display_data"
    },
    {
     "data": {
      "text/html": [
       "<span style=\"color:#4527A0\"><h1 style=\"font-size:18px\">Trial summary</h1></span>"
      ],
      "text/plain": [
       "<IPython.core.display.HTML object>"
      ]
     },
     "metadata": {},
     "output_type": "display_data"
    },
    {
     "data": {
      "text/html": [
       "<span style=\"color:cyan\"> |-Trial ID: d432cbfb2299b7a0a5cf319d29ac11d6</span>"
      ],
      "text/plain": [
       "<IPython.core.display.HTML object>"
      ]
     },
     "metadata": {},
     "output_type": "display_data"
    },
    {
     "data": {
      "text/html": [
       "<span style=\"color:cyan\"> |-Score: 0.8628333210945129</span>"
      ],
      "text/plain": [
       "<IPython.core.display.HTML object>"
      ]
     },
     "metadata": {},
     "output_type": "display_data"
    },
    {
     "data": {
      "text/html": [
       "<span style=\"color:cyan\"> |-Best step: 0</span>"
      ],
      "text/plain": [
       "<IPython.core.display.HTML object>"
      ]
     },
     "metadata": {},
     "output_type": "display_data"
    },
    {
     "data": {
      "text/html": [
       "<span style=\"color:#7E57C2\"><h2 style=\"font-size:16px\">Hyperparameters:</h2></span>"
      ],
      "text/plain": [
       "<IPython.core.display.HTML object>"
      ]
     },
     "metadata": {},
     "output_type": "display_data"
    },
    {
     "data": {
      "text/html": [
       "<span style=\"color:cyan\"> |-learning_rate: 0.001</span>"
      ],
      "text/plain": [
       "<IPython.core.display.HTML object>"
      ]
     },
     "metadata": {},
     "output_type": "display_data"
    },
    {
     "data": {
      "text/html": [
       "<span style=\"color:blue\"> |-num_layers: 12</span>"
      ],
      "text/plain": [
       "<IPython.core.display.HTML object>"
      ]
     },
     "metadata": {},
     "output_type": "display_data"
    },
    {
     "data": {
      "text/html": [
       "<span style=\"color:cyan\"> |-units_0: 288</span>"
      ],
      "text/plain": [
       "<IPython.core.display.HTML object>"
      ]
     },
     "metadata": {},
     "output_type": "display_data"
    },
    {
     "data": {
      "text/html": [
       "<span style=\"color:blue\"> |-units_1: 96</span>"
      ],
      "text/plain": [
       "<IPython.core.display.HTML object>"
      ]
     },
     "metadata": {},
     "output_type": "display_data"
    },
    {
     "data": {
      "text/html": [
       "<span style=\"color:cyan\"> |-units_10: 320</span>"
      ],
      "text/plain": [
       "<IPython.core.display.HTML object>"
      ]
     },
     "metadata": {},
     "output_type": "display_data"
    },
    {
     "data": {
      "text/html": [
       "<span style=\"color:blue\"> |-units_11: 32</span>"
      ],
      "text/plain": [
       "<IPython.core.display.HTML object>"
      ]
     },
     "metadata": {},
     "output_type": "display_data"
    },
    {
     "data": {
      "text/html": [
       "<span style=\"color:cyan\"> |-units_12: 64</span>"
      ],
      "text/plain": [
       "<IPython.core.display.HTML object>"
      ]
     },
     "metadata": {},
     "output_type": "display_data"
    },
    {
     "data": {
      "text/html": [
       "<span style=\"color:blue\"> |-units_13: 352</span>"
      ],
      "text/plain": [
       "<IPython.core.display.HTML object>"
      ]
     },
     "metadata": {},
     "output_type": "display_data"
    },
    {
     "data": {
      "text/html": [
       "<span style=\"color:cyan\"> |-units_14: 384</span>"
      ],
      "text/plain": [
       "<IPython.core.display.HTML object>"
      ]
     },
     "metadata": {},
     "output_type": "display_data"
    },
    {
     "data": {
      "text/html": [
       "<span style=\"color:blue\"> |-units_2: 416</span>"
      ],
      "text/plain": [
       "<IPython.core.display.HTML object>"
      ]
     },
     "metadata": {},
     "output_type": "display_data"
    },
    {
     "data": {
      "text/html": [
       "<span style=\"color:cyan\"> |-units_3: 224</span>"
      ],
      "text/plain": [
       "<IPython.core.display.HTML object>"
      ]
     },
     "metadata": {},
     "output_type": "display_data"
    },
    {
     "data": {
      "text/html": [
       "<span style=\"color:blue\"> |-units_4: 416</span>"
      ],
      "text/plain": [
       "<IPython.core.display.HTML object>"
      ]
     },
     "metadata": {},
     "output_type": "display_data"
    },
    {
     "data": {
      "text/html": [
       "<span style=\"color:cyan\"> |-units_5: 32</span>"
      ],
      "text/plain": [
       "<IPython.core.display.HTML object>"
      ]
     },
     "metadata": {},
     "output_type": "display_data"
    },
    {
     "data": {
      "text/html": [
       "<span style=\"color:blue\"> |-units_6: 64</span>"
      ],
      "text/plain": [
       "<IPython.core.display.HTML object>"
      ]
     },
     "metadata": {},
     "output_type": "display_data"
    },
    {
     "data": {
      "text/html": [
       "<span style=\"color:cyan\"> |-units_7: 64</span>"
      ],
      "text/plain": [
       "<IPython.core.display.HTML object>"
      ]
     },
     "metadata": {},
     "output_type": "display_data"
    },
    {
     "data": {
      "text/html": [
       "<span style=\"color:blue\"> |-units_8: 160</span>"
      ],
      "text/plain": [
       "<IPython.core.display.HTML object>"
      ]
     },
     "metadata": {},
     "output_type": "display_data"
    },
    {
     "data": {
      "text/html": [
       "<span style=\"color:cyan\"> |-units_9: 320</span>"
      ],
      "text/plain": [
       "<IPython.core.display.HTML object>"
      ]
     },
     "metadata": {},
     "output_type": "display_data"
    },
    {
     "data": {
      "text/html": [
       "<span style=\"color:#4527A0\"><h1 style=\"font-size:18px\">Trial summary</h1></span>"
      ],
      "text/plain": [
       "<IPython.core.display.HTML object>"
      ]
     },
     "metadata": {},
     "output_type": "display_data"
    },
    {
     "data": {
      "text/html": [
       "<span style=\"color:cyan\"> |-Trial ID: 96a77fa26765de43e3b854690cba5f00</span>"
      ],
      "text/plain": [
       "<IPython.core.display.HTML object>"
      ]
     },
     "metadata": {},
     "output_type": "display_data"
    },
    {
     "data": {
      "text/html": [
       "<span style=\"color:cyan\"> |-Score: 0.8603333433469137</span>"
      ],
      "text/plain": [
       "<IPython.core.display.HTML object>"
      ]
     },
     "metadata": {},
     "output_type": "display_data"
    },
    {
     "data": {
      "text/html": [
       "<span style=\"color:cyan\"> |-Best step: 0</span>"
      ],
      "text/plain": [
       "<IPython.core.display.HTML object>"
      ]
     },
     "metadata": {},
     "output_type": "display_data"
    },
    {
     "data": {
      "text/html": [
       "<span style=\"color:#7E57C2\"><h2 style=\"font-size:16px\">Hyperparameters:</h2></span>"
      ],
      "text/plain": [
       "<IPython.core.display.HTML object>"
      ]
     },
     "metadata": {},
     "output_type": "display_data"
    },
    {
     "data": {
      "text/html": [
       "<span style=\"color:cyan\"> |-learning_rate: 0.001</span>"
      ],
      "text/plain": [
       "<IPython.core.display.HTML object>"
      ]
     },
     "metadata": {},
     "output_type": "display_data"
    },
    {
     "data": {
      "text/html": [
       "<span style=\"color:blue\"> |-num_layers: 11</span>"
      ],
      "text/plain": [
       "<IPython.core.display.HTML object>"
      ]
     },
     "metadata": {},
     "output_type": "display_data"
    },
    {
     "data": {
      "text/html": [
       "<span style=\"color:cyan\"> |-units_0: 352</span>"
      ],
      "text/plain": [
       "<IPython.core.display.HTML object>"
      ]
     },
     "metadata": {},
     "output_type": "display_data"
    },
    {
     "data": {
      "text/html": [
       "<span style=\"color:blue\"> |-units_1: 96</span>"
      ],
      "text/plain": [
       "<IPython.core.display.HTML object>"
      ]
     },
     "metadata": {},
     "output_type": "display_data"
    },
    {
     "data": {
      "text/html": [
       "<span style=\"color:cyan\"> |-units_10: 192</span>"
      ],
      "text/plain": [
       "<IPython.core.display.HTML object>"
      ]
     },
     "metadata": {},
     "output_type": "display_data"
    },
    {
     "data": {
      "text/html": [
       "<span style=\"color:blue\"> |-units_11: 320</span>"
      ],
      "text/plain": [
       "<IPython.core.display.HTML object>"
      ]
     },
     "metadata": {},
     "output_type": "display_data"
    },
    {
     "data": {
      "text/html": [
       "<span style=\"color:cyan\"> |-units_12: 448</span>"
      ],
      "text/plain": [
       "<IPython.core.display.HTML object>"
      ]
     },
     "metadata": {},
     "output_type": "display_data"
    },
    {
     "data": {
      "text/html": [
       "<span style=\"color:blue\"> |-units_13: 224</span>"
      ],
      "text/plain": [
       "<IPython.core.display.HTML object>"
      ]
     },
     "metadata": {},
     "output_type": "display_data"
    },
    {
     "data": {
      "text/html": [
       "<span style=\"color:cyan\"> |-units_14: 448</span>"
      ],
      "text/plain": [
       "<IPython.core.display.HTML object>"
      ]
     },
     "metadata": {},
     "output_type": "display_data"
    },
    {
     "data": {
      "text/html": [
       "<span style=\"color:blue\"> |-units_2: 96</span>"
      ],
      "text/plain": [
       "<IPython.core.display.HTML object>"
      ]
     },
     "metadata": {},
     "output_type": "display_data"
    },
    {
     "data": {
      "text/html": [
       "<span style=\"color:cyan\"> |-units_3: 320</span>"
      ],
      "text/plain": [
       "<IPython.core.display.HTML object>"
      ]
     },
     "metadata": {},
     "output_type": "display_data"
    },
    {
     "data": {
      "text/html": [
       "<span style=\"color:blue\"> |-units_4: 448</span>"
      ],
      "text/plain": [
       "<IPython.core.display.HTML object>"
      ]
     },
     "metadata": {},
     "output_type": "display_data"
    },
    {
     "data": {
      "text/html": [
       "<span style=\"color:cyan\"> |-units_5: 448</span>"
      ],
      "text/plain": [
       "<IPython.core.display.HTML object>"
      ]
     },
     "metadata": {},
     "output_type": "display_data"
    },
    {
     "data": {
      "text/html": [
       "<span style=\"color:blue\"> |-units_6: 448</span>"
      ],
      "text/plain": [
       "<IPython.core.display.HTML object>"
      ]
     },
     "metadata": {},
     "output_type": "display_data"
    },
    {
     "data": {
      "text/html": [
       "<span style=\"color:cyan\"> |-units_7: 448</span>"
      ],
      "text/plain": [
       "<IPython.core.display.HTML object>"
      ]
     },
     "metadata": {},
     "output_type": "display_data"
    },
    {
     "data": {
      "text/html": [
       "<span style=\"color:blue\"> |-units_8: 160</span>"
      ],
      "text/plain": [
       "<IPython.core.display.HTML object>"
      ]
     },
     "metadata": {},
     "output_type": "display_data"
    },
    {
     "data": {
      "text/html": [
       "<span style=\"color:cyan\"> |-units_9: 416</span>"
      ],
      "text/plain": [
       "<IPython.core.display.HTML object>"
      ]
     },
     "metadata": {},
     "output_type": "display_data"
    },
    {
     "data": {
      "text/html": [
       "<span style=\"color:#4527A0\"><h1 style=\"font-size:18px\">Trial summary</h1></span>"
      ],
      "text/plain": [
       "<IPython.core.display.HTML object>"
      ]
     },
     "metadata": {},
     "output_type": "display_data"
    },
    {
     "data": {
      "text/html": [
       "<span style=\"color:cyan\"> |-Trial ID: a4bb9844a7b95aae530d666b3bec3f83</span>"
      ],
      "text/plain": [
       "<IPython.core.display.HTML object>"
      ]
     },
     "metadata": {},
     "output_type": "display_data"
    },
    {
     "data": {
      "text/html": [
       "<span style=\"color:cyan\"> |-Score: 0.8533333341280619</span>"
      ],
      "text/plain": [
       "<IPython.core.display.HTML object>"
      ]
     },
     "metadata": {},
     "output_type": "display_data"
    },
    {
     "data": {
      "text/html": [
       "<span style=\"color:cyan\"> |-Best step: 0</span>"
      ],
      "text/plain": [
       "<IPython.core.display.HTML object>"
      ]
     },
     "metadata": {},
     "output_type": "display_data"
    },
    {
     "data": {
      "text/html": [
       "<span style=\"color:#7E57C2\"><h2 style=\"font-size:16px\">Hyperparameters:</h2></span>"
      ],
      "text/plain": [
       "<IPython.core.display.HTML object>"
      ]
     },
     "metadata": {},
     "output_type": "display_data"
    },
    {
     "data": {
      "text/html": [
       "<span style=\"color:cyan\"> |-learning_rate: 0.01</span>"
      ],
      "text/plain": [
       "<IPython.core.display.HTML object>"
      ]
     },
     "metadata": {},
     "output_type": "display_data"
    },
    {
     "data": {
      "text/html": [
       "<span style=\"color:blue\"> |-num_layers: 15</span>"
      ],
      "text/plain": [
       "<IPython.core.display.HTML object>"
      ]
     },
     "metadata": {},
     "output_type": "display_data"
    },
    {
     "data": {
      "text/html": [
       "<span style=\"color:cyan\"> |-units_0: 352</span>"
      ],
      "text/plain": [
       "<IPython.core.display.HTML object>"
      ]
     },
     "metadata": {},
     "output_type": "display_data"
    },
    {
     "data": {
      "text/html": [
       "<span style=\"color:blue\"> |-units_1: 96</span>"
      ],
      "text/plain": [
       "<IPython.core.display.HTML object>"
      ]
     },
     "metadata": {},
     "output_type": "display_data"
    },
    {
     "data": {
      "text/html": [
       "<span style=\"color:cyan\"> |-units_10: 32</span>"
      ],
      "text/plain": [
       "<IPython.core.display.HTML object>"
      ]
     },
     "metadata": {},
     "output_type": "display_data"
    },
    {
     "data": {
      "text/html": [
       "<span style=\"color:blue\"> |-units_11: 32</span>"
      ],
      "text/plain": [
       "<IPython.core.display.HTML object>"
      ]
     },
     "metadata": {},
     "output_type": "display_data"
    },
    {
     "data": {
      "text/html": [
       "<span style=\"color:cyan\"> |-units_12: 32</span>"
      ],
      "text/plain": [
       "<IPython.core.display.HTML object>"
      ]
     },
     "metadata": {},
     "output_type": "display_data"
    },
    {
     "data": {
      "text/html": [
       "<span style=\"color:blue\"> |-units_13: 32</span>"
      ],
      "text/plain": [
       "<IPython.core.display.HTML object>"
      ]
     },
     "metadata": {},
     "output_type": "display_data"
    },
    {
     "data": {
      "text/html": [
       "<span style=\"color:cyan\"> |-units_14: 32</span>"
      ],
      "text/plain": [
       "<IPython.core.display.HTML object>"
      ]
     },
     "metadata": {},
     "output_type": "display_data"
    },
    {
     "data": {
      "text/html": [
       "<span style=\"color:blue\"> |-units_2: 32</span>"
      ],
      "text/plain": [
       "<IPython.core.display.HTML object>"
      ]
     },
     "metadata": {},
     "output_type": "display_data"
    },
    {
     "data": {
      "text/html": [
       "<span style=\"color:cyan\"> |-units_3: 32</span>"
      ],
      "text/plain": [
       "<IPython.core.display.HTML object>"
      ]
     },
     "metadata": {},
     "output_type": "display_data"
    },
    {
     "data": {
      "text/html": [
       "<span style=\"color:blue\"> |-units_4: 32</span>"
      ],
      "text/plain": [
       "<IPython.core.display.HTML object>"
      ]
     },
     "metadata": {},
     "output_type": "display_data"
    },
    {
     "data": {
      "text/html": [
       "<span style=\"color:cyan\"> |-units_5: 32</span>"
      ],
      "text/plain": [
       "<IPython.core.display.HTML object>"
      ]
     },
     "metadata": {},
     "output_type": "display_data"
    },
    {
     "data": {
      "text/html": [
       "<span style=\"color:blue\"> |-units_6: 32</span>"
      ],
      "text/plain": [
       "<IPython.core.display.HTML object>"
      ]
     },
     "metadata": {},
     "output_type": "display_data"
    },
    {
     "data": {
      "text/html": [
       "<span style=\"color:cyan\"> |-units_7: 32</span>"
      ],
      "text/plain": [
       "<IPython.core.display.HTML object>"
      ]
     },
     "metadata": {},
     "output_type": "display_data"
    },
    {
     "data": {
      "text/html": [
       "<span style=\"color:blue\"> |-units_8: 32</span>"
      ],
      "text/plain": [
       "<IPython.core.display.HTML object>"
      ]
     },
     "metadata": {},
     "output_type": "display_data"
    },
    {
     "data": {
      "text/html": [
       "<span style=\"color:cyan\"> |-units_9: 32</span>"
      ],
      "text/plain": [
       "<IPython.core.display.HTML object>"
      ]
     },
     "metadata": {},
     "output_type": "display_data"
    }
   ],
   "source": [
    "tuner.results_summary()"
   ]
  },
  {
   "cell_type": "code",
   "execution_count": 88,
   "metadata": {},
   "outputs": [],
   "source": [
    "# Importing the Keras libraries and packages\n",
    "import tensorflow.keras\n",
    "from tensorflow.keras.models import Sequential\n",
    "from tensorflow.keras.layers import Dense\n",
    "from tensorflow.keras.layers import Dropout\n",
    "\n",
    "# Initialising the ANN\n",
    "classifier = Sequential()\n",
    "\n",
    "# Adding the layers as per the results obtained in  tuner.results_summary()\n",
    "classifier.add(Dense(units = 288,kernel_initializer='he_uniform',activation='relu',input_dim = 11))\n",
    "\n",
    "classifier.add(Dense(units = 96, kernel_initializer = 'he_uniform',activation='relu'))\n",
    "classifier.add(Dense(units = 416, kernel_initializer = 'he_uniform',activation='relu'))\n",
    "classifier.add(Dense(units = 224, kernel_initializer = 'he_uniform',activation='relu'))\n",
    "classifier.add(Dense(units = 416, kernel_initializer = 'he_uniform',activation='relu'))\n",
    "classifier.add(Dense(units = 32, kernel_initializer = 'he_uniform',activation='relu'))\n",
    "classifier.add(Dense(units = 64, kernel_initializer = 'he_uniform',activation='relu'))\n",
    "classifier.add(Dense(units = 64, kernel_initializer = 'he_uniform',activation='relu'))\n",
    "classifier.add(Dense(units = 160, kernel_initializer = 'he_uniform',activation='relu'))\n",
    "classifier.add(Dense(units = 320, kernel_initializer = 'he_uniform',activation='relu'))\n",
    "classifier.add(Dense(units = 320, kernel_initializer = 'he_uniform',activation='relu'))\n",
    "classifier.add(Dense(units = 32, kernel_initializer = 'he_uniform',activation='relu'))\n",
    "classifier.add(Dense(units = 64, kernel_initializer = 'he_uniform',activation='relu'))\n",
    "classifier.add(Dense(units = 352, kernel_initializer = 'he_uniform',activation='relu'))\n",
    "classifier.add(Dense(units = 384, kernel_initializer = 'he_uniform',activation='relu'))\n",
    "\n",
    "\n",
    "\n",
    "# Adding the output layer\n",
    "classifier.add(Dense(units = 1, kernel_initializer = 'glorot_uniform', activation = 'sigmoid'))\n",
    "\n",
    "# Compiling the ANN\n",
    "classifier.compile(optimizer = 'adam', loss = 'binary_crossentropy', metrics = ['accuracy'])"
   ]
  },
  {
   "cell_type": "code",
   "execution_count": 75,
   "metadata": {},
   "outputs": [
    {
     "name": "stdout",
     "output_type": "stream",
     "text": [
      "Model: \"sequential_1\"\n",
      "_________________________________________________________________\n",
      "Layer (type)                 Output Shape              Param #   \n",
      "=================================================================\n",
      "dense_16 (Dense)             (None, 288)               3456      \n",
      "_________________________________________________________________\n",
      "dense_17 (Dense)             (None, 96)                27744     \n",
      "_________________________________________________________________\n",
      "dense_18 (Dense)             (None, 320)               31040     \n",
      "_________________________________________________________________\n",
      "dense_19 (Dense)             (None, 32)                10272     \n",
      "_________________________________________________________________\n",
      "dense_20 (Dense)             (None, 64)                2112      \n",
      "_________________________________________________________________\n",
      "dense_21 (Dense)             (None, 352)               22880     \n",
      "_________________________________________________________________\n",
      "dense_22 (Dense)             (None, 384)               135552    \n",
      "_________________________________________________________________\n",
      "dense_23 (Dense)             (None, 416)               160160    \n",
      "_________________________________________________________________\n",
      "dense_24 (Dense)             (None, 224)               93408     \n",
      "_________________________________________________________________\n",
      "dense_25 (Dense)             (None, 416)               93600     \n",
      "_________________________________________________________________\n",
      "dense_26 (Dense)             (None, 32)                13344     \n",
      "_________________________________________________________________\n",
      "dense_27 (Dense)             (None, 64)                2112      \n",
      "_________________________________________________________________\n",
      "dense_28 (Dense)             (None, 64)                4160      \n",
      "_________________________________________________________________\n",
      "dense_29 (Dense)             (None, 160)               10400     \n",
      "_________________________________________________________________\n",
      "dense_30 (Dense)             (None, 320)               51520     \n",
      "_________________________________________________________________\n",
      "dense_31 (Dense)             (None, 1)                 321       \n",
      "=================================================================\n",
      "Total params: 662,081\n",
      "Trainable params: 662,081\n",
      "Non-trainable params: 0\n",
      "_________________________________________________________________\n"
     ]
    }
   ],
   "source": [
    "classifier.summary()"
   ]
  },
  {
   "cell_type": "code",
   "execution_count": 89,
   "metadata": {},
   "outputs": [
    {
     "name": "stdout",
     "output_type": "stream",
     "text": [
      "Epoch 1/100\n",
      "54/54 [==============================] - ETA: 0s - loss: 0.6459 - accuracy: 0.67 - ETA: 0s - loss: 0.5970 - accuracy: 0.78 - ETA: 0s - loss: 0.5432 - accuracy: 0.78 - ETA: 0s - loss: 0.4971 - accuracy: 0.79 - ETA: 0s - loss: 0.4846 - accuracy: 0.79 - ETA: 0s - loss: 0.4826 - accuracy: 0.79 - ETA: 0s - loss: 0.4767 - accuracy: 0.79 - 1s 11ms/step - loss: 0.4695 - accuracy: 0.7951 - val_loss: 0.5239 - val_accuracy: 0.7993\n",
      "Epoch 2/100\n",
      "54/54 [==============================] - ETA: 0s - loss: 0.3482 - accuracy: 0.86 - ETA: 0s - loss: 0.4610 - accuracy: 0.81 - ETA: 0s - loss: 0.4557 - accuracy: 0.81 - ETA: 0s - loss: 0.4353 - accuracy: 0.82 - ETA: 0s - loss: 0.4256 - accuracy: 0.82 - ETA: 0s - loss: 0.4233 - accuracy: 0.82 - 0s 7ms/step - loss: 0.4200 - accuracy: 0.8212 - val_loss: 0.3908 - val_accuracy: 0.8364\n",
      "Epoch 3/100\n",
      "54/54 [==============================] - ETA: 0s - loss: 0.3858 - accuracy: 0.85 - ETA: 0s - loss: 0.3966 - accuracy: 0.84 - ETA: 0s - loss: 0.3920 - accuracy: 0.84 - ETA: 0s - loss: 0.3827 - accuracy: 0.84 - ETA: 0s - loss: 0.3699 - accuracy: 0.84 - ETA: 0s - loss: 0.3640 - accuracy: 0.85 - 0s 7ms/step - loss: 0.3657 - accuracy: 0.8492 - val_loss: 0.3967 - val_accuracy: 0.8349\n",
      "Epoch 4/100\n",
      "54/54 [==============================] - ETA: 0s - loss: 0.3987 - accuracy: 0.84 - ETA: 0s - loss: 0.3465 - accuracy: 0.85 - ETA: 0s - loss: 0.3334 - accuracy: 0.85 - ETA: 0s - loss: 0.3320 - accuracy: 0.86 - ETA: 0s - loss: 0.3412 - accuracy: 0.85 - ETA: 0s - loss: 0.3424 - accuracy: 0.85 - ETA: 0s - loss: 0.3430 - accuracy: 0.85 - 0s 7ms/step - loss: 0.3421 - accuracy: 0.8576 - val_loss: 0.3779 - val_accuracy: 0.8398\n",
      "Epoch 5/100\n",
      "54/54 [==============================] - ETA: 0s - loss: 0.2842 - accuracy: 0.87 - ETA: 0s - loss: 0.3163 - accuracy: 0.86 - ETA: 0s - loss: 0.3161 - accuracy: 0.86 - ETA: 0s - loss: 0.3267 - accuracy: 0.86 - ETA: 0s - loss: 0.3306 - accuracy: 0.85 - ETA: 0s - loss: 0.3254 - accuracy: 0.86 - ETA: 0s - loss: 0.3297 - accuracy: 0.86 - 0s 7ms/step - loss: 0.3297 - accuracy: 0.8625 - val_loss: 0.3825 - val_accuracy: 0.8353\n",
      "Epoch 6/100\n",
      "54/54 [==============================] - ETA: 0s - loss: 0.2513 - accuracy: 0.92 - ETA: 0s - loss: 0.3093 - accuracy: 0.86 - ETA: 0s - loss: 0.2999 - accuracy: 0.87 - ETA: 0s - loss: 0.3110 - accuracy: 0.86 - ETA: 0s - loss: 0.3261 - accuracy: 0.86 - ETA: 0s - loss: 0.3244 - accuracy: 0.86 - 0s 7ms/step - loss: 0.3266 - accuracy: 0.8619 - val_loss: 0.3713 - val_accuracy: 0.8440\n",
      "Epoch 7/100\n",
      "54/54 [==============================] - ETA: 0s - loss: 0.2934 - accuracy: 0.88 - ETA: 0s - loss: 0.2934 - accuracy: 0.87 - ETA: 0s - loss: 0.3019 - accuracy: 0.87 - ETA: 0s - loss: 0.3113 - accuracy: 0.87 - ETA: 0s - loss: 0.3130 - accuracy: 0.87 - ETA: 0s - loss: 0.3096 - accuracy: 0.87 - 0s 6ms/step - loss: 0.3091 - accuracy: 0.8711 - val_loss: 0.3863 - val_accuracy: 0.8436\n",
      "Epoch 8/100\n",
      "54/54 [==============================] - ETA: 0s - loss: 0.2532 - accuracy: 0.89 - ETA: 0s - loss: 0.2908 - accuracy: 0.88 - ETA: 0s - loss: 0.2973 - accuracy: 0.87 - ETA: 0s - loss: 0.3008 - accuracy: 0.87 - ETA: 0s - loss: 0.2968 - accuracy: 0.87 - ETA: 0s - loss: 0.3041 - accuracy: 0.87 - 0s 6ms/step - loss: 0.3039 - accuracy: 0.8726 - val_loss: 0.4062 - val_accuracy: 0.8489\n",
      "Epoch 9/100\n",
      "54/54 [==============================] - ETA: 0s - loss: 0.3304 - accuracy: 0.85 - ETA: 0s - loss: 0.2881 - accuracy: 0.87 - ETA: 0s - loss: 0.2858 - accuracy: 0.87 - ETA: 0s - loss: 0.2863 - accuracy: 0.87 - ETA: 0s - loss: 0.2823 - accuracy: 0.87 - ETA: 0s - loss: 0.2821 - accuracy: 0.87 - ETA: 0s - loss: 0.2933 - accuracy: 0.87 - 0s 7ms/step - loss: 0.2945 - accuracy: 0.8729 - val_loss: 0.3782 - val_accuracy: 0.8413\n",
      "Epoch 10/100\n",
      "54/54 [==============================] - ETA: 0s - loss: 0.2616 - accuracy: 0.87 - ETA: 0s - loss: 0.2782 - accuracy: 0.88 - ETA: 0s - loss: 0.2854 - accuracy: 0.87 - ETA: 0s - loss: 0.2758 - accuracy: 0.88 - ETA: 0s - loss: 0.2719 - accuracy: 0.88 - ETA: 0s - loss: 0.2748 - accuracy: 0.87 - 0s 7ms/step - loss: 0.2827 - accuracy: 0.8772 - val_loss: 0.3966 - val_accuracy: 0.8470\n",
      "Epoch 11/100\n",
      "54/54 [==============================] - ETA: 0s - loss: 0.2637 - accuracy: 0.89 - ETA: 0s - loss: 0.2713 - accuracy: 0.88 - ETA: 0s - loss: 0.2738 - accuracy: 0.88 - ETA: 0s - loss: 0.2700 - accuracy: 0.88 - ETA: 0s - loss: 0.2768 - accuracy: 0.88 - ETA: 0s - loss: 0.2809 - accuracy: 0.88 - ETA: 0s - loss: 0.2834 - accuracy: 0.87 - 0s 7ms/step - loss: 0.2838 - accuracy: 0.8795 - val_loss: 0.3921 - val_accuracy: 0.8410\n",
      "Epoch 12/100\n",
      "54/54 [==============================] - ETA: 0s - loss: 0.2318 - accuracy: 0.88 - ETA: 0s - loss: 0.2700 - accuracy: 0.88 - ETA: 0s - loss: 0.2694 - accuracy: 0.88 - ETA: 0s - loss: 0.2637 - accuracy: 0.88 - ETA: 0s - loss: 0.2671 - accuracy: 0.88 - ETA: 0s - loss: 0.2653 - accuracy: 0.88 - 0s 6ms/step - loss: 0.2677 - accuracy: 0.8841 - val_loss: 0.4202 - val_accuracy: 0.8395\n",
      "Epoch 13/100\n",
      "54/54 [==============================] - ETA: 0s - loss: 0.2623 - accuracy: 0.87 - ETA: 0s - loss: 0.2366 - accuracy: 0.88 - ETA: 0s - loss: 0.2399 - accuracy: 0.89 - ETA: 0s - loss: 0.2370 - accuracy: 0.89 - ETA: 0s - loss: 0.2419 - accuracy: 0.89 - ETA: 0s - loss: 0.2472 - accuracy: 0.89 - 0s 6ms/step - loss: 0.2469 - accuracy: 0.8927 - val_loss: 0.4332 - val_accuracy: 0.8323\n",
      "Epoch 14/100\n",
      "54/54 [==============================] - ETA: 0s - loss: 0.2497 - accuracy: 0.91 - ETA: 0s - loss: 0.2350 - accuracy: 0.90 - ETA: 0s - loss: 0.2419 - accuracy: 0.88 - ETA: 0s - loss: 0.2372 - accuracy: 0.89 - ETA: 0s - loss: 0.2373 - accuracy: 0.89 - ETA: 0s - loss: 0.2479 - accuracy: 0.88 - 0s 7ms/step - loss: 0.2502 - accuracy: 0.8837 - val_loss: 0.5068 - val_accuracy: 0.8398\n",
      "Epoch 15/100\n",
      "54/54 [==============================] - ETA: 0s - loss: 0.3044 - accuracy: 0.86 - ETA: 0s - loss: 0.2425 - accuracy: 0.88 - ETA: 0s - loss: 0.2442 - accuracy: 0.89 - ETA: 0s - loss: 0.2380 - accuracy: 0.89 - ETA: 0s - loss: 0.2336 - accuracy: 0.89 - ETA: 0s - loss: 0.2374 - accuracy: 0.89 - 0s 6ms/step - loss: 0.2389 - accuracy: 0.8968 - val_loss: 0.4391 - val_accuracy: 0.8360\n",
      "Epoch 16/100\n",
      "54/54 [==============================] - ETA: 0s - loss: 0.2326 - accuracy: 0.90 - ETA: 0s - loss: 0.2042 - accuracy: 0.90 - ETA: 0s - loss: 0.2036 - accuracy: 0.90 - ETA: 0s - loss: 0.2105 - accuracy: 0.90 - ETA: 0s - loss: 0.2240 - accuracy: 0.89 - ETA: 0s - loss: 0.2250 - accuracy: 0.89 - ETA: 0s - loss: 0.2291 - accuracy: 0.89 - 0s 7ms/step - loss: 0.2312 - accuracy: 0.8946 - val_loss: 0.4332 - val_accuracy: 0.8406\n",
      "Epoch 17/100\n",
      "54/54 [==============================] - ETA: 0s - loss: 0.1728 - accuracy: 0.96 - ETA: 0s - loss: 0.2053 - accuracy: 0.90 - ETA: 0s - loss: 0.2016 - accuracy: 0.90 - ETA: 0s - loss: 0.2077 - accuracy: 0.90 - ETA: 0s - loss: 0.2112 - accuracy: 0.90 - ETA: 0s - loss: 0.2184 - accuracy: 0.89 - 0s 7ms/step - loss: 0.2204 - accuracy: 0.8985 - val_loss: 0.4858 - val_accuracy: 0.8205\n",
      "Epoch 18/100\n",
      "54/54 [==============================] - ETA: 0s - loss: 0.1729 - accuracy: 0.94 - ETA: 0s - loss: 0.2036 - accuracy: 0.91 - ETA: 0s - loss: 0.1877 - accuracy: 0.91 - ETA: 0s - loss: 0.2013 - accuracy: 0.90 - ETA: 0s - loss: 0.2020 - accuracy: 0.90 - ETA: 0s - loss: 0.2006 - accuracy: 0.90 - ETA: 0s - loss: 0.2077 - accuracy: 0.90 - 0s 7ms/step - loss: 0.2077 - accuracy: 0.9035 - val_loss: 0.5129 - val_accuracy: 0.8095\n",
      "Epoch 19/100\n",
      "54/54 [==============================] - ETA: 0s - loss: 0.1300 - accuracy: 0.97 - ETA: 0s - loss: 0.1789 - accuracy: 0.92 - ETA: 0s - loss: 0.1956 - accuracy: 0.91 - ETA: 0s - loss: 0.2038 - accuracy: 0.91 - ETA: 0s - loss: 0.2039 - accuracy: 0.90 - ETA: 0s - loss: 0.2007 - accuracy: 0.91 - ETA: 0s - loss: 0.1994 - accuracy: 0.91 - 0s 7ms/step - loss: 0.1992 - accuracy: 0.9119 - val_loss: 0.6635 - val_accuracy: 0.8201\n",
      "Epoch 20/100\n",
      "54/54 [==============================] - ETA: 0s - loss: 0.2079 - accuracy: 0.92 - ETA: 0s - loss: 0.1600 - accuracy: 0.92 - ETA: 0s - loss: 0.1728 - accuracy: 0.91 - ETA: 0s - loss: 0.1854 - accuracy: 0.91 - ETA: 0s - loss: 0.1921 - accuracy: 0.90 - ETA: 0s - loss: 0.1957 - accuracy: 0.90 - 0s 6ms/step - loss: 0.1996 - accuracy: 0.9058 - val_loss: 0.4903 - val_accuracy: 0.8289\n"
     ]
    },
    {
     "name": "stdout",
     "output_type": "stream",
     "text": [
      "Epoch 21/100\n",
      "54/54 [==============================] - ETA: 0s - loss: 0.1566 - accuracy: 0.94 - ETA: 0s - loss: 0.1661 - accuracy: 0.92 - ETA: 0s - loss: 0.1724 - accuracy: 0.92 - ETA: 0s - loss: 0.1752 - accuracy: 0.91 - ETA: 0s - loss: 0.1845 - accuracy: 0.91 - ETA: 0s - loss: 0.1871 - accuracy: 0.91 - 0s 6ms/step - loss: 0.1896 - accuracy: 0.9106 - val_loss: 0.5296 - val_accuracy: 0.8304\n",
      "Epoch 22/100\n",
      "54/54 [==============================] - ETA: 0s - loss: 0.1436 - accuracy: 0.94 - ETA: 0s - loss: 0.1587 - accuracy: 0.91 - ETA: 0s - loss: 0.1670 - accuracy: 0.91 - ETA: 0s - loss: 0.1613 - accuracy: 0.91 - ETA: 0s - loss: 0.1695 - accuracy: 0.91 - ETA: 0s - loss: 0.1730 - accuracy: 0.91 - 0s 6ms/step - loss: 0.1720 - accuracy: 0.9170 - val_loss: 0.7472 - val_accuracy: 0.8262\n",
      "Epoch 23/100\n",
      "54/54 [==============================] - ETA: 0s - loss: 0.1497 - accuracy: 0.92 - ETA: 0s - loss: 0.1474 - accuracy: 0.92 - ETA: 0s - loss: 0.1477 - accuracy: 0.92 - ETA: 0s - loss: 0.1602 - accuracy: 0.92 - ETA: 0s - loss: 0.1654 - accuracy: 0.92 - ETA: 0s - loss: 0.1646 - accuracy: 0.92 - 0s 6ms/step - loss: 0.1662 - accuracy: 0.9198 - val_loss: 0.7214 - val_accuracy: 0.8247\n",
      "Epoch 24/100\n",
      "54/54 [==============================] - ETA: 0s - loss: 0.1933 - accuracy: 0.89 - ETA: 0s - loss: 0.1577 - accuracy: 0.93 - ETA: 0s - loss: 0.1586 - accuracy: 0.93 - ETA: 0s - loss: 0.1612 - accuracy: 0.92 - ETA: 0s - loss: 0.1622 - accuracy: 0.92 - ETA: 0s - loss: 0.1607 - accuracy: 0.92 - 0s 6ms/step - loss: 0.1649 - accuracy: 0.9218 - val_loss: 0.6850 - val_accuracy: 0.8107\n",
      "Epoch 25/100\n",
      "54/54 [==============================] - ETA: 0s - loss: 0.1048 - accuracy: 0.94 - ETA: 0s - loss: 0.1474 - accuracy: 0.94 - ETA: 0s - loss: 0.1476 - accuracy: 0.93 - ETA: 0s - loss: 0.1474 - accuracy: 0.93 - ETA: 0s - loss: 0.1447 - accuracy: 0.93 - ETA: 0s - loss: 0.1505 - accuracy: 0.93 - 0s 7ms/step - loss: 0.1525 - accuracy: 0.9319 - val_loss: 0.6992 - val_accuracy: 0.8156\n",
      "Epoch 26/100\n",
      "54/54 [==============================] - ETA: 0s - loss: 0.1346 - accuracy: 0.95 - ETA: 0s - loss: 0.1187 - accuracy: 0.95 - ETA: 0s - loss: 0.1209 - accuracy: 0.95 - ETA: 0s - loss: 0.1287 - accuracy: 0.94 - ETA: 0s - loss: 0.1364 - accuracy: 0.94 - ETA: 0s - loss: 0.1401 - accuracy: 0.93 - 0s 6ms/step - loss: 0.1409 - accuracy: 0.9394 - val_loss: 0.7354 - val_accuracy: 0.8107\n",
      "Epoch 27/100\n",
      "54/54 [==============================] - ETA: 0s - loss: 0.1525 - accuracy: 0.93 - ETA: 0s - loss: 0.1115 - accuracy: 0.95 - ETA: 0s - loss: 0.1120 - accuracy: 0.95 - ETA: 0s - loss: 0.1210 - accuracy: 0.94 - ETA: 0s - loss: 0.1331 - accuracy: 0.94 - ETA: 0s - loss: 0.1451 - accuracy: 0.93 - 0s 6ms/step - loss: 0.1503 - accuracy: 0.9351 - val_loss: 0.6253 - val_accuracy: 0.8323\n",
      "Epoch 28/100\n",
      "54/54 [==============================] - ETA: 0s - loss: 0.1835 - accuracy: 0.95 - ETA: 0s - loss: 0.1440 - accuracy: 0.94 - ETA: 0s - loss: 0.1559 - accuracy: 0.93 - ETA: 0s - loss: 0.1550 - accuracy: 0.93 - ETA: 0s - loss: 0.1507 - accuracy: 0.93 - ETA: 0s - loss: 0.1532 - accuracy: 0.93 - 0s 6ms/step - loss: 0.1512 - accuracy: 0.9352 - val_loss: 0.8109 - val_accuracy: 0.8247\n",
      "Epoch 29/100\n",
      "54/54 [==============================] - ETA: 0s - loss: 0.0848 - accuracy: 0.96 - ETA: 0s - loss: 0.1419 - accuracy: 0.93 - ETA: 0s - loss: 0.1358 - accuracy: 0.93 - ETA: 0s - loss: 0.1400 - accuracy: 0.94 - ETA: 0s - loss: 0.1427 - accuracy: 0.93 - ETA: 0s - loss: 0.1455 - accuracy: 0.93 - 0s 6ms/step - loss: 0.1465 - accuracy: 0.9366 - val_loss: 0.7100 - val_accuracy: 0.8247\n",
      "Epoch 30/100\n",
      "54/54 [==============================] - ETA: 0s - loss: 0.1073 - accuracy: 0.95 - ETA: 0s - loss: 0.1215 - accuracy: 0.94 - ETA: 0s - loss: 0.1247 - accuracy: 0.93 - ETA: 0s - loss: 0.1269 - accuracy: 0.93 - ETA: 0s - loss: 0.1290 - accuracy: 0.93 - ETA: 0s - loss: 0.1277 - accuracy: 0.94 - ETA: 0s - loss: 0.1253 - accuracy: 0.94 - 0s 8ms/step - loss: 0.1267 - accuracy: 0.9436 - val_loss: 0.9000 - val_accuracy: 0.8065\n",
      "Epoch 31/100\n",
      "54/54 [==============================] - ETA: 0s - loss: 0.0857 - accuracy: 0.97 - ETA: 0s - loss: 0.1008 - accuracy: 0.94 - ETA: 0s - loss: 0.0980 - accuracy: 0.95 - ETA: 0s - loss: 0.0956 - accuracy: 0.95 - ETA: 0s - loss: 0.0986 - accuracy: 0.95 - ETA: 0s - loss: 0.1024 - accuracy: 0.95 - ETA: 0s - loss: 0.1060 - accuracy: 0.95 - ETA: 0s - loss: 0.1096 - accuracy: 0.95 - 0s 9ms/step - loss: 0.1116 - accuracy: 0.9502 - val_loss: 0.9530 - val_accuracy: 0.8054\n",
      "Epoch 32/100\n",
      "54/54 [==============================] - ETA: 0s - loss: 0.0996 - accuracy: 0.96 - ETA: 0s - loss: 0.0991 - accuracy: 0.95 - ETA: 0s - loss: 0.1206 - accuracy: 0.95 - ETA: 0s - loss: 0.1199 - accuracy: 0.95 - ETA: 0s - loss: 0.1194 - accuracy: 0.95 - ETA: 0s - loss: 0.1185 - accuracy: 0.95 - 0s 6ms/step - loss: 0.1200 - accuracy: 0.9498 - val_loss: 0.8808 - val_accuracy: 0.7936\n",
      "Epoch 33/100\n",
      "54/54 [==============================] - ETA: 0s - loss: 0.0907 - accuracy: 0.96 - ETA: 0s - loss: 0.0935 - accuracy: 0.96 - ETA: 0s - loss: 0.0948 - accuracy: 0.96 - ETA: 0s - loss: 0.0952 - accuracy: 0.96 - ETA: 0s - loss: 0.1015 - accuracy: 0.95 - ETA: 0s - loss: 0.0996 - accuracy: 0.96 - ETA: 0s - loss: 0.1055 - accuracy: 0.95 - 0s 8ms/step - loss: 0.1070 - accuracy: 0.9571 - val_loss: 0.9049 - val_accuracy: 0.8156\n",
      "Epoch 34/100\n",
      "54/54 [==============================] - ETA: 0s - loss: 0.1431 - accuracy: 0.94 - ETA: 0s - loss: 0.1176 - accuracy: 0.95 - ETA: 0s - loss: 0.1116 - accuracy: 0.95 - ETA: 0s - loss: 0.0992 - accuracy: 0.96 - ETA: 0s - loss: 0.1088 - accuracy: 0.95 - ETA: 0s - loss: 0.1054 - accuracy: 0.96 - ETA: 0s - loss: 0.1085 - accuracy: 0.95 - ETA: 0s - loss: 0.1134 - accuracy: 0.95 - 0s 8ms/step - loss: 0.1134 - accuracy: 0.9556 - val_loss: 0.8317 - val_accuracy: 0.8171\n",
      "Epoch 35/100\n",
      "54/54 [==============================] - ETA: 0s - loss: 0.1070 - accuracy: 0.97 - ETA: 0s - loss: 0.1222 - accuracy: 0.95 - ETA: 0s - loss: 0.1133 - accuracy: 0.95 - ETA: 0s - loss: 0.1062 - accuracy: 0.95 - ETA: 0s - loss: 0.1025 - accuracy: 0.95 - ETA: 0s - loss: 0.1033 - accuracy: 0.95 - ETA: 0s - loss: 0.1060 - accuracy: 0.95 - 0s 7ms/step - loss: 0.1052 - accuracy: 0.9543 - val_loss: 1.0476 - val_accuracy: 0.8160\n",
      "Epoch 36/100\n",
      "54/54 [==============================] - ETA: 0s - loss: 0.0919 - accuracy: 0.97 - ETA: 0s - loss: 0.1243 - accuracy: 0.96 - ETA: 0s - loss: 0.1101 - accuracy: 0.96 - ETA: 0s - loss: 0.1109 - accuracy: 0.95 - ETA: 0s - loss: 0.1062 - accuracy: 0.95 - ETA: 0s - loss: 0.1129 - accuracy: 0.95 - ETA: 0s - loss: 0.1144 - accuracy: 0.95 - 0s 8ms/step - loss: 0.1150 - accuracy: 0.9563 - val_loss: 0.8457 - val_accuracy: 0.8164\n",
      "Epoch 37/100\n",
      "54/54 [==============================] - ETA: 0s - loss: 0.1784 - accuracy: 0.94 - ETA: 0s - loss: 0.1152 - accuracy: 0.95 - ETA: 0s - loss: 0.1008 - accuracy: 0.96 - ETA: 0s - loss: 0.1065 - accuracy: 0.96 - ETA: 0s - loss: 0.1089 - accuracy: 0.95 - ETA: 0s - loss: 0.1110 - accuracy: 0.95 - 0s 7ms/step - loss: 0.1079 - accuracy: 0.9571 - val_loss: 1.1405 - val_accuracy: 0.8213\n",
      "Epoch 38/100\n",
      "54/54 [==============================] - ETA: 0s - loss: 0.0423 - accuracy: 1.00 - ETA: 0s - loss: 0.0874 - accuracy: 0.96 - ETA: 0s - loss: 0.0878 - accuracy: 0.96 - ETA: 0s - loss: 0.0948 - accuracy: 0.96 - ETA: 0s - loss: 0.0959 - accuracy: 0.96 - ETA: 0s - loss: 0.0960 - accuracy: 0.96 - 0s 6ms/step - loss: 0.0960 - accuracy: 0.9638 - val_loss: 0.9796 - val_accuracy: 0.8114\n",
      "Epoch 39/100\n",
      "54/54 [==============================] - ETA: 0s - loss: 0.0553 - accuracy: 0.97 - ETA: 0s - loss: 0.0727 - accuracy: 0.96 - ETA: 0s - loss: 0.0719 - accuracy: 0.96 - ETA: 0s - loss: 0.0706 - accuracy: 0.97 - ETA: 0s - loss: 0.0721 - accuracy: 0.96 - ETA: 0s - loss: 0.0717 - accuracy: 0.97 - 0s 7ms/step - loss: 0.0725 - accuracy: 0.9705 - val_loss: 1.1416 - val_accuracy: 0.7982\n",
      "Epoch 40/100\n",
      "54/54 [==============================] - ETA: 0s - loss: 0.0393 - accuracy: 0.98 - ETA: 0s - loss: 0.1049 - accuracy: 0.96 - ETA: 0s - loss: 0.1091 - accuracy: 0.95 - ETA: 0s - loss: 0.1145 - accuracy: 0.95 - ETA: 0s - loss: 0.1122 - accuracy: 0.95 - ETA: 0s - loss: 0.1062 - accuracy: 0.95 - 0s 7ms/step - loss: 0.1101 - accuracy: 0.9576 - val_loss: 0.8302 - val_accuracy: 0.8277\n"
     ]
    },
    {
     "name": "stdout",
     "output_type": "stream",
     "text": [
      "Epoch 41/100\n",
      "54/54 [==============================] - ETA: 0s - loss: 0.1118 - accuracy: 0.98 - ETA: 0s - loss: 0.0874 - accuracy: 0.97 - ETA: 0s - loss: 0.0843 - accuracy: 0.97 - ETA: 0s - loss: 0.0783 - accuracy: 0.97 - ETA: 0s - loss: 0.0764 - accuracy: 0.97 - ETA: 0s - loss: 0.0764 - accuracy: 0.96 - 0s 6ms/step - loss: 0.0795 - accuracy: 0.9679 - val_loss: 1.0939 - val_accuracy: 0.8194\n",
      "Epoch 42/100\n",
      "54/54 [==============================] - ETA: 0s - loss: 0.1439 - accuracy: 0.96 - ETA: 0s - loss: 0.0879 - accuracy: 0.97 - ETA: 0s - loss: 0.0922 - accuracy: 0.96 - ETA: 0s - loss: 0.0837 - accuracy: 0.96 - ETA: 0s - loss: 0.0816 - accuracy: 0.96 - ETA: 0s - loss: 0.0772 - accuracy: 0.97 - 0s 6ms/step - loss: 0.0794 - accuracy: 0.9694 - val_loss: 1.5126 - val_accuracy: 0.8179\n",
      "Epoch 43/100\n",
      "54/54 [==============================] - ETA: 0s - loss: 0.0606 - accuracy: 0.99 - ETA: 0s - loss: 0.0724 - accuracy: 0.98 - ETA: 0s - loss: 0.0770 - accuracy: 0.97 - ETA: 0s - loss: 0.0828 - accuracy: 0.97 - ETA: 0s - loss: 0.0850 - accuracy: 0.96 - ETA: 0s - loss: 0.0808 - accuracy: 0.97 - 0s 6ms/step - loss: 0.0808 - accuracy: 0.9700 - val_loss: 1.2002 - val_accuracy: 0.8084\n",
      "Epoch 44/100\n",
      "54/54 [==============================] - ETA: 0s - loss: 0.0361 - accuracy: 0.99 - ETA: 0s - loss: 0.0596 - accuracy: 0.97 - ETA: 0s - loss: 0.0629 - accuracy: 0.97 - ETA: 0s - loss: 0.0694 - accuracy: 0.97 - ETA: 0s - loss: 0.0674 - accuracy: 0.97 - ETA: 0s - loss: 0.0680 - accuracy: 0.97 - 0s 6ms/step - loss: 0.0686 - accuracy: 0.9720 - val_loss: 1.0593 - val_accuracy: 0.8190\n",
      "Epoch 45/100\n",
      "54/54 [==============================] - ETA: 0s - loss: 0.0678 - accuracy: 0.98 - ETA: 0s - loss: 0.0493 - accuracy: 0.98 - ETA: 0s - loss: 0.0514 - accuracy: 0.98 - ETA: 0s - loss: 0.0584 - accuracy: 0.98 - ETA: 0s - loss: 0.0577 - accuracy: 0.97 - 0s 6ms/step - loss: 0.0579 - accuracy: 0.9789 - val_loss: 1.2505 - val_accuracy: 0.8183\n",
      "Epoch 46/100\n",
      "54/54 [==============================] - ETA: 0s - loss: 0.0328 - accuracy: 0.99 - ETA: 0s - loss: 0.1104 - accuracy: 0.95 - ETA: 0s - loss: 0.0987 - accuracy: 0.96 - ETA: 0s - loss: 0.0957 - accuracy: 0.96 - ETA: 0s - loss: 0.0984 - accuracy: 0.96 - 0s 5ms/step - loss: 0.1043 - accuracy: 0.9593 - val_loss: 0.8471 - val_accuracy: 0.8054\n",
      "Epoch 47/100\n",
      "54/54 [==============================] - ETA: 0s - loss: 0.1077 - accuracy: 0.94 - ETA: 0s - loss: 0.0920 - accuracy: 0.96 - ETA: 0s - loss: 0.0816 - accuracy: 0.96 - ETA: 0s - loss: 0.0772 - accuracy: 0.97 - ETA: 0s - loss: 0.0742 - accuracy: 0.97 - 0s 6ms/step - loss: 0.0767 - accuracy: 0.9701 - val_loss: 1.1778 - val_accuracy: 0.8224\n",
      "Epoch 48/100\n",
      "54/54 [==============================] - ETA: 0s - loss: 0.0524 - accuracy: 0.97 - ETA: 0s - loss: 0.0787 - accuracy: 0.96 - ETA: 0s - loss: 0.0888 - accuracy: 0.96 - ETA: 0s - loss: 0.0830 - accuracy: 0.96 - ETA: 0s - loss: 0.0825 - accuracy: 0.96 - 0s 6ms/step - loss: 0.0803 - accuracy: 0.9696 - val_loss: 1.0453 - val_accuracy: 0.8065\n",
      "Epoch 49/100\n",
      "54/54 [==============================] - ETA: 0s - loss: 0.0249 - accuracy: 1.00 - ETA: 0s - loss: 0.0464 - accuracy: 0.98 - ETA: 0s - loss: 0.0478 - accuracy: 0.97 - ETA: 0s - loss: 0.0481 - accuracy: 0.97 - ETA: 0s - loss: 0.0559 - accuracy: 0.97 - 0s 5ms/step - loss: 0.0607 - accuracy: 0.9757 - val_loss: 0.8152 - val_accuracy: 0.7982\n",
      "Epoch 50/100\n",
      "54/54 [==============================] - ETA: 0s - loss: 0.0814 - accuracy: 0.98 - ETA: 0s - loss: 0.0552 - accuracy: 0.98 - ETA: 0s - loss: 0.0467 - accuracy: 0.98 - ETA: 0s - loss: 0.0485 - accuracy: 0.98 - ETA: 0s - loss: 0.0544 - accuracy: 0.97 - 0s 5ms/step - loss: 0.0581 - accuracy: 0.9774 - val_loss: 0.9647 - val_accuracy: 0.7989\n",
      "Epoch 51/100\n",
      "54/54 [==============================] - ETA: 0s - loss: 0.0446 - accuracy: 0.99 - ETA: 0s - loss: 0.0360 - accuracy: 0.98 - ETA: 0s - loss: 0.0458 - accuracy: 0.98 - ETA: 0s - loss: 0.0643 - accuracy: 0.97 - ETA: 0s - loss: 0.0718 - accuracy: 0.97 - 0s 6ms/step - loss: 0.0724 - accuracy: 0.9728 - val_loss: 1.1594 - val_accuracy: 0.8194\n",
      "Epoch 52/100\n",
      "54/54 [==============================] - ETA: 0s - loss: 0.0407 - accuracy: 0.99 - ETA: 0s - loss: 0.0480 - accuracy: 0.98 - ETA: 0s - loss: 0.0485 - accuracy: 0.98 - ETA: 0s - loss: 0.0548 - accuracy: 0.98 - ETA: 0s - loss: 0.0549 - accuracy: 0.97 - 0s 5ms/step - loss: 0.0572 - accuracy: 0.9778 - val_loss: 1.1283 - val_accuracy: 0.7906\n",
      "Epoch 53/100\n",
      "54/54 [==============================] - ETA: 0s - loss: 0.0353 - accuracy: 0.99 - ETA: 0s - loss: 0.0492 - accuracy: 0.98 - ETA: 0s - loss: 0.0475 - accuracy: 0.98 - ETA: 0s - loss: 0.0489 - accuracy: 0.98 - ETA: 0s - loss: 0.0524 - accuracy: 0.98 - 0s 6ms/step - loss: 0.0562 - accuracy: 0.9780 - val_loss: 1.0821 - val_accuracy: 0.8148\n",
      "Epoch 54/100\n",
      "54/54 [==============================] - ETA: 0s - loss: 0.0629 - accuracy: 0.97 - ETA: 0s - loss: 0.0829 - accuracy: 0.97 - ETA: 0s - loss: 0.0661 - accuracy: 0.98 - ETA: 0s - loss: 0.0600 - accuracy: 0.98 - ETA: 0s - loss: 0.0509 - accuracy: 0.98 - ETA: 0s - loss: 0.0481 - accuracy: 0.98 - 0s 7ms/step - loss: 0.0586 - accuracy: 0.9813 - val_loss: 1.0070 - val_accuracy: 0.7736\n",
      "Epoch 55/100\n",
      "54/54 [==============================] - ETA: 0s - loss: 0.1003 - accuracy: 0.96 - ETA: 0s - loss: 0.1064 - accuracy: 0.95 - ETA: 0s - loss: 0.1105 - accuracy: 0.95 - ETA: 0s - loss: 0.0986 - accuracy: 0.95 - ETA: 0s - loss: 0.0909 - accuracy: 0.96 - ETA: 0s - loss: 0.0857 - accuracy: 0.96 - 0s 6ms/step - loss: 0.0855 - accuracy: 0.9631 - val_loss: 1.3884 - val_accuracy: 0.8133\n",
      "Epoch 56/100\n",
      "54/54 [==============================] - ETA: 0s - loss: 0.0261 - accuracy: 0.99 - ETA: 0s - loss: 0.0421 - accuracy: 0.98 - ETA: 0s - loss: 0.0369 - accuracy: 0.98 - ETA: 0s - loss: 0.0413 - accuracy: 0.98 - ETA: 0s - loss: 0.0464 - accuracy: 0.98 - ETA: 0s - loss: 0.0481 - accuracy: 0.98 - 0s 7ms/step - loss: 0.0479 - accuracy: 0.9815 - val_loss: 1.2058 - val_accuracy: 0.8069\n",
      "Epoch 57/100\n",
      "54/54 [==============================] - ETA: 0s - loss: 0.0436 - accuracy: 0.98 - ETA: 0s - loss: 0.0400 - accuracy: 0.98 - ETA: 0s - loss: 0.0491 - accuracy: 0.98 - ETA: 0s - loss: 0.0546 - accuracy: 0.97 - ETA: 0s - loss: 0.0616 - accuracy: 0.97 - ETA: 0s - loss: 0.0594 - accuracy: 0.97 - 0s 7ms/step - loss: 0.0588 - accuracy: 0.9780 - val_loss: 1.5127 - val_accuracy: 0.8209\n",
      "Epoch 58/100\n",
      "54/54 [==============================] - ETA: 0s - loss: 0.0203 - accuracy: 0.99 - ETA: 0s - loss: 0.0354 - accuracy: 0.98 - ETA: 0s - loss: 0.0334 - accuracy: 0.98 - ETA: 0s - loss: 0.0354 - accuracy: 0.98 - ETA: 0s - loss: 0.0510 - accuracy: 0.98 - ETA: 0s - loss: 0.0543 - accuracy: 0.98 - ETA: 0s - loss: 0.0589 - accuracy: 0.98 - 0s 7ms/step - loss: 0.0589 - accuracy: 0.9808 - val_loss: 0.9341 - val_accuracy: 0.8050\n",
      "Epoch 59/100\n",
      "54/54 [==============================] - ETA: 0s - loss: 0.0755 - accuracy: 0.97 - ETA: 0s - loss: 0.0509 - accuracy: 0.98 - ETA: 0s - loss: 0.0422 - accuracy: 0.98 - ETA: 0s - loss: 0.0421 - accuracy: 0.98 - ETA: 0s - loss: 0.0404 - accuracy: 0.98 - ETA: 0s - loss: 0.0486 - accuracy: 0.98 - 0s 7ms/step - loss: 0.0490 - accuracy: 0.9854 - val_loss: 0.9479 - val_accuracy: 0.8209\n",
      "Epoch 60/100\n",
      "54/54 [==============================] - ETA: 0s - loss: 0.0467 - accuracy: 0.99 - ETA: 0s - loss: 0.0427 - accuracy: 0.98 - ETA: 0s - loss: 0.0376 - accuracy: 0.98 - ETA: 0s - loss: 0.0361 - accuracy: 0.98 - ETA: 0s - loss: 0.0384 - accuracy: 0.98 - ETA: 0s - loss: 0.0405 - accuracy: 0.98 - 0s 7ms/step - loss: 0.0434 - accuracy: 0.9845 - val_loss: 1.3635 - val_accuracy: 0.8205\n",
      "Epoch 61/100\n",
      "54/54 [==============================] - ETA: 0s - loss: 0.0103 - accuracy: 0.99 - ETA: 0s - loss: 0.0349 - accuracy: 0.98 - ETA: 0s - loss: 0.0340 - accuracy: 0.99 - ETA: 0s - loss: 0.0343 - accuracy: 0.98 - ETA: 0s - loss: 0.0327 - accuracy: 0.99 - ETA: 0s - loss: 0.0335 - accuracy: 0.98 - ETA: 0s - loss: 0.0363 - accuracy: 0.98 - 0s 7ms/step - loss: 0.0367 - accuracy: 0.9882 - val_loss: 1.3385 - val_accuracy: 0.8065\n",
      "Epoch 62/100\n"
     ]
    },
    {
     "name": "stdout",
     "output_type": "stream",
     "text": [
      "54/54 [==============================] - ETA: 0s - loss: 0.0294 - accuracy: 0.99 - ETA: 0s - loss: 0.0473 - accuracy: 0.97 - ETA: 0s - loss: 0.0582 - accuracy: 0.97 - ETA: 0s - loss: 0.0565 - accuracy: 0.98 - ETA: 0s - loss: 0.0554 - accuracy: 0.97 - ETA: 0s - loss: 0.0545 - accuracy: 0.97 - 0s 6ms/step - loss: 0.0544 - accuracy: 0.9797 - val_loss: 1.1847 - val_accuracy: 0.8080\n",
      "Epoch 63/100\n",
      "54/54 [==============================] - ETA: 0s - loss: 0.0313 - accuracy: 0.98 - ETA: 0s - loss: 0.0213 - accuracy: 0.99 - ETA: 0s - loss: 0.0343 - accuracy: 0.98 - ETA: 0s - loss: 0.0368 - accuracy: 0.98 - ETA: 0s - loss: 0.0322 - accuracy: 0.98 - ETA: 0s - loss: 0.0369 - accuracy: 0.98 - 0s 6ms/step - loss: 0.0384 - accuracy: 0.9877 - val_loss: 1.0450 - val_accuracy: 0.8065\n",
      "Epoch 64/100\n",
      "54/54 [==============================] - ETA: 0s - loss: 0.0415 - accuracy: 0.98 - ETA: 0s - loss: 0.0727 - accuracy: 0.97 - ETA: 0s - loss: 0.0670 - accuracy: 0.98 - ETA: 0s - loss: 0.0574 - accuracy: 0.98 - ETA: 0s - loss: 0.0537 - accuracy: 0.98 - 0s 6ms/step - loss: 0.0539 - accuracy: 0.9826 - val_loss: 1.2415 - val_accuracy: 0.8088\n",
      "Epoch 65/100\n",
      "54/54 [==============================] - ETA: 0s - loss: 0.0048 - accuracy: 1.00 - ETA: 0s - loss: 0.0297 - accuracy: 0.98 - ETA: 0s - loss: 0.0306 - accuracy: 0.98 - ETA: 0s - loss: 0.0252 - accuracy: 0.99 - ETA: 0s - loss: 0.0267 - accuracy: 0.99 - 0s 6ms/step - loss: 0.0321 - accuracy: 0.9888 - val_loss: 1.3545 - val_accuracy: 0.8164\n",
      "Epoch 66/100\n",
      "54/54 [==============================] - ETA: 0s - loss: 0.0387 - accuracy: 0.98 - ETA: 0s - loss: 0.0518 - accuracy: 0.98 - ETA: 0s - loss: 0.0419 - accuracy: 0.98 - ETA: 0s - loss: 0.0376 - accuracy: 0.98 - ETA: 0s - loss: 0.0404 - accuracy: 0.98 - ETA: 0s - loss: 0.0472 - accuracy: 0.98 - 0s 6ms/step - loss: 0.0468 - accuracy: 0.9856 - val_loss: 0.9975 - val_accuracy: 0.8122\n",
      "Epoch 67/100\n",
      "54/54 [==============================] - ETA: 0s - loss: 0.0227 - accuracy: 1.00 - ETA: 0s - loss: 0.0449 - accuracy: 0.98 - ETA: 0s - loss: 0.0371 - accuracy: 0.98 - ETA: 0s - loss: 0.0411 - accuracy: 0.98 - ETA: 0s - loss: 0.0520 - accuracy: 0.98 - 0s 6ms/step - loss: 0.0515 - accuracy: 0.9834 - val_loss: 1.1614 - val_accuracy: 0.8247\n",
      "Epoch 68/100\n",
      "54/54 [==============================] - ETA: 0s - loss: 0.0171 - accuracy: 0.99 - ETA: 0s - loss: 0.0478 - accuracy: 0.98 - ETA: 0s - loss: 0.0385 - accuracy: 0.98 - ETA: 0s - loss: 0.0377 - accuracy: 0.98 - ETA: 0s - loss: 0.0367 - accuracy: 0.98 - 0s 6ms/step - loss: 0.0395 - accuracy: 0.9860 - val_loss: 1.0907 - val_accuracy: 0.8164\n",
      "Epoch 69/100\n",
      "54/54 [==============================] - ETA: 0s - loss: 0.0152 - accuracy: 1.00 - ETA: 0s - loss: 0.0321 - accuracy: 0.99 - ETA: 0s - loss: 0.0253 - accuracy: 0.99 - ETA: 0s - loss: 0.0318 - accuracy: 0.98 - ETA: 0s - loss: 0.0311 - accuracy: 0.98 - ETA: 0s - loss: 0.0294 - accuracy: 0.98 - 0s 7ms/step - loss: 0.0309 - accuracy: 0.9892 - val_loss: 1.6155 - val_accuracy: 0.8160\n",
      "Epoch 70/100\n",
      "54/54 [==============================] - ETA: 0s - loss: 0.0488 - accuracy: 0.98 - ETA: 0s - loss: 0.0293 - accuracy: 0.99 - ETA: 0s - loss: 0.0286 - accuracy: 0.99 - ETA: 0s - loss: 0.0501 - accuracy: 0.98 - ETA: 0s - loss: 0.0526 - accuracy: 0.98 - ETA: 0s - loss: 0.0519 - accuracy: 0.98 - 0s 6ms/step - loss: 0.0514 - accuracy: 0.9875 - val_loss: 1.1834 - val_accuracy: 0.8020\n",
      "Epoch 71/100\n",
      "54/54 [==============================] - ETA: 0s - loss: 0.0568 - accuracy: 0.98 - ETA: 0s - loss: 0.0515 - accuracy: 0.97 - ETA: 0s - loss: 0.0567 - accuracy: 0.97 - ETA: 0s - loss: 0.0536 - accuracy: 0.98 - ETA: 0s - loss: 0.0543 - accuracy: 0.98 - ETA: 0s - loss: 0.0547 - accuracy: 0.98 - 0s 6ms/step - loss: 0.0533 - accuracy: 0.9821 - val_loss: 1.0005 - val_accuracy: 0.8046\n",
      "Epoch 72/100\n",
      "54/54 [==============================] - ETA: 0s - loss: 0.0158 - accuracy: 1.00 - ETA: 0s - loss: 0.0423 - accuracy: 0.99 - ETA: 0s - loss: 0.0357 - accuracy: 0.99 - ETA: 0s - loss: 0.0329 - accuracy: 0.99 - ETA: 0s - loss: 0.0387 - accuracy: 0.98 - ETA: 0s - loss: 0.0432 - accuracy: 0.98 - 0s 7ms/step - loss: 0.0455 - accuracy: 0.9864 - val_loss: 0.9173 - val_accuracy: 0.7917\n",
      "Epoch 73/100\n",
      "54/54 [==============================] - ETA: 0s - loss: 0.0718 - accuracy: 0.97 - ETA: 0s - loss: 0.0670 - accuracy: 0.98 - ETA: 0s - loss: 0.0544 - accuracy: 0.98 - ETA: 0s - loss: 0.0550 - accuracy: 0.98 - ETA: 0s - loss: 0.0553 - accuracy: 0.98 - ETA: 0s - loss: 0.0536 - accuracy: 0.98 - 0s 6ms/step - loss: 0.0532 - accuracy: 0.9825 - val_loss: 1.1926 - val_accuracy: 0.8035\n",
      "Epoch 74/100\n",
      "54/54 [==============================] - ETA: 0s - loss: 0.0531 - accuracy: 0.98 - ETA: 0s - loss: 0.0246 - accuracy: 0.99 - ETA: 0s - loss: 0.0430 - accuracy: 0.98 - ETA: 0s - loss: 0.0480 - accuracy: 0.98 - ETA: 0s - loss: 0.0514 - accuracy: 0.98 - ETA: 0s - loss: 0.0521 - accuracy: 0.98 - 0s 6ms/step - loss: 0.0511 - accuracy: 0.9828 - val_loss: 1.1643 - val_accuracy: 0.8092\n",
      "Epoch 75/100\n",
      "54/54 [==============================] - ETA: 0s - loss: 0.0136 - accuracy: 1.00 - ETA: 0s - loss: 0.0275 - accuracy: 0.99 - ETA: 0s - loss: 0.0327 - accuracy: 0.98 - ETA: 0s - loss: 0.0410 - accuracy: 0.98 - ETA: 0s - loss: 0.0410 - accuracy: 0.98 - ETA: 0s - loss: 0.0448 - accuracy: 0.98 - 0s 7ms/step - loss: 0.0448 - accuracy: 0.9858 - val_loss: 1.3364 - val_accuracy: 0.8148\n",
      "Epoch 76/100\n",
      "54/54 [==============================] - ETA: 0s - loss: 0.0236 - accuracy: 1.00 - ETA: 0s - loss: 0.0375 - accuracy: 0.99 - ETA: 0s - loss: 0.0375 - accuracy: 0.99 - ETA: 0s - loss: 0.0325 - accuracy: 0.99 - ETA: 0s - loss: 0.0353 - accuracy: 0.99 - ETA: 0s - loss: 0.0352 - accuracy: 0.98 - 0s 7ms/step - loss: 0.0349 - accuracy: 0.9892 - val_loss: 1.1150 - val_accuracy: 0.8126\n",
      "Epoch 77/100\n",
      "54/54 [==============================] - ETA: 0s - loss: 0.0465 - accuracy: 0.98 - ETA: 0s - loss: 0.0355 - accuracy: 0.98 - ETA: 0s - loss: 0.0446 - accuracy: 0.98 - ETA: 0s - loss: 0.0421 - accuracy: 0.98 - ETA: 0s - loss: 0.0418 - accuracy: 0.98 - ETA: 0s - loss: 0.0378 - accuracy: 0.98 - ETA: 0s - loss: 0.0420 - accuracy: 0.98 - 0s 7ms/step - loss: 0.0420 - accuracy: 0.9864 - val_loss: 1.1893 - val_accuracy: 0.8111\n",
      "Epoch 78/100\n",
      "54/54 [==============================] - ETA: 0s - loss: 0.0176 - accuracy: 0.99 - ETA: 0s - loss: 0.0284 - accuracy: 0.99 - ETA: 0s - loss: 0.0248 - accuracy: 0.99 - ETA: 0s - loss: 0.0327 - accuracy: 0.99 - ETA: 0s - loss: 0.0303 - accuracy: 0.99 - ETA: 0s - loss: 0.0313 - accuracy: 0.99 - ETA: 0s - loss: 0.0371 - accuracy: 0.98 - 0s 8ms/step - loss: 0.0378 - accuracy: 0.9896 - val_loss: 1.0614 - val_accuracy: 0.8084\n",
      "Epoch 79/100\n",
      "54/54 [==============================] - ETA: 0s - loss: 0.0252 - accuracy: 1.00 - ETA: 0s - loss: 0.0243 - accuracy: 0.99 - ETA: 0s - loss: 0.0264 - accuracy: 0.99 - ETA: 0s - loss: 0.0308 - accuracy: 0.99 - ETA: 0s - loss: 0.0300 - accuracy: 0.99 - ETA: 0s - loss: 0.0331 - accuracy: 0.99 - 0s 6ms/step - loss: 0.0351 - accuracy: 0.9901 - val_loss: 1.1072 - val_accuracy: 0.8084\n",
      "Epoch 80/100\n",
      "54/54 [==============================] - ETA: 0s - loss: 0.1105 - accuracy: 0.98 - ETA: 0s - loss: 0.0419 - accuracy: 0.98 - ETA: 0s - loss: 0.0422 - accuracy: 0.98 - ETA: 0s - loss: 0.0423 - accuracy: 0.98 - ETA: 0s - loss: 0.0390 - accuracy: 0.98 - ETA: 0s - loss: 0.0393 - accuracy: 0.98 - 0s 7ms/step - loss: 0.0399 - accuracy: 0.9869 - val_loss: 1.3089 - val_accuracy: 0.8183\n",
      "Epoch 81/100\n",
      "54/54 [==============================] - ETA: 0s - loss: 0.0157 - accuracy: 0.99 - ETA: 0s - loss: 0.0211 - accuracy: 0.99 - ETA: 0s - loss: 0.0239 - accuracy: 0.99 - ETA: 0s - loss: 0.0276 - accuracy: 0.99 - ETA: 0s - loss: 0.0290 - accuracy: 0.99 - ETA: 0s - loss: 0.0310 - accuracy: 0.99 - 0s 7ms/step - loss: 0.0305 - accuracy: 0.9909 - val_loss: 1.2267 - val_accuracy: 0.8220\n",
      "Epoch 82/100\n",
      "54/54 [==============================] - ETA: 0s - loss: 0.1437 - accuracy: 0.96 - ETA: 0s - loss: 0.0454 - accuracy: 0.98 - ETA: 0s - loss: 0.0382 - accuracy: 0.98 - ETA: 0s - loss: 0.0422 - accuracy: 0.98 - ETA: 0s - loss: 0.0360 - accuracy: 0.99 - ETA: 0s - loss: 0.0330 - accuracy: 0.99 - 0s 6ms/step - loss: 0.0313 - accuracy: 0.9914 - val_loss: 1.6120 - val_accuracy: 0.8069\n",
      "Epoch 83/100\n"
     ]
    },
    {
     "name": "stdout",
     "output_type": "stream",
     "text": [
      "54/54 [==============================] - ETA: 0s - loss: 0.0108 - accuracy: 0.99 - ETA: 0s - loss: 0.0148 - accuracy: 0.99 - ETA: 0s - loss: 0.0119 - accuracy: 0.99 - ETA: 0s - loss: 0.0095 - accuracy: 0.99 - ETA: 0s - loss: 0.0099 - accuracy: 0.99 - ETA: 0s - loss: 0.0125 - accuracy: 0.99 - 0s 7ms/step - loss: 0.0153 - accuracy: 0.9953 - val_loss: 1.7745 - val_accuracy: 0.8058\n",
      "Epoch 84/100\n",
      "54/54 [==============================] - ETA: 0s - loss: 0.0021 - accuracy: 1.00 - ETA: 0s - loss: 0.0383 - accuracy: 0.99 - ETA: 0s - loss: 0.0332 - accuracy: 0.99 - ETA: 0s - loss: 0.0318 - accuracy: 0.99 - ETA: 0s - loss: 0.0280 - accuracy: 0.99 - ETA: 0s - loss: 0.0285 - accuracy: 0.99 - 0s 6ms/step - loss: 0.0288 - accuracy: 0.9912 - val_loss: 1.4867 - val_accuracy: 0.8099\n",
      "Epoch 85/100\n",
      "54/54 [==============================] - ETA: 0s - loss: 0.0072 - accuracy: 1.00 - ETA: 0s - loss: 0.0284 - accuracy: 0.99 - ETA: 0s - loss: 0.0305 - accuracy: 0.99 - ETA: 0s - loss: 0.0260 - accuracy: 0.99 - ETA: 0s - loss: 0.0298 - accuracy: 0.99 - ETA: 0s - loss: 0.0290 - accuracy: 0.99 - 0s 7ms/step - loss: 0.0289 - accuracy: 0.9920 - val_loss: 1.3696 - val_accuracy: 0.8122\n",
      "Epoch 86/100\n",
      "54/54 [==============================] - ETA: 0s - loss: 0.0167 - accuracy: 0.99 - ETA: 0s - loss: 0.0341 - accuracy: 0.98 - ETA: 0s - loss: 0.0270 - accuracy: 0.99 - ETA: 0s - loss: 0.0224 - accuracy: 0.99 - ETA: 0s - loss: 0.0224 - accuracy: 0.99 - ETA: 0s - loss: 0.0237 - accuracy: 0.99 - 0s 6ms/step - loss: 0.0229 - accuracy: 0.9927 - val_loss: 1.8264 - val_accuracy: 0.8164\n",
      "Epoch 87/100\n",
      "54/54 [==============================] - ETA: 0s - loss: 0.0072 - accuracy: 1.00 - ETA: 0s - loss: 0.0289 - accuracy: 0.99 - ETA: 0s - loss: 0.0216 - accuracy: 0.99 - ETA: 0s - loss: 0.0225 - accuracy: 0.99 - ETA: 0s - loss: 0.0291 - accuracy: 0.99 - ETA: 0s - loss: 0.0350 - accuracy: 0.99 - ETA: 0s - loss: 0.0353 - accuracy: 0.99 - 0s 8ms/step - loss: 0.0375 - accuracy: 0.9907 - val_loss: 1.1564 - val_accuracy: 0.8160\n",
      "Epoch 88/100\n",
      "54/54 [==============================] - ETA: 0s - loss: 0.0452 - accuracy: 0.99 - ETA: 0s - loss: 0.0217 - accuracy: 0.99 - ETA: 0s - loss: 0.0259 - accuracy: 0.99 - ETA: 0s - loss: 0.0237 - accuracy: 0.99 - ETA: 0s - loss: 0.0254 - accuracy: 0.99 - ETA: 0s - loss: 0.0264 - accuracy: 0.99 - 0s 7ms/step - loss: 0.0246 - accuracy: 0.9922 - val_loss: 1.5882 - val_accuracy: 0.8031\n",
      "Epoch 89/100\n",
      "54/54 [==============================] - ETA: 0s - loss: 0.0115 - accuracy: 1.00 - ETA: 0s - loss: 0.0216 - accuracy: 0.99 - ETA: 0s - loss: 0.0240 - accuracy: 0.99 - ETA: 0s - loss: 0.0263 - accuracy: 0.99 - ETA: 0s - loss: 0.0292 - accuracy: 0.99 - ETA: 0s - loss: 0.0291 - accuracy: 0.99 - 0s 7ms/step - loss: 0.0331 - accuracy: 0.9901 - val_loss: 1.3708 - val_accuracy: 0.8122\n",
      "Epoch 90/100\n",
      "54/54 [==============================] - ETA: 0s - loss: 0.0296 - accuracy: 0.99 - ETA: 0s - loss: 0.0682 - accuracy: 0.97 - ETA: 0s - loss: 0.0656 - accuracy: 0.97 - ETA: 0s - loss: 0.0649 - accuracy: 0.97 - ETA: 0s - loss: 0.0640 - accuracy: 0.97 - ETA: 0s - loss: 0.0614 - accuracy: 0.97 - 0s 7ms/step - loss: 0.0569 - accuracy: 0.9789 - val_loss: 1.6226 - val_accuracy: 0.8114\n",
      "Epoch 91/100\n",
      "54/54 [==============================] - ETA: 0s - loss: 0.0641 - accuracy: 0.98 - ETA: 0s - loss: 0.0344 - accuracy: 0.98 - ETA: 0s - loss: 0.0366 - accuracy: 0.98 - ETA: 0s - loss: 0.0404 - accuracy: 0.98 - ETA: 0s - loss: 0.0411 - accuracy: 0.98 - ETA: 0s - loss: 0.0434 - accuracy: 0.98 - 0s 7ms/step - loss: 0.0437 - accuracy: 0.9856 - val_loss: 1.2542 - val_accuracy: 0.8179\n",
      "Epoch 92/100\n",
      "54/54 [==============================] - ETA: 0s - loss: 0.0191 - accuracy: 1.00 - ETA: 0s - loss: 0.0244 - accuracy: 0.99 - ETA: 0s - loss: 0.0221 - accuracy: 0.99 - ETA: 0s - loss: 0.0219 - accuracy: 0.99 - ETA: 0s - loss: 0.0213 - accuracy: 0.99 - ETA: 0s - loss: 0.0199 - accuracy: 0.99 - 0s 7ms/step - loss: 0.0206 - accuracy: 0.9937 - val_loss: 1.7638 - val_accuracy: 0.8137\n",
      "Epoch 93/100\n",
      "54/54 [==============================] - ETA: 0s - loss: 0.0038 - accuracy: 1.00 - ETA: 0s - loss: 0.0220 - accuracy: 0.99 - ETA: 0s - loss: 0.0315 - accuracy: 0.99 - ETA: 0s - loss: 0.0327 - accuracy: 0.99 - ETA: 0s - loss: 0.0290 - accuracy: 0.99 - ETA: 0s - loss: 0.0287 - accuracy: 0.99 - ETA: 0s - loss: 0.0282 - accuracy: 0.99 - 0s 8ms/step - loss: 0.0279 - accuracy: 0.9920 - val_loss: 1.4492 - val_accuracy: 0.8114\n",
      "Epoch 94/100\n",
      "54/54 [==============================] - ETA: 0s - loss: 0.0038 - accuracy: 1.00 - ETA: 0s - loss: 0.0173 - accuracy: 0.99 - ETA: 0s - loss: 0.0245 - accuracy: 0.99 - ETA: 0s - loss: 0.0208 - accuracy: 0.99 - ETA: 0s - loss: 0.0202 - accuracy: 0.99 - ETA: 0s - loss: 0.0216 - accuracy: 0.99 - ETA: 0s - loss: 0.0217 - accuracy: 0.99 - ETA: 0s - loss: 0.0223 - accuracy: 0.99 - 0s 9ms/step - loss: 0.0223 - accuracy: 0.9940 - val_loss: 1.3277 - val_accuracy: 0.8236\n",
      "Epoch 95/100\n",
      "54/54 [==============================] - ETA: 0s - loss: 0.0035 - accuracy: 1.00 - ETA: 0s - loss: 0.0105 - accuracy: 0.99 - ETA: 0s - loss: 0.0155 - accuracy: 0.99 - ETA: 0s - loss: 0.0174 - accuracy: 0.99 - ETA: 0s - loss: 0.0149 - accuracy: 0.99 - ETA: 0s - loss: 0.0162 - accuracy: 0.99 - ETA: 0s - loss: 0.0170 - accuracy: 0.99 - ETA: 0s - loss: 0.0198 - accuracy: 0.99 - ETA: 0s - loss: 0.0204 - accuracy: 0.99 - ETA: 0s - loss: 0.0197 - accuracy: 0.99 - 1s 12ms/step - loss: 0.0194 - accuracy: 0.9946 - val_loss: 1.4608 - val_accuracy: 0.8061\n",
      "Epoch 96/100\n",
      "54/54 [==============================] - ETA: 0s - loss: 0.0405 - accuracy: 0.99 - ETA: 0s - loss: 0.0173 - accuracy: 0.99 - ETA: 0s - loss: 0.0108 - accuracy: 0.99 - ETA: 0s - loss: 0.0103 - accuracy: 0.99 - ETA: 0s - loss: 0.0100 - accuracy: 0.99 - ETA: 0s - loss: 0.0124 - accuracy: 0.99 - ETA: 0s - loss: 0.0133 - accuracy: 0.99 - ETA: 0s - loss: 0.0122 - accuracy: 0.99 - ETA: 0s - loss: 0.0134 - accuracy: 0.99 - 1s 10ms/step - loss: 0.0142 - accuracy: 0.9961 - val_loss: 1.6089 - val_accuracy: 0.8069\n",
      "Epoch 97/100\n",
      "54/54 [==============================] - ETA: 0s - loss: 0.0461 - accuracy: 0.99 - ETA: 0s - loss: 0.0128 - accuracy: 0.99 - ETA: 0s - loss: 0.0405 - accuracy: 0.99 - ETA: 0s - loss: 0.0402 - accuracy: 0.99 - ETA: 0s - loss: 0.0407 - accuracy: 0.99 - ETA: 0s - loss: 0.0370 - accuracy: 0.99 - ETA: 0s - loss: 0.0334 - accuracy: 0.99 - ETA: 0s - loss: 0.0305 - accuracy: 0.99 - 0s 9ms/step - loss: 0.0291 - accuracy: 0.9940 - val_loss: 2.0698 - val_accuracy: 0.8156\n",
      "Epoch 98/100\n",
      "54/54 [==============================] - ETA: 0s - loss: 0.0122 - accuracy: 0.99 - ETA: 0s - loss: 0.0112 - accuracy: 0.99 - ETA: 0s - loss: 0.0281 - accuracy: 0.99 - ETA: 0s - loss: 0.0380 - accuracy: 0.98 - ETA: 0s - loss: 0.0448 - accuracy: 0.98 - ETA: 0s - loss: 0.0468 - accuracy: 0.98 - ETA: 0s - loss: 0.0498 - accuracy: 0.98 - ETA: 0s - loss: 0.0485 - accuracy: 0.98 - 1s 9ms/step - loss: 0.0470 - accuracy: 0.9843 - val_loss: 1.2347 - val_accuracy: 0.8084\n",
      "Epoch 99/100\n",
      "54/54 [==============================] - ETA: 0s - loss: 0.0162 - accuracy: 1.00 - ETA: 0s - loss: 0.0281 - accuracy: 0.99 - ETA: 0s - loss: 0.0350 - accuracy: 0.98 - ETA: 0s - loss: 0.0427 - accuracy: 0.98 - ETA: 0s - loss: 0.0409 - accuracy: 0.98 - ETA: 0s - loss: 0.0404 - accuracy: 0.98 - ETA: 0s - loss: 0.0394 - accuracy: 0.98 - ETA: 0s - loss: 0.0409 - accuracy: 0.98 - 1s 9ms/step - loss: 0.0399 - accuracy: 0.9860 - val_loss: 1.2674 - val_accuracy: 0.8190\n",
      "Epoch 100/100\n",
      "54/54 [==============================] - ETA: 0s - loss: 0.0119 - accuracy: 1.00 - ETA: 0s - loss: 0.0214 - accuracy: 0.99 - ETA: 0s - loss: 0.0194 - accuracy: 0.99 - ETA: 0s - loss: 0.0224 - accuracy: 0.99 - ETA: 0s - loss: 0.0214 - accuracy: 0.99 - ETA: 0s - loss: 0.0218 - accuracy: 0.99 - ETA: 0s - loss: 0.0241 - accuracy: 0.99 - ETA: 0s - loss: 0.0269 - accuracy: 0.99 - 1s 9ms/step - loss: 0.0268 - accuracy: 0.9903 - val_loss: 1.1974 - val_accuracy: 0.8129\n"
     ]
    }
   ],
   "source": [
    "# Fitting the ANN to the Training set\n",
    "model_history=classifier.fit(X_train, y_train,validation_split=0.33, batch_size = 100,epochs = 100)"
   ]
  },
  {
   "cell_type": "code",
   "execution_count": 90,
   "metadata": {},
   "outputs": [
    {
     "name": "stdout",
     "output_type": "stream",
     "text": [
      "dict_keys(['loss', 'accuracy', 'val_loss', 'val_accuracy'])\n"
     ]
    },
    {
     "data": {
      "image/png": "[encoded data removed]",
      "text/plain": [
       "<Figure size 432x288 with 1 Axes>"
      ]
     },
     "metadata": {
      "needs_background": "light"
     },
     "output_type": "display_data"
    }
   ],
   "source": [
    "import matplotlib.pyplot as plt\n",
    "\n",
    "# list all data in history\n",
    "\n",
    "print(model_history.history.keys())\n",
    "\n",
    "# summarize history for accuracy\n",
    "plt.plot(model_history.history['accuracy'])\n",
    "plt.plot(model_history.history['val_accuracy'])\n",
    "plt.title('model accuracy')\n",
    "plt.ylabel('accuracy')\n",
    "plt.xlabel('epoch')\n",
    "plt.legend(['train', 'test'], loc='upper left')\n",
    "plt.show()"
   ]
  },
  {
   "cell_type": "code",
   "execution_count": null,
   "metadata": {},
   "outputs": [],
   "source": []
  }
 ],
 "metadata": {
  "kernelspec": {
   "display_name": "Python 3",
   "language": "python",
   "name": "python3"
  },
  "language_info": {
   "codemirror_mode": {
    "name": "ipython",
    "version": 3
   },
   "file_extension": ".py",
   "mimetype": "text/x-python",
   "name": "python",
   "nbconvert_exporter": "python",
   "pygments_lexer": "ipython3",
   "version": "3.8.3"
  }
 },
 "nbformat": 4,
 "nbformat_minor": 4
}
