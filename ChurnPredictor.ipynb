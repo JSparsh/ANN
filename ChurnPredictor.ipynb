{
 "cells": [
  {
   "cell_type": "code",
   "execution_count": 42,
   "metadata": {},
   "outputs": [
    {
     "data": {
      "text/html": [
       "<div>\n",
       "<style scoped>\n",
       "    .dataframe tbody tr th:only-of-type {\n",
       "        vertical-align: middle;\n",
       "    }\n",
       "\n",
       "    .dataframe tbody tr th {\n",
       "        vertical-align: top;\n",
       "    }\n",
       "\n",
       "    .dataframe thead th {\n",
       "        text-align: right;\n",
       "    }\n",
       "</style>\n",
       "<table border=\"1\" class=\"dataframe\">\n",
       "  <thead>\n",
       "    <tr style=\"text-align: right;\">\n",
       "      <th></th>\n",
       "      <th>RowNumber</th>\n",
       "      <th>CustomerId</th>\n",
       "      <th>Surname</th>\n",
       "      <th>CreditScore</th>\n",
       "      <th>Geography</th>\n",
       "      <th>Gender</th>\n",
       "      <th>Age</th>\n",
       "      <th>Tenure</th>\n",
       "      <th>Balance</th>\n",
       "      <th>NumOfProducts</th>\n",
       "      <th>HasCrCard</th>\n",
       "      <th>IsActiveMember</th>\n",
       "      <th>EstimatedSalary</th>\n",
       "      <th>Exited</th>\n",
       "    </tr>\n",
       "  </thead>\n",
       "  <tbody>\n",
       "    <tr>\n",
       "      <th>0</th>\n",
       "      <td>1</td>\n",
       "      <td>15634602</td>\n",
       "      <td>Hargrave</td>\n",
       "      <td>619</td>\n",
       "      <td>France</td>\n",
       "      <td>Female</td>\n",
       "      <td>42</td>\n",
       "      <td>2</td>\n",
       "      <td>0.00</td>\n",
       "      <td>1</td>\n",
       "      <td>1</td>\n",
       "      <td>1</td>\n",
       "      <td>101348.88</td>\n",
       "      <td>1</td>\n",
       "    </tr>\n",
       "    <tr>\n",
       "      <th>1</th>\n",
       "      <td>2</td>\n",
       "      <td>15647311</td>\n",
       "      <td>Hill</td>\n",
       "      <td>608</td>\n",
       "      <td>Spain</td>\n",
       "      <td>Female</td>\n",
       "      <td>41</td>\n",
       "      <td>1</td>\n",
       "      <td>83807.86</td>\n",
       "      <td>1</td>\n",
       "      <td>0</td>\n",
       "      <td>1</td>\n",
       "      <td>112542.58</td>\n",
       "      <td>0</td>\n",
       "    </tr>\n",
       "    <tr>\n",
       "      <th>2</th>\n",
       "      <td>3</td>\n",
       "      <td>15619304</td>\n",
       "      <td>Onio</td>\n",
       "      <td>502</td>\n",
       "      <td>France</td>\n",
       "      <td>Female</td>\n",
       "      <td>42</td>\n",
       "      <td>8</td>\n",
       "      <td>159660.80</td>\n",
       "      <td>3</td>\n",
       "      <td>1</td>\n",
       "      <td>0</td>\n",
       "      <td>113931.57</td>\n",
       "      <td>1</td>\n",
       "    </tr>\n",
       "    <tr>\n",
       "      <th>3</th>\n",
       "      <td>4</td>\n",
       "      <td>15701354</td>\n",
       "      <td>Boni</td>\n",
       "      <td>699</td>\n",
       "      <td>France</td>\n",
       "      <td>Female</td>\n",
       "      <td>39</td>\n",
       "      <td>1</td>\n",
       "      <td>0.00</td>\n",
       "      <td>2</td>\n",
       "      <td>0</td>\n",
       "      <td>0</td>\n",
       "      <td>93826.63</td>\n",
       "      <td>0</td>\n",
       "    </tr>\n",
       "    <tr>\n",
       "      <th>4</th>\n",
       "      <td>5</td>\n",
       "      <td>15737888</td>\n",
       "      <td>Mitchell</td>\n",
       "      <td>850</td>\n",
       "      <td>Spain</td>\n",
       "      <td>Female</td>\n",
       "      <td>43</td>\n",
       "      <td>2</td>\n",
       "      <td>125510.82</td>\n",
       "      <td>1</td>\n",
       "      <td>1</td>\n",
       "      <td>1</td>\n",
       "      <td>79084.10</td>\n",
       "      <td>0</td>\n",
       "    </tr>\n",
       "  </tbody>\n",
       "</table>\n",
       "</div>"
      ],
      "text/plain": [
       "   RowNumber  CustomerId   Surname  CreditScore Geography  Gender  Age  \\\n",
       "0          1    15634602  Hargrave          619    France  Female   42   \n",
       "1          2    15647311      Hill          608     Spain  Female   41   \n",
       "2          3    15619304      Onio          502    France  Female   42   \n",
       "3          4    15701354      Boni          699    France  Female   39   \n",
       "4          5    15737888  Mitchell          850     Spain  Female   43   \n",
       "\n",
       "   Tenure    Balance  NumOfProducts  HasCrCard  IsActiveMember  \\\n",
       "0       2       0.00              1          1               1   \n",
       "1       1   83807.86              1          0               1   \n",
       "2       8  159660.80              3          1               0   \n",
       "3       1       0.00              2          0               0   \n",
       "4       2  125510.82              1          1               1   \n",
       "\n",
       "   EstimatedSalary  Exited  \n",
       "0        101348.88       1  \n",
       "1        112542.58       0  \n",
       "2        113931.57       1  \n",
       "3         93826.63       0  \n",
       "4         79084.10       0  "
      ]
     },
     "execution_count": 42,
     "metadata": {},
     "output_type": "execute_result"
    }
   ],
   "source": [
    "import pandas as pd\n",
    "# Importing the dataset\n",
    "dataset = pd.read_csv('churn_modelling.csv')\n",
    "X = dataset.iloc[:, 3:13]\n",
    "y = dataset.iloc[:, 13]\n",
    "#Create dummy variables\n",
    "dataset.head()\n"
   ]
  },
  {
   "cell_type": "code",
   "execution_count": 43,
   "metadata": {},
   "outputs": [
    {
     "data": {
      "text/plain": [
       "RowNumber          0\n",
       "CustomerId         0\n",
       "Surname            0\n",
       "CreditScore        0\n",
       "Geography          0\n",
       "Gender             0\n",
       "Age                0\n",
       "Tenure             0\n",
       "Balance            0\n",
       "NumOfProducts      0\n",
       "HasCrCard          0\n",
       "IsActiveMember     0\n",
       "EstimatedSalary    0\n",
       "Exited             0\n",
       "dtype: int64"
      ]
     },
     "execution_count": 43,
     "metadata": {},
     "output_type": "execute_result"
    }
   ],
   "source": [
    "dataset.isnull().sum()"
   ]
  },
  {
   "cell_type": "code",
   "execution_count": 44,
   "metadata": {},
   "outputs": [
    {
     "data": {
      "text/html": [
       "<div>\n",
       "<style scoped>\n",
       "    .dataframe tbody tr th:only-of-type {\n",
       "        vertical-align: middle;\n",
       "    }\n",
       "\n",
       "    .dataframe tbody tr th {\n",
       "        vertical-align: top;\n",
       "    }\n",
       "\n",
       "    .dataframe thead th {\n",
       "        text-align: right;\n",
       "    }\n",
       "</style>\n",
       "<table border=\"1\" class=\"dataframe\">\n",
       "  <thead>\n",
       "    <tr style=\"text-align: right;\">\n",
       "      <th></th>\n",
       "      <th>CreditScore</th>\n",
       "      <th>Geography</th>\n",
       "      <th>Gender</th>\n",
       "      <th>Age</th>\n",
       "      <th>Tenure</th>\n",
       "      <th>Balance</th>\n",
       "      <th>NumOfProducts</th>\n",
       "      <th>HasCrCard</th>\n",
       "      <th>IsActiveMember</th>\n",
       "      <th>EstimatedSalary</th>\n",
       "    </tr>\n",
       "  </thead>\n",
       "  <tbody>\n",
       "    <tr>\n",
       "      <th>0</th>\n",
       "      <td>619</td>\n",
       "      <td>France</td>\n",
       "      <td>Female</td>\n",
       "      <td>42</td>\n",
       "      <td>2</td>\n",
       "      <td>0.00</td>\n",
       "      <td>1</td>\n",
       "      <td>1</td>\n",
       "      <td>1</td>\n",
       "      <td>101348.88</td>\n",
       "    </tr>\n",
       "    <tr>\n",
       "      <th>1</th>\n",
       "      <td>608</td>\n",
       "      <td>Spain</td>\n",
       "      <td>Female</td>\n",
       "      <td>41</td>\n",
       "      <td>1</td>\n",
       "      <td>83807.86</td>\n",
       "      <td>1</td>\n",
       "      <td>0</td>\n",
       "      <td>1</td>\n",
       "      <td>112542.58</td>\n",
       "    </tr>\n",
       "    <tr>\n",
       "      <th>2</th>\n",
       "      <td>502</td>\n",
       "      <td>France</td>\n",
       "      <td>Female</td>\n",
       "      <td>42</td>\n",
       "      <td>8</td>\n",
       "      <td>159660.80</td>\n",
       "      <td>3</td>\n",
       "      <td>1</td>\n",
       "      <td>0</td>\n",
       "      <td>113931.57</td>\n",
       "    </tr>\n",
       "    <tr>\n",
       "      <th>3</th>\n",
       "      <td>699</td>\n",
       "      <td>France</td>\n",
       "      <td>Female</td>\n",
       "      <td>39</td>\n",
       "      <td>1</td>\n",
       "      <td>0.00</td>\n",
       "      <td>2</td>\n",
       "      <td>0</td>\n",
       "      <td>0</td>\n",
       "      <td>93826.63</td>\n",
       "    </tr>\n",
       "    <tr>\n",
       "      <th>4</th>\n",
       "      <td>850</td>\n",
       "      <td>Spain</td>\n",
       "      <td>Female</td>\n",
       "      <td>43</td>\n",
       "      <td>2</td>\n",
       "      <td>125510.82</td>\n",
       "      <td>1</td>\n",
       "      <td>1</td>\n",
       "      <td>1</td>\n",
       "      <td>79084.10</td>\n",
       "    </tr>\n",
       "  </tbody>\n",
       "</table>\n",
       "</div>"
      ],
      "text/plain": [
       "   CreditScore Geography  Gender  Age  Tenure    Balance  NumOfProducts  \\\n",
       "0          619    France  Female   42       2       0.00              1   \n",
       "1          608     Spain  Female   41       1   83807.86              1   \n",
       "2          502    France  Female   42       8  159660.80              3   \n",
       "3          699    France  Female   39       1       0.00              2   \n",
       "4          850     Spain  Female   43       2  125510.82              1   \n",
       "\n",
       "   HasCrCard  IsActiveMember  EstimatedSalary  \n",
       "0          1               1        101348.88  \n",
       "1          0               1        112542.58  \n",
       "2          1               0        113931.57  \n",
       "3          0               0         93826.63  \n",
       "4          1               1         79084.10  "
      ]
     },
     "execution_count": 44,
     "metadata": {},
     "output_type": "execute_result"
    }
   ],
   "source": [
    "X.head()"
   ]
  },
  {
   "cell_type": "code",
   "execution_count": 45,
   "metadata": {},
   "outputs": [
    {
     "data": {
      "text/plain": [
       "0    1\n",
       "1    0\n",
       "2    1\n",
       "3    0\n",
       "4    0\n",
       "Name: Exited, dtype: int64"
      ]
     },
     "execution_count": 45,
     "metadata": {},
     "output_type": "execute_result"
    }
   ],
   "source": [
    "y.head()"
   ]
  },
  {
   "cell_type": "code",
   "execution_count": 47,
   "metadata": {},
   "outputs": [],
   "source": [
    "geography=pd.get_dummies(X[\"Geography\"],drop_first=True)\n",
    "gender=pd.get_dummies(X['Gender'],drop_first=True)"
   ]
  },
  {
   "cell_type": "code",
   "execution_count": 14,
   "metadata": {},
   "outputs": [
    {
     "data": {
      "text/html": [
       "<div>\n",
       "<style scoped>\n",
       "    .dataframe tbody tr th:only-of-type {\n",
       "        vertical-align: middle;\n",
       "    }\n",
       "\n",
       "    .dataframe tbody tr th {\n",
       "        vertical-align: top;\n",
       "    }\n",
       "\n",
       "    .dataframe thead th {\n",
       "        text-align: right;\n",
       "    }\n",
       "</style>\n",
       "<table border=\"1\" class=\"dataframe\">\n",
       "  <thead>\n",
       "    <tr style=\"text-align: right;\">\n",
       "      <th></th>\n",
       "      <th>Germany</th>\n",
       "      <th>Spain</th>\n",
       "    </tr>\n",
       "  </thead>\n",
       "  <tbody>\n",
       "    <tr>\n",
       "      <th>0</th>\n",
       "      <td>0</td>\n",
       "      <td>0</td>\n",
       "    </tr>\n",
       "    <tr>\n",
       "      <th>1</th>\n",
       "      <td>0</td>\n",
       "      <td>1</td>\n",
       "    </tr>\n",
       "    <tr>\n",
       "      <th>2</th>\n",
       "      <td>0</td>\n",
       "      <td>0</td>\n",
       "    </tr>\n",
       "    <tr>\n",
       "      <th>3</th>\n",
       "      <td>0</td>\n",
       "      <td>0</td>\n",
       "    </tr>\n",
       "    <tr>\n",
       "      <th>4</th>\n",
       "      <td>0</td>\n",
       "      <td>1</td>\n",
       "    </tr>\n",
       "    <tr>\n",
       "      <th>...</th>\n",
       "      <td>...</td>\n",
       "      <td>...</td>\n",
       "    </tr>\n",
       "    <tr>\n",
       "      <th>9995</th>\n",
       "      <td>0</td>\n",
       "      <td>0</td>\n",
       "    </tr>\n",
       "    <tr>\n",
       "      <th>9996</th>\n",
       "      <td>0</td>\n",
       "      <td>0</td>\n",
       "    </tr>\n",
       "    <tr>\n",
       "      <th>9997</th>\n",
       "      <td>0</td>\n",
       "      <td>0</td>\n",
       "    </tr>\n",
       "    <tr>\n",
       "      <th>9998</th>\n",
       "      <td>1</td>\n",
       "      <td>0</td>\n",
       "    </tr>\n",
       "    <tr>\n",
       "      <th>9999</th>\n",
       "      <td>0</td>\n",
       "      <td>0</td>\n",
       "    </tr>\n",
       "  </tbody>\n",
       "</table>\n",
       "<p>10000 rows × 2 columns</p>\n",
       "</div>"
      ],
      "text/plain": [
       "      Germany  Spain\n",
       "0           0      0\n",
       "1           0      1\n",
       "2           0      0\n",
       "3           0      0\n",
       "4           0      1\n",
       "...       ...    ...\n",
       "9995        0      0\n",
       "9996        0      0\n",
       "9997        0      0\n",
       "9998        1      0\n",
       "9999        0      0\n",
       "\n",
       "[10000 rows x 2 columns]"
      ]
     },
     "execution_count": 14,
     "metadata": {},
     "output_type": "execute_result"
    }
   ],
   "source": [
    "geography"
   ]
  },
  {
   "cell_type": "code",
   "execution_count": 48,
   "metadata": {},
   "outputs": [],
   "source": [
    "\n",
    "X=pd.concat([X,geography,gender],axis=1)\n",
    "\n",
    "## Drop Unnecessary columns\n",
    "X=X.drop(['Geography','Gender'],axis=1)"
   ]
  },
  {
   "cell_type": "code",
   "execution_count": 32,
   "metadata": {},
   "outputs": [
    {
     "data": {
      "text/plain": [
       "(10000, 14)"
      ]
     },
     "execution_count": 32,
     "metadata": {},
     "output_type": "execute_result"
    }
   ],
   "source": [
    "X.shape"
   ]
  },
  {
   "cell_type": "code",
   "execution_count": 33,
   "metadata": {},
   "outputs": [
    {
     "data": {
      "text/html": [
       "<div>\n",
       "<style scoped>\n",
       "    .dataframe tbody tr th:only-of-type {\n",
       "        vertical-align: middle;\n",
       "    }\n",
       "\n",
       "    .dataframe tbody tr th {\n",
       "        vertical-align: top;\n",
       "    }\n",
       "\n",
       "    .dataframe thead th {\n",
       "        text-align: right;\n",
       "    }\n",
       "</style>\n",
       "<table border=\"1\" class=\"dataframe\">\n",
       "  <thead>\n",
       "    <tr style=\"text-align: right;\">\n",
       "      <th></th>\n",
       "      <th>CreditScore</th>\n",
       "      <th>Age</th>\n",
       "      <th>Tenure</th>\n",
       "      <th>Balance</th>\n",
       "      <th>NumOfProducts</th>\n",
       "      <th>HasCrCard</th>\n",
       "      <th>IsActiveMember</th>\n",
       "      <th>EstimatedSalary</th>\n",
       "      <th>Germany</th>\n",
       "      <th>Spain</th>\n",
       "      <th>Male</th>\n",
       "      <th>Germany</th>\n",
       "      <th>Spain</th>\n",
       "      <th>Male</th>\n",
       "    </tr>\n",
       "  </thead>\n",
       "  <tbody>\n",
       "    <tr>\n",
       "      <th>0</th>\n",
       "      <td>619</td>\n",
       "      <td>42</td>\n",
       "      <td>2</td>\n",
       "      <td>0.00</td>\n",
       "      <td>1</td>\n",
       "      <td>1</td>\n",
       "      <td>1</td>\n",
       "      <td>101348.88</td>\n",
       "      <td>0</td>\n",
       "      <td>0</td>\n",
       "      <td>0</td>\n",
       "      <td>0</td>\n",
       "      <td>0</td>\n",
       "      <td>0</td>\n",
       "    </tr>\n",
       "    <tr>\n",
       "      <th>1</th>\n",
       "      <td>608</td>\n",
       "      <td>41</td>\n",
       "      <td>1</td>\n",
       "      <td>83807.86</td>\n",
       "      <td>1</td>\n",
       "      <td>0</td>\n",
       "      <td>1</td>\n",
       "      <td>112542.58</td>\n",
       "      <td>0</td>\n",
       "      <td>1</td>\n",
       "      <td>0</td>\n",
       "      <td>0</td>\n",
       "      <td>1</td>\n",
       "      <td>0</td>\n",
       "    </tr>\n",
       "    <tr>\n",
       "      <th>2</th>\n",
       "      <td>502</td>\n",
       "      <td>42</td>\n",
       "      <td>8</td>\n",
       "      <td>159660.80</td>\n",
       "      <td>3</td>\n",
       "      <td>1</td>\n",
       "      <td>0</td>\n",
       "      <td>113931.57</td>\n",
       "      <td>0</td>\n",
       "      <td>0</td>\n",
       "      <td>0</td>\n",
       "      <td>0</td>\n",
       "      <td>0</td>\n",
       "      <td>0</td>\n",
       "    </tr>\n",
       "    <tr>\n",
       "      <th>3</th>\n",
       "      <td>699</td>\n",
       "      <td>39</td>\n",
       "      <td>1</td>\n",
       "      <td>0.00</td>\n",
       "      <td>2</td>\n",
       "      <td>0</td>\n",
       "      <td>0</td>\n",
       "      <td>93826.63</td>\n",
       "      <td>0</td>\n",
       "      <td>0</td>\n",
       "      <td>0</td>\n",
       "      <td>0</td>\n",
       "      <td>0</td>\n",
       "      <td>0</td>\n",
       "    </tr>\n",
       "    <tr>\n",
       "      <th>4</th>\n",
       "      <td>850</td>\n",
       "      <td>43</td>\n",
       "      <td>2</td>\n",
       "      <td>125510.82</td>\n",
       "      <td>1</td>\n",
       "      <td>1</td>\n",
       "      <td>1</td>\n",
       "      <td>79084.10</td>\n",
       "      <td>0</td>\n",
       "      <td>1</td>\n",
       "      <td>0</td>\n",
       "      <td>0</td>\n",
       "      <td>1</td>\n",
       "      <td>0</td>\n",
       "    </tr>\n",
       "  </tbody>\n",
       "</table>\n",
       "</div>"
      ],
      "text/plain": [
       "   CreditScore  Age  Tenure    Balance  NumOfProducts  HasCrCard  \\\n",
       "0          619   42       2       0.00              1          1   \n",
       "1          608   41       1   83807.86              1          0   \n",
       "2          502   42       8  159660.80              3          1   \n",
       "3          699   39       1       0.00              2          0   \n",
       "4          850   43       2  125510.82              1          1   \n",
       "\n",
       "   IsActiveMember  EstimatedSalary  Germany  Spain  Male  Germany  Spain  Male  \n",
       "0               1        101348.88        0      0     0        0      0     0  \n",
       "1               1        112542.58        0      1     0        0      1     0  \n",
       "2               0        113931.57        0      0     0        0      0     0  \n",
       "3               0         93826.63        0      0     0        0      0     0  \n",
       "4               1         79084.10        0      1     0        0      1     0  "
      ]
     },
     "execution_count": 33,
     "metadata": {},
     "output_type": "execute_result"
    }
   ],
   "source": [
    "X.head()"
   ]
  },
  {
   "cell_type": "code",
   "execution_count": 49,
   "metadata": {},
   "outputs": [],
   "source": [
    "from sklearn.model_selection import train_test_split\n",
    "X_train, X_test, y_train, y_test = train_test_split(X, y, test_size = 0.2, random_state = 0)"
   ]
  },
  {
   "cell_type": "code",
   "execution_count": 50,
   "metadata": {},
   "outputs": [],
   "source": [
    "# Feature Scaling\n",
    "from sklearn.preprocessing import StandardScaler\n",
    "sc = StandardScaler()\n",
    "X_train = sc.fit_transform(X_train)\n",
    "X_test = sc.transform(X_test)"
   ]
  },
  {
   "cell_type": "code",
   "execution_count": 51,
   "metadata": {},
   "outputs": [],
   "source": [
    "def build_model(hp):\n",
    "    model = keras.Sequential()\n",
    "    for i in range(hp.Int('num_layers', 2, 20)):\n",
    "        model.add(layers.Dense(units=hp.Int('units_' + str(i),\n",
    "                                            min_value=32,\n",
    "                                            max_value=512,\n",
    "                                            step=32),\n",
    "                               activation='relu'))\n",
    "    model.add(layers.Dense(1, activation='sigmoid'))\n",
    "    model.compile(\n",
    "        optimizer=keras.optimizers.Adam(\n",
    "            hp.Choice('learning_rate', [1e-2, 1e-3, 1e-4])),\n",
    "        loss='binary_crossentropy',\n",
    "        metrics=['accuracy'])\n",
    "    return model"
   ]
  },
  {
   "cell_type": "code",
   "execution_count": 52,
   "metadata": {},
   "outputs": [],
   "source": [
    "from tensorflow import keras\n",
    "from tensorflow.keras import layers\n",
    "from kerastuner.tuners import RandomSearch\n",
    "tuner = RandomSearch(\n",
    "    build_model,\n",
    "    objective='val_accuracy',\n",
    "    max_trials=3,\n",
    "    executions_per_trial=3,\n",
    "    directory='Weights',\n",
    "    project_name='Churn')"
   ]
  },
  {
   "cell_type": "code",
   "execution_count": 53,
   "metadata": {},
   "outputs": [
    {
     "data": {
      "text/html": [
       "<span style=\"color:#4527A0\"><h1 style=\"font-size:18px\">Search space summary</h1></span>"
      ],
      "text/plain": [
       "<IPython.core.display.HTML object>"
      ]
     },
     "metadata": {},
     "output_type": "display_data"
    },
    {
     "data": {
      "text/html": [
       "<span style=\"color:cyan\"> |-Default search space size: 4</span>"
      ],
      "text/plain": [
       "<IPython.core.display.HTML object>"
      ]
     },
     "metadata": {},
     "output_type": "display_data"
    },
    {
     "data": {
      "text/html": [
       "<span style=\"color:#7E57C2\"><h2 style=\"font-size:16px\">num_layers (Int)</h2></span>"
      ],
      "text/plain": [
       "<IPython.core.display.HTML object>"
      ]
     },
     "metadata": {},
     "output_type": "display_data"
    },
    {
     "data": {
      "text/html": [
       "<span style=\"color:cyan\"> |-default: None</span>"
      ],
      "text/plain": [
       "<IPython.core.display.HTML object>"
      ]
     },
     "metadata": {},
     "output_type": "display_data"
    },
    {
     "data": {
      "text/html": [
       "<span style=\"color:blue\"> |-max_value: 20</span>"
      ],
      "text/plain": [
       "<IPython.core.display.HTML object>"
      ]
     },
     "metadata": {},
     "output_type": "display_data"
    },
    {
     "data": {
      "text/html": [
       "<span style=\"color:cyan\"> |-min_value: 2</span>"
      ],
      "text/plain": [
       "<IPython.core.display.HTML object>"
      ]
     },
     "metadata": {},
     "output_type": "display_data"
    },
    {
     "data": {
      "text/html": [
       "<span style=\"color:blue\"> |-sampling: None</span>"
      ],
      "text/plain": [
       "<IPython.core.display.HTML object>"
      ]
     },
     "metadata": {},
     "output_type": "display_data"
    },
    {
     "data": {
      "text/html": [
       "<span style=\"color:cyan\"> |-step: 1</span>"
      ],
      "text/plain": [
       "<IPython.core.display.HTML object>"
      ]
     },
     "metadata": {},
     "output_type": "display_data"
    },
    {
     "data": {
      "text/html": [
       "<span style=\"color:#7E57C2\"><h2 style=\"font-size:16px\">units_0 (Int)</h2></span>"
      ],
      "text/plain": [
       "<IPython.core.display.HTML object>"
      ]
     },
     "metadata": {},
     "output_type": "display_data"
    },
    {
     "data": {
      "text/html": [
       "<span style=\"color:cyan\"> |-default: None</span>"
      ],
      "text/plain": [
       "<IPython.core.display.HTML object>"
      ]
     },
     "metadata": {},
     "output_type": "display_data"
    },
    {
     "data": {
      "text/html": [
       "<span style=\"color:blue\"> |-max_value: 512</span>"
      ],
      "text/plain": [
       "<IPython.core.display.HTML object>"
      ]
     },
     "metadata": {},
     "output_type": "display_data"
    },
    {
     "data": {
      "text/html": [
       "<span style=\"color:cyan\"> |-min_value: 32</span>"
      ],
      "text/plain": [
       "<IPython.core.display.HTML object>"
      ]
     },
     "metadata": {},
     "output_type": "display_data"
    },
    {
     "data": {
      "text/html": [
       "<span style=\"color:blue\"> |-sampling: None</span>"
      ],
      "text/plain": [
       "<IPython.core.display.HTML object>"
      ]
     },
     "metadata": {},
     "output_type": "display_data"
    },
    {
     "data": {
      "text/html": [
       "<span style=\"color:cyan\"> |-step: 32</span>"
      ],
      "text/plain": [
       "<IPython.core.display.HTML object>"
      ]
     },
     "metadata": {},
     "output_type": "display_data"
    },
    {
     "data": {
      "text/html": [
       "<span style=\"color:#7E57C2\"><h2 style=\"font-size:16px\">units_1 (Int)</h2></span>"
      ],
      "text/plain": [
       "<IPython.core.display.HTML object>"
      ]
     },
     "metadata": {},
     "output_type": "display_data"
    },
    {
     "data": {
      "text/html": [
       "<span style=\"color:cyan\"> |-default: None</span>"
      ],
      "text/plain": [
       "<IPython.core.display.HTML object>"
      ]
     },
     "metadata": {},
     "output_type": "display_data"
    },
    {
     "data": {
      "text/html": [
       "<span style=\"color:blue\"> |-max_value: 512</span>"
      ],
      "text/plain": [
       "<IPython.core.display.HTML object>"
      ]
     },
     "metadata": {},
     "output_type": "display_data"
    },
    {
     "data": {
      "text/html": [
       "<span style=\"color:cyan\"> |-min_value: 32</span>"
      ],
      "text/plain": [
       "<IPython.core.display.HTML object>"
      ]
     },
     "metadata": {},
     "output_type": "display_data"
    },
    {
     "data": {
      "text/html": [
       "<span style=\"color:blue\"> |-sampling: None</span>"
      ],
      "text/plain": [
       "<IPython.core.display.HTML object>"
      ]
     },
     "metadata": {},
     "output_type": "display_data"
    },
    {
     "data": {
      "text/html": [
       "<span style=\"color:cyan\"> |-step: 32</span>"
      ],
      "text/plain": [
       "<IPython.core.display.HTML object>"
      ]
     },
     "metadata": {},
     "output_type": "display_data"
    },
    {
     "data": {
      "text/html": [
       "<span style=\"color:#7E57C2\"><h2 style=\"font-size:16px\">learning_rate (Choice)</h2></span>"
      ],
      "text/plain": [
       "<IPython.core.display.HTML object>"
      ]
     },
     "metadata": {},
     "output_type": "display_data"
    },
    {
     "data": {
      "text/html": [
       "<span style=\"color:cyan\"> |-default: 0.01</span>"
      ],
      "text/plain": [
       "<IPython.core.display.HTML object>"
      ]
     },
     "metadata": {},
     "output_type": "display_data"
    },
    {
     "data": {
      "text/html": [
       "<span style=\"color:blue\"> |-ordered: True</span>"
      ],
      "text/plain": [
       "<IPython.core.display.HTML object>"
      ]
     },
     "metadata": {},
     "output_type": "display_data"
    },
    {
     "data": {
      "text/html": [
       "<span style=\"color:cyan\"> |-values: [0.01, 0.001, 0.0001]</span>"
      ],
      "text/plain": [
       "<IPython.core.display.HTML object>"
      ]
     },
     "metadata": {},
     "output_type": "display_data"
    }
   ],
   "source": [
    "tuner.search_space_summary()"
   ]
  },
  {
   "cell_type": "code",
   "execution_count": 54,
   "metadata": {},
   "outputs": [
    {
     "name": "stdout",
     "output_type": "stream",
     "text": [
      "Epoch 1/5\n",
      "250/250 [==============================] - ETA: 0s - loss: 0.6913 - accuracy: 0.78 - ETA: 0s - loss: 0.5057 - accuracy: 0.79 - ETA: 0s - loss: 0.4987 - accuracy: 0.78 - ETA: 0s - loss: 0.4854 - accuracy: 0.79 - ETA: 0s - loss: 0.4691 - accuracy: 0.79 - ETA: 0s - loss: 0.4578 - accuracy: 0.80 - 1s 2ms/step - loss: 0.4520 - accuracy: 0.8062 - val_loss: 0.3892 - val_accuracy: 0.8440\n",
      "Epoch 2/5\n",
      "250/250 [==============================] - ETA: 0s - loss: 0.3219 - accuracy: 0.81 - ETA: 0s - loss: 0.3823 - accuracy: 0.83 - ETA: 0s - loss: 0.3986 - accuracy: 0.82 - ETA: 0s - loss: 0.4049 - accuracy: 0.82 - ETA: 0s - loss: 0.4166 - accuracy: 0.81 - ETA: 0s - loss: 0.4100 - accuracy: 0.81 - ETA: 0s - loss: 0.4126 - accuracy: 0.81 - 0s 1ms/step - loss: 0.4111 - accuracy: 0.8186 - val_loss: 0.4125 - val_accuracy: 0.8090\n",
      "Epoch 3/5\n",
      "250/250 [==============================] - ETA: 0s - loss: 0.3789 - accuracy: 0.84 - ETA: 0s - loss: 0.3864 - accuracy: 0.83 - ETA: 0s - loss: 0.3914 - accuracy: 0.83 - ETA: 0s - loss: 0.3975 - accuracy: 0.83 - ETA: 0s - loss: 0.3947 - accuracy: 0.83 - ETA: 0s - loss: 0.3902 - accuracy: 0.84 - ETA: 0s - loss: 0.3849 - accuracy: 0.84 - ETA: 0s - loss: 0.3812 - accuracy: 0.84 - 0s 2ms/step - loss: 0.3811 - accuracy: 0.8443 - val_loss: 0.3969 - val_accuracy: 0.7895\n",
      "Epoch 4/5\n",
      "250/250 [==============================] - ETA: 0s - loss: 0.5038 - accuracy: 0.78 - ETA: 0s - loss: 0.4344 - accuracy: 0.78 - ETA: 0s - loss: 0.4137 - accuracy: 0.80 - ETA: 0s - loss: 0.3952 - accuracy: 0.82 - ETA: 0s - loss: 0.3937 - accuracy: 0.82 - ETA: 0s - loss: 0.3910 - accuracy: 0.82 - ETA: 0s - loss: 0.3889 - accuracy: 0.83 - 0s 1ms/step - loss: 0.3925 - accuracy: 0.8265 - val_loss: 0.4339 - val_accuracy: 0.7895\n",
      "Epoch 5/5\n",
      "250/250 [==============================] - ETA: 0s - loss: 0.2582 - accuracy: 1.00 - ETA: 0s - loss: 0.3975 - accuracy: 0.84 - ETA: 0s - loss: 0.3914 - accuracy: 0.84 - ETA: 0s - loss: 0.4298 - accuracy: 0.84 - ETA: 0s - loss: 0.4241 - accuracy: 0.83 - ETA: 0s - loss: 0.4199 - accuracy: 0.82 - 0s 1ms/step - loss: 0.4195 - accuracy: 0.8286 - val_loss: 0.4051 - val_accuracy: 0.8005\n",
      "Epoch 1/5\n",
      "250/250 [==============================] - ETA: 0s - loss: 0.6934 - accuracy: 0.09 - ETA: 0s - loss: 0.5060 - accuracy: 0.77 - ETA: 0s - loss: 0.4787 - accuracy: 0.78 - ETA: 0s - loss: 0.4724 - accuracy: 0.79 - ETA: 0s - loss: 0.4642 - accuracy: 0.79 - ETA: 0s - loss: 0.4614 - accuracy: 0.79 - 1s 2ms/step - loss: 0.4557 - accuracy: 0.7955 - val_loss: 0.4080 - val_accuracy: 0.8530\n",
      "Epoch 2/5\n",
      "250/250 [==============================] - ETA: 0s - loss: 0.3299 - accuracy: 0.93 - ETA: 0s - loss: 0.4393 - accuracy: 0.80 - ETA: 0s - loss: 0.4203 - accuracy: 0.82 - ETA: 0s - loss: 0.4215 - accuracy: 0.81 - ETA: 0s - loss: 0.4086 - accuracy: 0.82 - ETA: 0s - loss: 0.4041 - accuracy: 0.82 - ETA: 0s - loss: 0.3991 - accuracy: 0.83 - 0s 2ms/step - loss: 0.3981 - accuracy: 0.8317 - val_loss: 0.3555 - val_accuracy: 0.8615\n",
      "Epoch 3/5\n",
      "250/250 [==============================] - ETA: 0s - loss: 0.6278 - accuracy: 0.68 - ETA: 0s - loss: 0.3798 - accuracy: 0.84 - ETA: 0s - loss: 0.3767 - accuracy: 0.84 - ETA: 0s - loss: 0.3819 - accuracy: 0.83 - ETA: 0s - loss: 0.3778 - accuracy: 0.83 - ETA: 0s - loss: 0.3831 - accuracy: 0.84 - ETA: 0s - loss: 0.3837 - accuracy: 0.84 - 0s 1ms/step - loss: 0.3852 - accuracy: 0.8424 - val_loss: 0.3491 - val_accuracy: 0.8595\n",
      "Epoch 4/5\n",
      "250/250 [==============================] - ETA: 0s - loss: 0.2242 - accuracy: 0.93 - ETA: 0s - loss: 0.3527 - accuracy: 0.85 - ETA: 0s - loss: 0.3699 - accuracy: 0.84 - ETA: 0s - loss: 0.3655 - accuracy: 0.84 - ETA: 0s - loss: 0.3708 - accuracy: 0.84 - ETA: 0s - loss: 0.3705 - accuracy: 0.84 - 0s 1ms/step - loss: 0.3723 - accuracy: 0.8418 - val_loss: 0.3512 - val_accuracy: 0.8595\n",
      "Epoch 5/5\n",
      "250/250 [==============================] - ETA: 0s - loss: 0.3517 - accuracy: 0.90 - ETA: 0s - loss: 0.3678 - accuracy: 0.84 - ETA: 0s - loss: 0.3705 - accuracy: 0.84 - ETA: 0s - loss: 0.3627 - accuracy: 0.84 - ETA: 0s - loss: 0.3686 - accuracy: 0.84 - ETA: 0s - loss: 0.3717 - accuracy: 0.84 - 0s 1ms/step - loss: 0.3724 - accuracy: 0.8462 - val_loss: 0.3626 - val_accuracy: 0.8565\n",
      "Epoch 1/5\n",
      "250/250 [==============================] - ETA: 0s - loss: 0.6929 - accuracy: 0.68 - ETA: 0s - loss: 0.5182 - accuracy: 0.80 - ETA: 0s - loss: 0.4856 - accuracy: 0.79 - ETA: 0s - loss: 0.4768 - accuracy: 0.79 - ETA: 0s - loss: 0.4676 - accuracy: 0.80 - ETA: 0s - loss: 0.4605 - accuracy: 0.80 - 0s 2ms/step - loss: 0.4540 - accuracy: 0.8084 - val_loss: 0.4166 - val_accuracy: 0.7975\n",
      "Epoch 2/5\n",
      "250/250 [==============================] - ETA: 0s - loss: 0.4486 - accuracy: 0.75 - ETA: 0s - loss: 0.4146 - accuracy: 0.83 - ETA: 0s - loss: 0.4116 - accuracy: 0.83 - ETA: 0s - loss: 0.4030 - accuracy: 0.83 - ETA: 0s - loss: 0.3899 - accuracy: 0.84 - ETA: 0s - loss: 0.4022 - accuracy: 0.83 - ETA: 0s - loss: 0.4014 - accuracy: 0.83 - 0s 1ms/step - loss: 0.4016 - accuracy: 0.8299 - val_loss: 0.3701 - val_accuracy: 0.8320\n",
      "Epoch 3/5\n",
      "250/250 [==============================] - ETA: 0s - loss: 0.3258 - accuracy: 0.90 - ETA: 0s - loss: 0.3506 - accuracy: 0.86 - ETA: 0s - loss: 0.3806 - accuracy: 0.84 - ETA: 0s - loss: 0.3725 - accuracy: 0.85 - ETA: 0s - loss: 0.3704 - accuracy: 0.85 - ETA: 0s - loss: 0.3922 - accuracy: 0.84 - ETA: 0s - loss: 0.3961 - accuracy: 0.83 - 0s 1ms/step - loss: 0.3944 - accuracy: 0.8347 - val_loss: 0.3847 - val_accuracy: 0.7975\n",
      "Epoch 4/5\n",
      "250/250 [==============================] - ETA: 0s - loss: 0.4696 - accuracy: 0.75 - ETA: 0s - loss: 0.4123 - accuracy: 0.81 - ETA: 0s - loss: 0.4103 - accuracy: 0.82 - ETA: 0s - loss: 0.4088 - accuracy: 0.83 - ETA: 0s - loss: 0.4075 - accuracy: 0.83 - ETA: 0s - loss: 0.4112 - accuracy: 0.83 - ETA: 0s - loss: 0.4090 - accuracy: 0.83 - 0s 2ms/step - loss: 0.4057 - accuracy: 0.8357 - val_loss: 0.3768 - val_accuracy: 0.8450\n",
      "Epoch 5/5\n",
      "250/250 [==============================] - ETA: 0s - loss: 0.3081 - accuracy: 0.87 - ETA: 0s - loss: 0.4009 - accuracy: 0.84 - ETA: 0s - loss: 0.3867 - accuracy: 0.84 - ETA: 0s - loss: 0.3778 - accuracy: 0.84 - ETA: 0s - loss: 0.3840 - accuracy: 0.84 - ETA: 0s - loss: 0.3851 - accuracy: 0.84 - 0s 1ms/step - loss: 0.3857 - accuracy: 0.8447 - val_loss: 0.3676 - val_accuracy: 0.8545\n"
     ]
    },
    {
     "data": {
      "text/html": [
       "<span style=\"color:#4527A0\"><h1 style=\"font-size:18px\">Trial complete</h1></span>"
      ],
      "text/plain": [
       "<IPython.core.display.HTML object>"
      ]
     },
     "metadata": {},
     "output_type": "display_data"
    },
    {
     "data": {
      "text/html": [
       "<span style=\"color:#4527A0\"><h1 style=\"font-size:18px\">Trial summary</h1></span>"
      ],
      "text/plain": [
       "<IPython.core.display.HTML object>"
      ]
     },
     "metadata": {},
     "output_type": "display_data"
    },
    {
     "data": {
      "text/html": [
       "<span style=\"color:cyan\"> |-Trial ID: a4bb9844a7b95aae530d666b3bec3f83</span>"
      ],
      "text/plain": [
       "<IPython.core.display.HTML object>"
      ]
     },
     "metadata": {},
     "output_type": "display_data"
    },
    {
     "data": {
      "text/html": [
       "<span style=\"color:cyan\"> |-Score: 0.8533333341280619</span>"
      ],
      "text/plain": [
       "<IPython.core.display.HTML object>"
      ]
     },
     "metadata": {},
     "output_type": "display_data"
    },
    {
     "data": {
      "text/html": [
       "<span style=\"color:cyan\"> |-Best step: 0</span>"
      ],
      "text/plain": [
       "<IPython.core.display.HTML object>"
      ]
     },
     "metadata": {},
     "output_type": "display_data"
    },
    {
     "data": {
      "text/html": [
       "<span style=\"color:#7E57C2\"><h2 style=\"font-size:16px\">Hyperparameters:</h2></span>"
      ],
      "text/plain": [
       "<IPython.core.display.HTML object>"
      ]
     },
     "metadata": {},
     "output_type": "display_data"
    },
    {
     "data": {
      "text/html": [
       "<span style=\"color:cyan\"> |-learning_rate: 0.01</span>"
      ],
      "text/plain": [
       "<IPython.core.display.HTML object>"
      ]
     },
     "metadata": {},
     "output_type": "display_data"
    },
    {
     "data": {
      "text/html": [
       "<span style=\"color:blue\"> |-num_layers: 15</span>"
      ],
      "text/plain": [
       "<IPython.core.display.HTML object>"
      ]
     },
     "metadata": {},
     "output_type": "display_data"
    },
    {
     "data": {
      "text/html": [
       "<span style=\"color:cyan\"> |-units_0: 352</span>"
      ],
      "text/plain": [
       "<IPython.core.display.HTML object>"
      ]
     },
     "metadata": {},
     "output_type": "display_data"
    },
    {
     "data": {
      "text/html": [
       "<span style=\"color:blue\"> |-units_1: 96</span>"
      ],
      "text/plain": [
       "<IPython.core.display.HTML object>"
      ]
     },
     "metadata": {},
     "output_type": "display_data"
    },
    {
     "data": {
      "text/html": [
       "<span style=\"color:cyan\"> |-units_10: 32</span>"
      ],
      "text/plain": [
       "<IPython.core.display.HTML object>"
      ]
     },
     "metadata": {},
     "output_type": "display_data"
    },
    {
     "data": {
      "text/html": [
       "<span style=\"color:blue\"> |-units_11: 32</span>"
      ],
      "text/plain": [
       "<IPython.core.display.HTML object>"
      ]
     },
     "metadata": {},
     "output_type": "display_data"
    },
    {
     "data": {
      "text/html": [
       "<span style=\"color:cyan\"> |-units_12: 32</span>"
      ],
      "text/plain": [
       "<IPython.core.display.HTML object>"
      ]
     },
     "metadata": {},
     "output_type": "display_data"
    },
    {
     "data": {
      "text/html": [
       "<span style=\"color:blue\"> |-units_13: 32</span>"
      ],
      "text/plain": [
       "<IPython.core.display.HTML object>"
      ]
     },
     "metadata": {},
     "output_type": "display_data"
    },
    {
     "data": {
      "text/html": [
       "<span style=\"color:cyan\"> |-units_14: 32</span>"
      ],
      "text/plain": [
       "<IPython.core.display.HTML object>"
      ]
     },
     "metadata": {},
     "output_type": "display_data"
    },
    {
     "data": {
      "text/html": [
       "<span style=\"color:blue\"> |-units_2: 32</span>"
      ],
      "text/plain": [
       "<IPython.core.display.HTML object>"
      ]
     },
     "metadata": {},
     "output_type": "display_data"
    },
    {
     "data": {
      "text/html": [
       "<span style=\"color:cyan\"> |-units_3: 32</span>"
      ],
      "text/plain": [
       "<IPython.core.display.HTML object>"
      ]
     },
     "metadata": {},
     "output_type": "display_data"
    },
    {
     "data": {
      "text/html": [
       "<span style=\"color:blue\"> |-units_4: 32</span>"
      ],
      "text/plain": [
       "<IPython.core.display.HTML object>"
      ]
     },
     "metadata": {},
     "output_type": "display_data"
    },
    {
     "data": {
      "text/html": [
       "<span style=\"color:cyan\"> |-units_5: 32</span>"
      ],
      "text/plain": [
       "<IPython.core.display.HTML object>"
      ]
     },
     "metadata": {},
     "output_type": "display_data"
    },
    {
     "data": {
      "text/html": [
       "<span style=\"color:blue\"> |-units_6: 32</span>"
      ],
      "text/plain": [
       "<IPython.core.display.HTML object>"
      ]
     },
     "metadata": {},
     "output_type": "display_data"
    },
    {
     "data": {
      "text/html": [
       "<span style=\"color:cyan\"> |-units_7: 32</span>"
      ],
      "text/plain": [
       "<IPython.core.display.HTML object>"
      ]
     },
     "metadata": {},
     "output_type": "display_data"
    },
    {
     "data": {
      "text/html": [
       "<span style=\"color:blue\"> |-units_8: 32</span>"
      ],
      "text/plain": [
       "<IPython.core.display.HTML object>"
      ]
     },
     "metadata": {},
     "output_type": "display_data"
    },
    {
     "data": {
      "text/html": [
       "<span style=\"color:cyan\"> |-units_9: 32</span>"
      ],
      "text/plain": [
       "<IPython.core.display.HTML object>"
      ]
     },
     "metadata": {},
     "output_type": "display_data"
    },
    {
     "name": "stdout",
     "output_type": "stream",
     "text": [
      "Epoch 1/5\n",
      "250/250 [==============================] - ETA: 0s - loss: 0.6909 - accuracy: 0.84 - ETA: 0s - loss: 0.5073 - accuracy: 0.81 - ETA: 0s - loss: 0.5077 - accuracy: 0.78 - ETA: 0s - loss: 0.4731 - accuracy: 0.79 - ETA: 0s - loss: 0.4612 - accuracy: 0.79 - ETA: 0s - loss: 0.4615 - accuracy: 0.79 - ETA: 0s - loss: 0.4506 - accuracy: 0.80 - ETA: 0s - loss: 0.4412 - accuracy: 0.81 - ETA: 0s - loss: 0.4348 - accuracy: 0.81 - ETA: 0s - loss: 0.4340 - accuracy: 0.81 - ETA: 0s - loss: 0.4299 - accuracy: 0.81 - ETA: 0s - loss: 0.4243 - accuracy: 0.82 - ETA: 0s - loss: 0.4193 - accuracy: 0.82 - ETA: 0s - loss: 0.4162 - accuracy: 0.82 - 1s 4ms/step - loss: 0.4162 - accuracy: 0.8254 - val_loss: 0.3737 - val_accuracy: 0.8470\n",
      "Epoch 2/5\n",
      "250/250 [==============================] - ETA: 0s - loss: 0.2694 - accuracy: 0.90 - ETA: 0s - loss: 0.4089 - accuracy: 0.82 - ETA: 0s - loss: 0.3876 - accuracy: 0.83 - ETA: 0s - loss: 0.3760 - accuracy: 0.83 - ETA: 0s - loss: 0.3859 - accuracy: 0.83 - ETA: 0s - loss: 0.3764 - accuracy: 0.84 - ETA: 0s - loss: 0.3691 - accuracy: 0.84 - ETA: 0s - loss: 0.3683 - accuracy: 0.84 - ETA: 0s - loss: 0.3681 - accuracy: 0.84 - ETA: 0s - loss: 0.3700 - accuracy: 0.84 - ETA: 0s - loss: 0.3712 - accuracy: 0.84 - ETA: 0s - loss: 0.3681 - accuracy: 0.84 - ETA: 0s - loss: 0.3650 - accuracy: 0.84 - ETA: 0s - loss: 0.3637 - accuracy: 0.84 - 1s 3ms/step - loss: 0.3621 - accuracy: 0.8508 - val_loss: 0.3504 - val_accuracy: 0.8595\n",
      "Epoch 3/5\n",
      "250/250 [==============================] - ETA: 0s - loss: 0.4160 - accuracy: 0.78 - ETA: 0s - loss: 0.3599 - accuracy: 0.85 - ETA: 0s - loss: 0.3534 - accuracy: 0.85 - ETA: 0s - loss: 0.3503 - accuracy: 0.85 - ETA: 0s - loss: 0.3497 - accuracy: 0.85 - ETA: 0s - loss: 0.3463 - accuracy: 0.85 - ETA: 0s - loss: 0.3448 - accuracy: 0.85 - ETA: 0s - loss: 0.3391 - accuracy: 0.86 - ETA: 0s - loss: 0.3400 - accuracy: 0.86 - ETA: 0s - loss: 0.3423 - accuracy: 0.85 - ETA: 0s - loss: 0.3448 - accuracy: 0.85 - ETA: 0s - loss: 0.3460 - accuracy: 0.85 - ETA: 0s - loss: 0.3446 - accuracy: 0.85 - ETA: 0s - loss: 0.3462 - accuracy: 0.85 - 1s 3ms/step - loss: 0.3473 - accuracy: 0.8571 - val_loss: 0.3491 - val_accuracy: 0.8630\n",
      "Epoch 4/5\n",
      "250/250 [==============================] - ETA: 0s - loss: 0.2885 - accuracy: 0.93 - ETA: 1s - loss: 0.3776 - accuracy: 0.84 - ETA: 0s - loss: 0.3590 - accuracy: 0.85 - ETA: 0s - loss: 0.3614 - accuracy: 0.86 - ETA: 0s - loss: 0.3638 - accuracy: 0.85 - ETA: 0s - loss: 0.3600 - accuracy: 0.85 - ETA: 0s - loss: 0.3544 - accuracy: 0.85 - ETA: 0s - loss: 0.3504 - accuracy: 0.85 - ETA: 0s - loss: 0.3448 - accuracy: 0.86 - ETA: 0s - loss: 0.3446 - accuracy: 0.86 - ETA: 0s - loss: 0.3452 - accuracy: 0.86 - ETA: 0s - loss: 0.3460 - accuracy: 0.86 - ETA: 0s - loss: 0.3440 - accuracy: 0.86 - ETA: 0s - loss: 0.3479 - accuracy: 0.86 - ETA: 0s - loss: 0.3463 - accuracy: 0.86 - 1s 3ms/step - loss: 0.3475 - accuracy: 0.8614 - val_loss: 0.3618 - val_accuracy: 0.8555\n",
      "Epoch 5/5\n",
      "250/250 [==============================] - ETA: 0s - loss: 0.3263 - accuracy: 0.90 - ETA: 0s - loss: 0.3686 - accuracy: 0.85 - ETA: 0s - loss: 0.3432 - accuracy: 0.86 - ETA: 0s - loss: 0.3382 - accuracy: 0.86 - ETA: 0s - loss: 0.3436 - accuracy: 0.86 - ETA: 0s - loss: 0.3440 - accuracy: 0.86 - ETA: 0s - loss: 0.3435 - accuracy: 0.86 - ETA: 0s - loss: 0.3500 - accuracy: 0.85 - ETA: 0s - loss: 0.3460 - accuracy: 0.86 - ETA: 0s - loss: 0.3459 - accuracy: 0.86 - ETA: 0s - loss: 0.3437 - accuracy: 0.86 - ETA: 0s - loss: 0.3419 - accuracy: 0.86 - ETA: 0s - loss: 0.3389 - accuracy: 0.86 - ETA: 0s - loss: 0.3380 - accuracy: 0.86 - 1s 3ms/step - loss: 0.3380 - accuracy: 0.8634 - val_loss: 0.3682 - val_accuracy: 0.8530\n",
      "Epoch 1/5\n",
      "250/250 [==============================] - ETA: 0s - loss: 0.6919 - accuracy: 0.84 - ETA: 0s - loss: 0.5388 - accuracy: 0.78 - ETA: 0s - loss: 0.4890 - accuracy: 0.80 - ETA: 0s - loss: 0.4786 - accuracy: 0.80 - ETA: 0s - loss: 0.4682 - accuracy: 0.80 - ETA: 0s - loss: 0.4605 - accuracy: 0.80 - ETA: 0s - loss: 0.4504 - accuracy: 0.80 - ETA: 0s - loss: 0.4452 - accuracy: 0.80 - ETA: 0s - loss: 0.4448 - accuracy: 0.80 - ETA: 0s - loss: 0.4384 - accuracy: 0.81 - ETA: 0s - loss: 0.4356 - accuracy: 0.81 - ETA: 0s - loss: 0.4321 - accuracy: 0.81 - ETA: 0s - loss: 0.4340 - accuracy: 0.81 - ETA: 0s - loss: 0.4317 - accuracy: 0.81 - 1s 4ms/step - loss: 0.4305 - accuracy: 0.8161 - val_loss: 0.3664 - val_accuracy: 0.8525\n",
      "Epoch 2/5\n",
      "250/250 [==============================] - ETA: 0s - loss: 0.5482 - accuracy: 0.71 - ETA: 0s - loss: 0.3464 - accuracy: 0.86 - ETA: 0s - loss: 0.3523 - accuracy: 0.85 - ETA: 0s - loss: 0.3602 - accuracy: 0.85 - ETA: 0s - loss: 0.3628 - accuracy: 0.84 - ETA: 0s - loss: 0.3580 - accuracy: 0.85 - ETA: 0s - loss: 0.3581 - accuracy: 0.85 - ETA: 0s - loss: 0.3636 - accuracy: 0.84 - ETA: 0s - loss: 0.3680 - accuracy: 0.84 - ETA: 0s - loss: 0.3713 - accuracy: 0.84 - ETA: 0s - loss: 0.3665 - accuracy: 0.84 - ETA: 0s - loss: 0.3649 - accuracy: 0.84 - ETA: 0s - loss: 0.3654 - accuracy: 0.84 - 1s 3ms/step - loss: 0.3608 - accuracy: 0.8504 - val_loss: 0.3818 - val_accuracy: 0.8595\n",
      "Epoch 3/5\n",
      "250/250 [==============================] - ETA: 0s - loss: 0.4020 - accuracy: 0.84 - ETA: 0s - loss: 0.3715 - accuracy: 0.85 - ETA: 0s - loss: 0.3797 - accuracy: 0.84 - ETA: 0s - loss: 0.3751 - accuracy: 0.84 - ETA: 0s - loss: 0.3605 - accuracy: 0.85 - ETA: 0s - loss: 0.3578 - accuracy: 0.85 - ETA: 0s - loss: 0.3563 - accuracy: 0.85 - ETA: 0s - loss: 0.3568 - accuracy: 0.85 - ETA: 0s - loss: 0.3566 - accuracy: 0.85 - ETA: 0s - loss: 0.3527 - accuracy: 0.85 - ETA: 0s - loss: 0.3533 - accuracy: 0.85 - ETA: 0s - loss: 0.3531 - accuracy: 0.85 - ETA: 0s - loss: 0.3501 - accuracy: 0.85 - ETA: 0s - loss: 0.3484 - accuracy: 0.85 - 1s 3ms/step - loss: 0.3480 - accuracy: 0.8575 - val_loss: 0.3480 - val_accuracy: 0.8575\n",
      "Epoch 4/5\n",
      "250/250 [==============================] - ETA: 0s - loss: 0.4341 - accuracy: 0.81 - ETA: 0s - loss: 0.3773 - accuracy: 0.83 - ETA: 0s - loss: 0.3277 - accuracy: 0.86 - ETA: 0s - loss: 0.3362 - accuracy: 0.86 - ETA: 0s - loss: 0.3361 - accuracy: 0.86 - ETA: 0s - loss: 0.3424 - accuracy: 0.85 - ETA: 0s - loss: 0.3419 - accuracy: 0.85 - ETA: 0s - loss: 0.3393 - accuracy: 0.85 - ETA: 0s - loss: 0.3406 - accuracy: 0.85 - ETA: 0s - loss: 0.3469 - accuracy: 0.85 - ETA: 0s - loss: 0.3509 - accuracy: 0.85 - ETA: 0s - loss: 0.3522 - accuracy: 0.85 - ETA: 0s - loss: 0.3513 - accuracy: 0.85 - 1s 3ms/step - loss: 0.3487 - accuracy: 0.8591 - val_loss: 0.3524 - val_accuracy: 0.8495\n",
      "Epoch 5/5\n",
      "250/250 [==============================] - ETA: 0s - loss: 0.2401 - accuracy: 0.93 - ETA: 0s - loss: 0.3368 - accuracy: 0.86 - ETA: 0s - loss: 0.3352 - accuracy: 0.86 - ETA: 0s - loss: 0.3324 - accuracy: 0.86 - ETA: 0s - loss: 0.3234 - accuracy: 0.86 - ETA: 0s - loss: 0.3312 - accuracy: 0.86 - ETA: 0s - loss: 0.3338 - accuracy: 0.86 - ETA: 0s - loss: 0.3337 - accuracy: 0.86 - ETA: 0s - loss: 0.3346 - accuracy: 0.85 - ETA: 0s - loss: 0.3340 - accuracy: 0.86 - ETA: 0s - loss: 0.3377 - accuracy: 0.86 - ETA: 0s - loss: 0.3343 - accuracy: 0.86 - ETA: 0s - loss: 0.3354 - accuracy: 0.86 - ETA: 0s - loss: 0.3354 - accuracy: 0.86 - ETA: 0s - loss: 0.3376 - accuracy: 0.86 - 1s 3ms/step - loss: 0.3368 - accuracy: 0.8620 - val_loss: 0.3510 - val_accuracy: 0.8535\n",
      "Epoch 1/5\n",
      "250/250 [==============================] - ETA: 0s - loss: 0.6922 - accuracy: 0.78 - ETA: 0s - loss: 0.5479 - accuracy: 0.77 - ETA: 0s - loss: 0.4934 - accuracy: 0.79 - ETA: 0s - loss: 0.4684 - accuracy: 0.80 - ETA: 0s - loss: 0.4673 - accuracy: 0.79 - ETA: 0s - loss: 0.4572 - accuracy: 0.79 - ETA: 0s - loss: 0.4492 - accuracy: 0.79 - ETA: 0s - loss: 0.4425 - accuracy: 0.79 - ETA: 0s - loss: 0.4382 - accuracy: 0.80 - ETA: 0s - loss: 0.4362 - accuracy: 0.80 - ETA: 0s - loss: 0.4275 - accuracy: 0.81 - ETA: 0s - loss: 0.4254 - accuracy: 0.81 - ETA: 0s - loss: 0.4238 - accuracy: 0.81 - ETA: 0s - loss: 0.4190 - accuracy: 0.81 - 1s 4ms/step - loss: 0.4171 - accuracy: 0.8215 - val_loss: 0.3848 - val_accuracy: 0.8460\n",
      "Epoch 2/5\n"
     ]
    },
    {
     "name": "stdout",
     "output_type": "stream",
     "text": [
      "250/250 [==============================] - ETA: 0s - loss: 0.2602 - accuracy: 0.93 - ETA: 0s - loss: 0.3289 - accuracy: 0.87 - ETA: 0s - loss: 0.3567 - accuracy: 0.86 - ETA: 0s - loss: 0.3642 - accuracy: 0.84 - ETA: 0s - loss: 0.3684 - accuracy: 0.84 - ETA: 0s - loss: 0.3788 - accuracy: 0.84 - ETA: 0s - loss: 0.3726 - accuracy: 0.84 - ETA: 0s - loss: 0.3663 - accuracy: 0.85 - ETA: 0s - loss: 0.3695 - accuracy: 0.84 - ETA: 0s - loss: 0.3709 - accuracy: 0.84 - ETA: 0s - loss: 0.3733 - accuracy: 0.84 - ETA: 0s - loss: 0.3719 - accuracy: 0.84 - ETA: 0s - loss: 0.3704 - accuracy: 0.84 - 1s 3ms/step - loss: 0.3698 - accuracy: 0.8490 - val_loss: 0.3510 - val_accuracy: 0.8575\n",
      "Epoch 3/5\n",
      "250/250 [==============================] - ETA: 0s - loss: 0.4981 - accuracy: 0.71 - ETA: 0s - loss: 0.3449 - accuracy: 0.86 - ETA: 0s - loss: 0.3679 - accuracy: 0.85 - ETA: 0s - loss: 0.3384 - accuracy: 0.86 - ETA: 0s - loss: 0.3350 - accuracy: 0.86 - ETA: 0s - loss: 0.3359 - accuracy: 0.86 - ETA: 0s - loss: 0.3344 - accuracy: 0.86 - ETA: 0s - loss: 0.3372 - accuracy: 0.86 - ETA: 0s - loss: 0.3431 - accuracy: 0.86 - ETA: 0s - loss: 0.3447 - accuracy: 0.85 - ETA: 0s - loss: 0.3493 - accuracy: 0.85 - ETA: 0s - loss: 0.3510 - accuracy: 0.85 - 1s 3ms/step - loss: 0.3498 - accuracy: 0.8591 - val_loss: 0.3723 - val_accuracy: 0.8620\n",
      "Epoch 4/5\n",
      "250/250 [==============================] - ETA: 0s - loss: 0.3162 - accuracy: 0.84 - ETA: 0s - loss: 0.3325 - accuracy: 0.86 - ETA: 0s - loss: 0.3297 - accuracy: 0.86 - ETA: 0s - loss: 0.3375 - accuracy: 0.85 - ETA: 0s - loss: 0.3582 - accuracy: 0.84 - ETA: 0s - loss: 0.3462 - accuracy: 0.85 - ETA: 0s - loss: 0.3436 - accuracy: 0.85 - ETA: 0s - loss: 0.3485 - accuracy: 0.85 - ETA: 0s - loss: 0.3518 - accuracy: 0.85 - ETA: 0s - loss: 0.3445 - accuracy: 0.86 - ETA: 0s - loss: 0.3473 - accuracy: 0.85 - ETA: 0s - loss: 0.3452 - accuracy: 0.85 - ETA: 0s - loss: 0.3448 - accuracy: 0.85 - ETA: 0s - loss: 0.3445 - accuracy: 0.85 - ETA: 0s - loss: 0.3449 - accuracy: 0.85 - 1s 4ms/step - loss: 0.3451 - accuracy: 0.8581 - val_loss: 0.3390 - val_accuracy: 0.8660\n",
      "Epoch 5/5\n",
      "250/250 [==============================] - ETA: 0s - loss: 0.2648 - accuracy: 0.90 - ETA: 0s - loss: 0.3077 - accuracy: 0.86 - ETA: 0s - loss: 0.3240 - accuracy: 0.86 - ETA: 0s - loss: 0.3403 - accuracy: 0.86 - ETA: 0s - loss: 0.3402 - accuracy: 0.86 - ETA: 0s - loss: 0.3430 - accuracy: 0.86 - ETA: 0s - loss: 0.3384 - accuracy: 0.86 - ETA: 0s - loss: 0.3387 - accuracy: 0.85 - ETA: 0s - loss: 0.3369 - accuracy: 0.86 - ETA: 0s - loss: 0.3362 - accuracy: 0.86 - ETA: 0s - loss: 0.3391 - accuracy: 0.85 - ETA: 0s - loss: 0.3402 - accuracy: 0.85 - ETA: 0s - loss: 0.3397 - accuracy: 0.85 - ETA: 0s - loss: 0.3405 - accuracy: 0.85 - 1s 3ms/step - loss: 0.3393 - accuracy: 0.8583 - val_loss: 0.3496 - val_accuracy: 0.8570\n"
     ]
    },
    {
     "data": {
      "text/html": [
       "<span style=\"color:#4527A0\"><h1 style=\"font-size:18px\">Trial complete</h1></span>"
      ],
      "text/plain": [
       "<IPython.core.display.HTML object>"
      ]
     },
     "metadata": {},
     "output_type": "display_data"
    },
    {
     "data": {
      "text/html": [
       "<span style=\"color:#4527A0\"><h1 style=\"font-size:18px\">Trial summary</h1></span>"
      ],
      "text/plain": [
       "<IPython.core.display.HTML object>"
      ]
     },
     "metadata": {},
     "output_type": "display_data"
    },
    {
     "data": {
      "text/html": [
       "<span style=\"color:cyan\"> |-Trial ID: d432cbfb2299b7a0a5cf319d29ac11d6</span>"
      ],
      "text/plain": [
       "<IPython.core.display.HTML object>"
      ]
     },
     "metadata": {},
     "output_type": "display_data"
    },
    {
     "data": {
      "text/html": [
       "<span style=\"color:cyan\"> |-Score: 0.8628333210945129</span>"
      ],
      "text/plain": [
       "<IPython.core.display.HTML object>"
      ]
     },
     "metadata": {},
     "output_type": "display_data"
    },
    {
     "data": {
      "text/html": [
       "<span style=\"color:cyan\"> |-Best step: 0</span>"
      ],
      "text/plain": [
       "<IPython.core.display.HTML object>"
      ]
     },
     "metadata": {},
     "output_type": "display_data"
    },
    {
     "data": {
      "text/html": [
       "<span style=\"color:#7E57C2\"><h2 style=\"font-size:16px\">Hyperparameters:</h2></span>"
      ],
      "text/plain": [
       "<IPython.core.display.HTML object>"
      ]
     },
     "metadata": {},
     "output_type": "display_data"
    },
    {
     "data": {
      "text/html": [
       "<span style=\"color:cyan\"> |-learning_rate: 0.001</span>"
      ],
      "text/plain": [
       "<IPython.core.display.HTML object>"
      ]
     },
     "metadata": {},
     "output_type": "display_data"
    },
    {
     "data": {
      "text/html": [
       "<span style=\"color:blue\"> |-num_layers: 12</span>"
      ],
      "text/plain": [
       "<IPython.core.display.HTML object>"
      ]
     },
     "metadata": {},
     "output_type": "display_data"
    },
    {
     "data": {
      "text/html": [
       "<span style=\"color:cyan\"> |-units_0: 288</span>"
      ],
      "text/plain": [
       "<IPython.core.display.HTML object>"
      ]
     },
     "metadata": {},
     "output_type": "display_data"
    },
    {
     "data": {
      "text/html": [
       "<span style=\"color:blue\"> |-units_1: 96</span>"
      ],
      "text/plain": [
       "<IPython.core.display.HTML object>"
      ]
     },
     "metadata": {},
     "output_type": "display_data"
    },
    {
     "data": {
      "text/html": [
       "<span style=\"color:cyan\"> |-units_10: 320</span>"
      ],
      "text/plain": [
       "<IPython.core.display.HTML object>"
      ]
     },
     "metadata": {},
     "output_type": "display_data"
    },
    {
     "data": {
      "text/html": [
       "<span style=\"color:blue\"> |-units_11: 32</span>"
      ],
      "text/plain": [
       "<IPython.core.display.HTML object>"
      ]
     },
     "metadata": {},
     "output_type": "display_data"
    },
    {
     "data": {
      "text/html": [
       "<span style=\"color:cyan\"> |-units_12: 64</span>"
      ],
      "text/plain": [
       "<IPython.core.display.HTML object>"
      ]
     },
     "metadata": {},
     "output_type": "display_data"
    },
    {
     "data": {
      "text/html": [
       "<span style=\"color:blue\"> |-units_13: 352</span>"
      ],
      "text/plain": [
       "<IPython.core.display.HTML object>"
      ]
     },
     "metadata": {},
     "output_type": "display_data"
    },
    {
     "data": {
      "text/html": [
       "<span style=\"color:cyan\"> |-units_14: 384</span>"
      ],
      "text/plain": [
       "<IPython.core.display.HTML object>"
      ]
     },
     "metadata": {},
     "output_type": "display_data"
    },
    {
     "data": {
      "text/html": [
       "<span style=\"color:blue\"> |-units_2: 416</span>"
      ],
      "text/plain": [
       "<IPython.core.display.HTML object>"
      ]
     },
     "metadata": {},
     "output_type": "display_data"
    },
    {
     "data": {
      "text/html": [
       "<span style=\"color:cyan\"> |-units_3: 224</span>"
      ],
      "text/plain": [
       "<IPython.core.display.HTML object>"
      ]
     },
     "metadata": {},
     "output_type": "display_data"
    },
    {
     "data": {
      "text/html": [
       "<span style=\"color:blue\"> |-units_4: 416</span>"
      ],
      "text/plain": [
       "<IPython.core.display.HTML object>"
      ]
     },
     "metadata": {},
     "output_type": "display_data"
    },
    {
     "data": {
      "text/html": [
       "<span style=\"color:cyan\"> |-units_5: 32</span>"
      ],
      "text/plain": [
       "<IPython.core.display.HTML object>"
      ]
     },
     "metadata": {},
     "output_type": "display_data"
    },
    {
     "data": {
      "text/html": [
       "<span style=\"color:blue\"> |-units_6: 64</span>"
      ],
      "text/plain": [
       "<IPython.core.display.HTML object>"
      ]
     },
     "metadata": {},
     "output_type": "display_data"
    },
    {
     "data": {
      "text/html": [
       "<span style=\"color:cyan\"> |-units_7: 64</span>"
      ],
      "text/plain": [
       "<IPython.core.display.HTML object>"
      ]
     },
     "metadata": {},
     "output_type": "display_data"
    },
    {
     "data": {
      "text/html": [
       "<span style=\"color:blue\"> |-units_8: 160</span>"
      ],
      "text/plain": [
       "<IPython.core.display.HTML object>"
      ]
     },
     "metadata": {},
     "output_type": "display_data"
    },
    {
     "data": {
      "text/html": [
       "<span style=\"color:cyan\"> |-units_9: 320</span>"
      ],
      "text/plain": [
       "<IPython.core.display.HTML object>"
      ]
     },
     "metadata": {},
     "output_type": "display_data"
    },
    {
     "name": "stdout",
     "output_type": "stream",
     "text": [
      "Epoch 1/5\n",
      "250/250 [==============================] - ETA: 0s - loss: 0.6927 - accuracy: 0.71 - ETA: 1s - loss: 0.5764 - accuracy: 0.77 - ETA: 1s - loss: 0.5460 - accuracy: 0.77 - ETA: 1s - loss: 0.5268 - accuracy: 0.77 - ETA: 1s - loss: 0.5144 - accuracy: 0.77 - ETA: 1s - loss: 0.4899 - accuracy: 0.77 - ETA: 1s - loss: 0.4954 - accuracy: 0.77 - ETA: 1s - loss: 0.4795 - accuracy: 0.77 - ETA: 1s - loss: 0.4724 - accuracy: 0.78 - ETA: 0s - loss: 0.4675 - accuracy: 0.78 - ETA: 0s - loss: 0.4626 - accuracy: 0.78 - ETA: 0s - loss: 0.4582 - accuracy: 0.78 - ETA: 0s - loss: 0.4515 - accuracy: 0.79 - ETA: 0s - loss: 0.4495 - accuracy: 0.80 - ETA: 0s - loss: 0.4460 - accuracy: 0.80 - ETA: 0s - loss: 0.4408 - accuracy: 0.80 - ETA: 0s - loss: 0.4398 - accuracy: 0.80 - ETA: 0s - loss: 0.4385 - accuracy: 0.80 - ETA: 0s - loss: 0.4379 - accuracy: 0.80 - ETA: 0s - loss: 0.4348 - accuracy: 0.81 - ETA: 0s - loss: 0.4321 - accuracy: 0.81 - ETA: 0s - loss: 0.4284 - accuracy: 0.81 - ETA: 0s - loss: 0.4281 - accuracy: 0.81 - ETA: 0s - loss: 0.4256 - accuracy: 0.81 - ETA: 0s - loss: 0.4266 - accuracy: 0.81 - ETA: 0s - loss: 0.4245 - accuracy: 0.82 - 2s 7ms/step - loss: 0.4233 - accuracy: 0.8209 - val_loss: 0.3596 - val_accuracy: 0.8560\n",
      "Epoch 2/5\n",
      "250/250 [==============================] - ETA: 0s - loss: 0.2325 - accuracy: 0.96 - ETA: 1s - loss: 0.3930 - accuracy: 0.80 - ETA: 1s - loss: 0.3830 - accuracy: 0.83 - ETA: 1s - loss: 0.3668 - accuracy: 0.84 - ETA: 1s - loss: 0.3708 - accuracy: 0.84 - ETA: 1s - loss: 0.3728 - accuracy: 0.83 - ETA: 1s - loss: 0.3573 - accuracy: 0.84 - ETA: 1s - loss: 0.3492 - accuracy: 0.85 - ETA: 0s - loss: 0.3507 - accuracy: 0.85 - ETA: 0s - loss: 0.3565 - accuracy: 0.85 - ETA: 0s - loss: 0.3538 - accuracy: 0.85 - ETA: 0s - loss: 0.3569 - accuracy: 0.85 - ETA: 0s - loss: 0.3569 - accuracy: 0.85 - ETA: 0s - loss: 0.3548 - accuracy: 0.85 - ETA: 0s - loss: 0.3518 - accuracy: 0.85 - ETA: 0s - loss: 0.3514 - accuracy: 0.85 - ETA: 0s - loss: 0.3542 - accuracy: 0.85 - ETA: 0s - loss: 0.3552 - accuracy: 0.85 - ETA: 0s - loss: 0.3568 - accuracy: 0.85 - ETA: 0s - loss: 0.3569 - accuracy: 0.85 - ETA: 0s - loss: 0.3582 - accuracy: 0.85 - ETA: 0s - loss: 0.3604 - accuracy: 0.85 - ETA: 0s - loss: 0.3602 - accuracy: 0.85 - ETA: 0s - loss: 0.3613 - accuracy: 0.85 - ETA: 0s - loss: 0.3607 - accuracy: 0.85 - ETA: 0s - loss: 0.3604 - accuracy: 0.85 - ETA: 0s - loss: 0.3648 - accuracy: 0.84 - 1s 6ms/step - loss: 0.3664 - accuracy: 0.8490 - val_loss: 0.4051 - val_accuracy: 0.8130\n",
      "Epoch 3/5\n",
      "250/250 [==============================] - ETA: 0s - loss: 0.4166 - accuracy: 0.81 - ETA: 1s - loss: 0.4115 - accuracy: 0.80 - ETA: 1s - loss: 0.3895 - accuracy: 0.82 - ETA: 1s - loss: 0.4032 - accuracy: 0.81 - ETA: 1s - loss: 0.3809 - accuracy: 0.83 - ETA: 1s - loss: 0.3959 - accuracy: 0.83 - ETA: 1s - loss: 0.3913 - accuracy: 0.83 - ETA: 1s - loss: 0.3973 - accuracy: 0.83 - ETA: 1s - loss: 0.3924 - accuracy: 0.83 - ETA: 1s - loss: 0.3918 - accuracy: 0.83 - ETA: 1s - loss: 0.3906 - accuracy: 0.83 - ETA: 1s - loss: 0.3881 - accuracy: 0.83 - ETA: 1s - loss: 0.3851 - accuracy: 0.83 - ETA: 0s - loss: 0.3855 - accuracy: 0.83 - ETA: 0s - loss: 0.3842 - accuracy: 0.83 - ETA: 0s - loss: 0.3801 - accuracy: 0.83 - ETA: 0s - loss: 0.3771 - accuracy: 0.84 - ETA: 0s - loss: 0.3735 - accuracy: 0.84 - ETA: 0s - loss: 0.3714 - accuracy: 0.84 - ETA: 0s - loss: 0.3689 - accuracy: 0.84 - ETA: 0s - loss: 0.3683 - accuracy: 0.84 - ETA: 0s - loss: 0.3648 - accuracy: 0.84 - ETA: 0s - loss: 0.3638 - accuracy: 0.84 - ETA: 0s - loss: 0.3626 - accuracy: 0.85 - ETA: 0s - loss: 0.3609 - accuracy: 0.85 - ETA: 0s - loss: 0.3593 - accuracy: 0.85 - ETA: 0s - loss: 0.3593 - accuracy: 0.85 - ETA: 0s - loss: 0.3581 - accuracy: 0.85 - ETA: 0s - loss: 0.3568 - accuracy: 0.85 - ETA: 0s - loss: 0.3571 - accuracy: 0.85 - 2s 7ms/step - loss: 0.3573 - accuracy: 0.8529 - val_loss: 0.3575 - val_accuracy: 0.8600\n",
      "Epoch 4/5\n",
      "250/250 [==============================] - ETA: 0s - loss: 0.4580 - accuracy: 0.87 - ETA: 1s - loss: 0.3328 - accuracy: 0.88 - ETA: 1s - loss: 0.3160 - accuracy: 0.88 - ETA: 1s - loss: 0.3342 - accuracy: 0.87 - ETA: 1s - loss: 0.3281 - accuracy: 0.86 - ETA: 1s - loss: 0.3258 - accuracy: 0.86 - ETA: 1s - loss: 0.3274 - accuracy: 0.86 - ETA: 1s - loss: 0.3322 - accuracy: 0.86 - ETA: 1s - loss: 0.3385 - accuracy: 0.86 - ETA: 1s - loss: 0.3358 - accuracy: 0.86 - ETA: 1s - loss: 0.3367 - accuracy: 0.86 - ETA: 1s - loss: 0.3409 - accuracy: 0.86 - ETA: 1s - loss: 0.3368 - accuracy: 0.86 - ETA: 1s - loss: 0.3384 - accuracy: 0.86 - ETA: 1s - loss: 0.3392 - accuracy: 0.86 - ETA: 0s - loss: 0.3387 - accuracy: 0.86 - ETA: 0s - loss: 0.3366 - accuracy: 0.86 - ETA: 0s - loss: 0.3403 - accuracy: 0.86 - ETA: 0s - loss: 0.3401 - accuracy: 0.86 - ETA: 0s - loss: 0.3409 - accuracy: 0.85 - ETA: 0s - loss: 0.3388 - accuracy: 0.86 - ETA: 0s - loss: 0.3384 - accuracy: 0.86 - ETA: 0s - loss: 0.3388 - accuracy: 0.86 - ETA: 0s - loss: 0.3401 - accuracy: 0.86 - ETA: 0s - loss: 0.3423 - accuracy: 0.86 - ETA: 0s - loss: 0.3396 - accuracy: 0.86 - ETA: 0s - loss: 0.3384 - accuracy: 0.86 - ETA: 0s - loss: 0.3438 - accuracy: 0.85 - ETA: 0s - loss: 0.3469 - accuracy: 0.85 - 2s 6ms/step - loss: 0.3471 - accuracy: 0.8574 - val_loss: 0.3424 - val_accuracy: 0.8570\n",
      "Epoch 5/5\n",
      "250/250 [==============================] - ETA: 0s - loss: 0.3842 - accuracy: 0.81 - ETA: 1s - loss: 0.3151 - accuracy: 0.87 - ETA: 1s - loss: 0.3188 - accuracy: 0.86 - ETA: 1s - loss: 0.3219 - accuracy: 0.86 - ETA: 0s - loss: 0.3291 - accuracy: 0.86 - ETA: 0s - loss: 0.3275 - accuracy: 0.86 - ETA: 0s - loss: 0.3272 - accuracy: 0.86 - ETA: 0s - loss: 0.3263 - accuracy: 0.86 - ETA: 0s - loss: 0.3395 - accuracy: 0.86 - ETA: 0s - loss: 0.3410 - accuracy: 0.86 - ETA: 0s - loss: 0.3468 - accuracy: 0.86 - ETA: 0s - loss: 0.3487 - accuracy: 0.86 - ETA: 0s - loss: 0.3454 - accuracy: 0.86 - ETA: 0s - loss: 0.3430 - accuracy: 0.86 - ETA: 0s - loss: 0.3419 - accuracy: 0.86 - ETA: 0s - loss: 0.3447 - accuracy: 0.86 - ETA: 0s - loss: 0.3467 - accuracy: 0.85 - ETA: 0s - loss: 0.3492 - accuracy: 0.85 - ETA: 0s - loss: 0.3514 - accuracy: 0.85 - ETA: 0s - loss: 0.3526 - accuracy: 0.85 - ETA: 0s - loss: 0.3481 - accuracy: 0.85 - ETA: 0s - loss: 0.3479 - accuracy: 0.85 - ETA: 0s - loss: 0.3482 - accuracy: 0.85 - ETA: 0s - loss: 0.3480 - accuracy: 0.85 - 1s 5ms/step - loss: 0.3472 - accuracy: 0.8576 - val_loss: 0.3543 - val_accuracy: 0.8490\n",
      "Epoch 1/5\n",
      "250/250 [==============================] - ETA: 0s - loss: 0.6944 - accuracy: 0.25 - ETA: 1s - loss: 0.5755 - accuracy: 0.74 - ETA: 1s - loss: 0.5339 - accuracy: 0.76 - ETA: 1s - loss: 0.5127 - accuracy: 0.78 - ETA: 1s - loss: 0.4923 - accuracy: 0.79 - ETA: 0s - loss: 0.4830 - accuracy: 0.79 - ETA: 0s - loss: 0.4773 - accuracy: 0.79 - ETA: 0s - loss: 0.4659 - accuracy: 0.79 - ETA: 0s - loss: 0.4608 - accuracy: 0.79 - ETA: 0s - loss: 0.4580 - accuracy: 0.79 - ETA: 0s - loss: 0.4591 - accuracy: 0.79 - ETA: 0s - loss: 0.4540 - accuracy: 0.80 - ETA: 0s - loss: 0.4496 - accuracy: 0.80 - ETA: 0s - loss: 0.4477 - accuracy: 0.80 - ETA: 0s - loss: 0.4431 - accuracy: 0.80 - ETA: 0s - loss: 0.4409 - accuracy: 0.80 - ETA: 0s - loss: 0.4368 - accuracy: 0.81 - ETA: 0s - loss: 0.4364 - accuracy: 0.81 - ETA: 0s - loss: 0.4349 - accuracy: 0.81 - ETA: 0s - loss: 0.4293 - accuracy: 0.81 - ETA: 0s - loss: 0.4275 - accuracy: 0.81 - ETA: 0s - loss: 0.4263 - accuracy: 0.81 - ETA: 0s - loss: 0.4250 - accuracy: 0.81 - ETA: 0s - loss: 0.4227 - accuracy: 0.81 - ETA: 0s - loss: 0.4217 - accuracy: 0.82 - 2s 6ms/step - loss: 0.4212 - accuracy: 0.8219 - val_loss: 0.3642 - val_accuracy: 0.8555\n",
      "Epoch 2/5\n"
     ]
    },
    {
     "name": "stdout",
     "output_type": "stream",
     "text": [
      "250/250 [==============================] - ETA: 0s - loss: 0.5233 - accuracy: 0.68 - ETA: 1s - loss: 0.3945 - accuracy: 0.82 - ETA: 1s - loss: 0.3623 - accuracy: 0.84 - ETA: 1s - loss: 0.3686 - accuracy: 0.84 - ETA: 1s - loss: 0.3818 - accuracy: 0.83 - ETA: 1s - loss: 0.3810 - accuracy: 0.83 - ETA: 0s - loss: 0.3737 - accuracy: 0.83 - ETA: 0s - loss: 0.3686 - accuracy: 0.84 - ETA: 0s - loss: 0.3698 - accuracy: 0.84 - ETA: 0s - loss: 0.3725 - accuracy: 0.84 - ETA: 0s - loss: 0.3729 - accuracy: 0.84 - ETA: 0s - loss: 0.3735 - accuracy: 0.84 - ETA: 0s - loss: 0.3703 - accuracy: 0.84 - ETA: 0s - loss: 0.3765 - accuracy: 0.84 - ETA: 0s - loss: 0.3766 - accuracy: 0.83 - ETA: 0s - loss: 0.3772 - accuracy: 0.84 - ETA: 0s - loss: 0.3804 - accuracy: 0.83 - ETA: 0s - loss: 0.3763 - accuracy: 0.84 - ETA: 0s - loss: 0.3764 - accuracy: 0.84 - ETA: 0s - loss: 0.3747 - accuracy: 0.84 - ETA: 0s - loss: 0.3737 - accuracy: 0.84 - ETA: 0s - loss: 0.3721 - accuracy: 0.84 - ETA: 0s - loss: 0.3714 - accuracy: 0.84 - ETA: 0s - loss: 0.3728 - accuracy: 0.84 - 1s 5ms/step - loss: 0.3742 - accuracy: 0.8419 - val_loss: 0.3789 - val_accuracy: 0.8405\n",
      "Epoch 3/5\n",
      "250/250 [==============================] - ETA: 0s - loss: 0.2524 - accuracy: 0.93 - ETA: 0s - loss: 0.3735 - accuracy: 0.84 - ETA: 0s - loss: 0.3582 - accuracy: 0.86 - ETA: 0s - loss: 0.3631 - accuracy: 0.85 - ETA: 0s - loss: 0.3529 - accuracy: 0.86 - ETA: 0s - loss: 0.3534 - accuracy: 0.86 - ETA: 0s - loss: 0.3568 - accuracy: 0.85 - ETA: 0s - loss: 0.3458 - accuracy: 0.86 - ETA: 0s - loss: 0.3522 - accuracy: 0.86 - ETA: 0s - loss: 0.3534 - accuracy: 0.86 - ETA: 0s - loss: 0.3561 - accuracy: 0.86 - ETA: 0s - loss: 0.3576 - accuracy: 0.86 - ETA: 0s - loss: 0.3636 - accuracy: 0.85 - ETA: 0s - loss: 0.3604 - accuracy: 0.85 - ETA: 0s - loss: 0.3625 - accuracy: 0.85 - ETA: 0s - loss: 0.3639 - accuracy: 0.85 - ETA: 0s - loss: 0.3627 - accuracy: 0.85 - ETA: 0s - loss: 0.3588 - accuracy: 0.85 - ETA: 0s - loss: 0.3604 - accuracy: 0.85 - ETA: 0s - loss: 0.3603 - accuracy: 0.85 - ETA: 0s - loss: 0.3608 - accuracy: 0.85 - ETA: 0s - loss: 0.3622 - accuracy: 0.85 - ETA: 0s - loss: 0.3624 - accuracy: 0.85 - 1s 5ms/step - loss: 0.3615 - accuracy: 0.8533 - val_loss: 0.3477 - val_accuracy: 0.8520\n",
      "Epoch 4/5\n",
      "250/250 [==============================] - ETA: 0s - loss: 0.2614 - accuracy: 0.87 - ETA: 0s - loss: 0.3571 - accuracy: 0.82 - ETA: 0s - loss: 0.3640 - accuracy: 0.82 - ETA: 0s - loss: 0.3483 - accuracy: 0.83 - ETA: 0s - loss: 0.3550 - accuracy: 0.83 - ETA: 0s - loss: 0.3621 - accuracy: 0.83 - ETA: 0s - loss: 0.3611 - accuracy: 0.83 - ETA: 0s - loss: 0.3623 - accuracy: 0.84 - ETA: 0s - loss: 0.3641 - accuracy: 0.84 - ETA: 0s - loss: 0.3599 - accuracy: 0.84 - ETA: 0s - loss: 0.3624 - accuracy: 0.84 - ETA: 0s - loss: 0.3604 - accuracy: 0.84 - ETA: 0s - loss: 0.3644 - accuracy: 0.84 - ETA: 0s - loss: 0.3604 - accuracy: 0.84 - ETA: 0s - loss: 0.3578 - accuracy: 0.85 - ETA: 0s - loss: 0.3544 - accuracy: 0.85 - ETA: 0s - loss: 0.3535 - accuracy: 0.85 - ETA: 0s - loss: 0.3542 - accuracy: 0.85 - ETA: 0s - loss: 0.3501 - accuracy: 0.85 - ETA: 0s - loss: 0.3466 - accuracy: 0.85 - ETA: 0s - loss: 0.3470 - accuracy: 0.85 - ETA: 0s - loss: 0.3456 - accuracy: 0.85 - 1s 5ms/step - loss: 0.3489 - accuracy: 0.8545 - val_loss: 0.3533 - val_accuracy: 0.8600\n",
      "Epoch 5/5\n",
      "250/250 [==============================] - ETA: 0s - loss: 0.1858 - accuracy: 0.96 - ETA: 1s - loss: 0.3333 - accuracy: 0.88 - ETA: 1s - loss: 0.3229 - accuracy: 0.87 - ETA: 0s - loss: 0.3129 - accuracy: 0.87 - ETA: 0s - loss: 0.3077 - accuracy: 0.87 - ETA: 0s - loss: 0.3165 - accuracy: 0.87 - ETA: 0s - loss: 0.3210 - accuracy: 0.87 - ETA: 0s - loss: 0.3224 - accuracy: 0.86 - ETA: 0s - loss: 0.3261 - accuracy: 0.86 - ETA: 0s - loss: 0.3269 - accuracy: 0.86 - ETA: 0s - loss: 0.3281 - accuracy: 0.86 - ETA: 0s - loss: 0.3322 - accuracy: 0.86 - ETA: 0s - loss: 0.3317 - accuracy: 0.86 - ETA: 0s - loss: 0.3345 - accuracy: 0.86 - ETA: 0s - loss: 0.3329 - accuracy: 0.86 - ETA: 0s - loss: 0.3289 - accuracy: 0.86 - ETA: 0s - loss: 0.3323 - accuracy: 0.86 - ETA: 0s - loss: 0.3350 - accuracy: 0.86 - ETA: 0s - loss: 0.3370 - accuracy: 0.86 - ETA: 0s - loss: 0.3395 - accuracy: 0.86 - ETA: 0s - loss: 0.3396 - accuracy: 0.85 - ETA: 0s - loss: 0.3393 - accuracy: 0.86 - ETA: 0s - loss: 0.3413 - accuracy: 0.85 - 1s 5ms/step - loss: 0.3413 - accuracy: 0.8590 - val_loss: 0.3418 - val_accuracy: 0.8575\n",
      "Epoch 1/5\n",
      "250/250 [==============================] - ETA: 0s - loss: 0.6903 - accuracy: 0.84 - ETA: 1s - loss: 0.5665 - accuracy: 0.79 - ETA: 1s - loss: 0.4912 - accuracy: 0.81 - ETA: 1s - loss: 0.4858 - accuracy: 0.80 - ETA: 0s - loss: 0.4914 - accuracy: 0.79 - ETA: 0s - loss: 0.4839 - accuracy: 0.79 - ETA: 0s - loss: 0.4771 - accuracy: 0.79 - ETA: 0s - loss: 0.4736 - accuracy: 0.80 - ETA: 0s - loss: 0.4675 - accuracy: 0.80 - ETA: 0s - loss: 0.4620 - accuracy: 0.80 - ETA: 0s - loss: 0.4637 - accuracy: 0.80 - ETA: 0s - loss: 0.4593 - accuracy: 0.81 - ETA: 0s - loss: 0.4632 - accuracy: 0.80 - ETA: 0s - loss: 0.4602 - accuracy: 0.80 - ETA: 0s - loss: 0.4584 - accuracy: 0.80 - ETA: 0s - loss: 0.4567 - accuracy: 0.80 - ETA: 0s - loss: 0.4481 - accuracy: 0.81 - ETA: 0s - loss: 0.4459 - accuracy: 0.81 - ETA: 0s - loss: 0.4416 - accuracy: 0.81 - ETA: 0s - loss: 0.4403 - accuracy: 0.81 - ETA: 0s - loss: 0.4387 - accuracy: 0.81 - ETA: 0s - loss: 0.4344 - accuracy: 0.81 - ETA: 0s - loss: 0.4304 - accuracy: 0.81 - 1s 6ms/step - loss: 0.4287 - accuracy: 0.8191 - val_loss: 0.3659 - val_accuracy: 0.8505\n",
      "Epoch 2/5\n",
      "250/250 [==============================] - ETA: 0s - loss: 0.5738 - accuracy: 0.81 - ETA: 0s - loss: 0.3797 - accuracy: 0.84 - ETA: 0s - loss: 0.3636 - accuracy: 0.84 - ETA: 0s - loss: 0.3699 - accuracy: 0.84 - ETA: 0s - loss: 0.3610 - accuracy: 0.84 - ETA: 0s - loss: 0.3610 - accuracy: 0.84 - ETA: 0s - loss: 0.3656 - accuracy: 0.84 - ETA: 0s - loss: 0.3767 - accuracy: 0.84 - ETA: 0s - loss: 0.3775 - accuracy: 0.84 - ETA: 0s - loss: 0.3831 - accuracy: 0.84 - ETA: 0s - loss: 0.3797 - accuracy: 0.84 - ETA: 0s - loss: 0.3787 - accuracy: 0.84 - ETA: 0s - loss: 0.3815 - accuracy: 0.84 - ETA: 0s - loss: 0.3819 - accuracy: 0.84 - ETA: 0s - loss: 0.3801 - accuracy: 0.84 - ETA: 0s - loss: 0.3791 - accuracy: 0.84 - ETA: 0s - loss: 0.3791 - accuracy: 0.84 - ETA: 0s - loss: 0.3805 - accuracy: 0.84 - ETA: 0s - loss: 0.3773 - accuracy: 0.84 - ETA: 0s - loss: 0.3741 - accuracy: 0.84 - ETA: 0s - loss: 0.3743 - accuracy: 0.84 - ETA: 0s - loss: 0.3725 - accuracy: 0.84 - ETA: 0s - loss: 0.3731 - accuracy: 0.84 - 1s 5ms/step - loss: 0.3734 - accuracy: 0.8476 - val_loss: 0.3411 - val_accuracy: 0.8570\n",
      "Epoch 3/5\n",
      "250/250 [==============================] - ETA: 0s - loss: 0.2476 - accuracy: 0.90 - ETA: 1s - loss: 0.3422 - accuracy: 0.86 - ETA: 1s - loss: 0.3623 - accuracy: 0.85 - ETA: 1s - loss: 0.3484 - accuracy: 0.86 - ETA: 1s - loss: 0.3478 - accuracy: 0.86 - ETA: 1s - loss: 0.3480 - accuracy: 0.86 - ETA: 0s - loss: 0.3468 - accuracy: 0.86 - ETA: 0s - loss: 0.3441 - accuracy: 0.86 - ETA: 0s - loss: 0.3545 - accuracy: 0.85 - ETA: 0s - loss: 0.3551 - accuracy: 0.85 - ETA: 0s - loss: 0.3598 - accuracy: 0.85 - ETA: 0s - loss: 0.3644 - accuracy: 0.85 - ETA: 0s - loss: 0.3686 - accuracy: 0.85 - ETA: 0s - loss: 0.3681 - accuracy: 0.85 - ETA: 0s - loss: 0.3642 - accuracy: 0.85 - ETA: 0s - loss: 0.3617 - accuracy: 0.85 - ETA: 0s - loss: 0.3609 - accuracy: 0.85 - ETA: 0s - loss: 0.3611 - accuracy: 0.85 - ETA: 0s - loss: 0.3576 - accuracy: 0.85 - ETA: 0s - loss: 0.3592 - accuracy: 0.85 - ETA: 0s - loss: 0.3593 - accuracy: 0.85 - ETA: 0s - loss: 0.3589 - accuracy: 0.85 - ETA: 0s - loss: 0.3597 - accuracy: 0.85 - ETA: 0s - loss: 0.3572 - accuracy: 0.85 - ETA: 0s - loss: 0.3569 - accuracy: 0.85 - 1s 6ms/step - loss: 0.3560 - accuracy: 0.8589 - val_loss: 0.3442 - val_accuracy: 0.8580\n",
      "Epoch 4/5\n"
     ]
    },
    {
     "name": "stdout",
     "output_type": "stream",
     "text": [
      "250/250 [==============================] - ETA: 0s - loss: 0.2581 - accuracy: 0.87 - ETA: 1s - loss: 0.3230 - accuracy: 0.87 - ETA: 1s - loss: 0.3452 - accuracy: 0.86 - ETA: 1s - loss: 0.3389 - accuracy: 0.86 - ETA: 1s - loss: 0.3296 - accuracy: 0.87 - ETA: 1s - loss: 0.3340 - accuracy: 0.86 - ETA: 0s - loss: 0.3365 - accuracy: 0.86 - ETA: 0s - loss: 0.3468 - accuracy: 0.85 - ETA: 0s - loss: 0.3487 - accuracy: 0.85 - ETA: 0s - loss: 0.3536 - accuracy: 0.85 - ETA: 0s - loss: 0.3495 - accuracy: 0.85 - ETA: 0s - loss: 0.3494 - accuracy: 0.85 - ETA: 0s - loss: 0.3446 - accuracy: 0.86 - ETA: 0s - loss: 0.3473 - accuracy: 0.86 - ETA: 0s - loss: 0.3459 - accuracy: 0.86 - ETA: 0s - loss: 0.3432 - accuracy: 0.86 - ETA: 0s - loss: 0.3462 - accuracy: 0.86 - ETA: 0s - loss: 0.3475 - accuracy: 0.85 - ETA: 0s - loss: 0.3494 - accuracy: 0.85 - ETA: 0s - loss: 0.3479 - accuracy: 0.85 - ETA: 0s - loss: 0.3457 - accuracy: 0.85 - ETA: 0s - loss: 0.3447 - accuracy: 0.86 - ETA: 0s - loss: 0.3433 - accuracy: 0.86 - ETA: 0s - loss: 0.3445 - accuracy: 0.86 - 1s 5ms/step - loss: 0.3436 - accuracy: 0.8610 - val_loss: 0.3441 - val_accuracy: 0.8520\n",
      "Epoch 5/5\n",
      "250/250 [==============================] - ETA: 0s - loss: 0.2696 - accuracy: 0.87 - ETA: 1s - loss: 0.3402 - accuracy: 0.85 - ETA: 1s - loss: 0.3322 - accuracy: 0.86 - ETA: 0s - loss: 0.3179 - accuracy: 0.87 - ETA: 0s - loss: 0.3238 - accuracy: 0.86 - ETA: 0s - loss: 0.3244 - accuracy: 0.86 - ETA: 0s - loss: 0.3284 - accuracy: 0.86 - ETA: 0s - loss: 0.3241 - accuracy: 0.86 - ETA: 0s - loss: 0.3310 - accuracy: 0.86 - ETA: 0s - loss: 0.3318 - accuracy: 0.86 - ETA: 0s - loss: 0.3317 - accuracy: 0.86 - ETA: 0s - loss: 0.3308 - accuracy: 0.86 - ETA: 0s - loss: 0.3342 - accuracy: 0.86 - ETA: 0s - loss: 0.3350 - accuracy: 0.86 - ETA: 0s - loss: 0.3353 - accuracy: 0.86 - ETA: 0s - loss: 0.3363 - accuracy: 0.86 - ETA: 0s - loss: 0.3344 - accuracy: 0.86 - ETA: 0s - loss: 0.3360 - accuracy: 0.86 - ETA: 0s - loss: 0.3341 - accuracy: 0.86 - ETA: 0s - loss: 0.3338 - accuracy: 0.86 - ETA: 0s - loss: 0.3349 - accuracy: 0.86 - ETA: 0s - loss: 0.3369 - accuracy: 0.86 - ETA: 0s - loss: 0.3367 - accuracy: 0.86 - 1s 5ms/step - loss: 0.3395 - accuracy: 0.8612 - val_loss: 0.3532 - val_accuracy: 0.8610\n"
     ]
    },
    {
     "data": {
      "text/html": [
       "<span style=\"color:#4527A0\"><h1 style=\"font-size:18px\">Trial complete</h1></span>"
      ],
      "text/plain": [
       "<IPython.core.display.HTML object>"
      ]
     },
     "metadata": {},
     "output_type": "display_data"
    },
    {
     "data": {
      "text/html": [
       "<span style=\"color:#4527A0\"><h1 style=\"font-size:18px\">Trial summary</h1></span>"
      ],
      "text/plain": [
       "<IPython.core.display.HTML object>"
      ]
     },
     "metadata": {},
     "output_type": "display_data"
    },
    {
     "data": {
      "text/html": [
       "<span style=\"color:cyan\"> |-Trial ID: 96a77fa26765de43e3b854690cba5f00</span>"
      ],
      "text/plain": [
       "<IPython.core.display.HTML object>"
      ]
     },
     "metadata": {},
     "output_type": "display_data"
    },
    {
     "data": {
      "text/html": [
       "<span style=\"color:cyan\"> |-Score: 0.8603333433469137</span>"
      ],
      "text/plain": [
       "<IPython.core.display.HTML object>"
      ]
     },
     "metadata": {},
     "output_type": "display_data"
    },
    {
     "data": {
      "text/html": [
       "<span style=\"color:cyan\"> |-Best step: 0</span>"
      ],
      "text/plain": [
       "<IPython.core.display.HTML object>"
      ]
     },
     "metadata": {},
     "output_type": "display_data"
    },
    {
     "data": {
      "text/html": [
       "<span style=\"color:#7E57C2\"><h2 style=\"font-size:16px\">Hyperparameters:</h2></span>"
      ],
      "text/plain": [
       "<IPython.core.display.HTML object>"
      ]
     },
     "metadata": {},
     "output_type": "display_data"
    },
    {
     "data": {
      "text/html": [
       "<span style=\"color:cyan\"> |-learning_rate: 0.001</span>"
      ],
      "text/plain": [
       "<IPython.core.display.HTML object>"
      ]
     },
     "metadata": {},
     "output_type": "display_data"
    },
    {
     "data": {
      "text/html": [
       "<span style=\"color:blue\"> |-num_layers: 11</span>"
      ],
      "text/plain": [
       "<IPython.core.display.HTML object>"
      ]
     },
     "metadata": {},
     "output_type": "display_data"
    },
    {
     "data": {
      "text/html": [
       "<span style=\"color:cyan\"> |-units_0: 352</span>"
      ],
      "text/plain": [
       "<IPython.core.display.HTML object>"
      ]
     },
     "metadata": {},
     "output_type": "display_data"
    },
    {
     "data": {
      "text/html": [
       "<span style=\"color:blue\"> |-units_1: 96</span>"
      ],
      "text/plain": [
       "<IPython.core.display.HTML object>"
      ]
     },
     "metadata": {},
     "output_type": "display_data"
    },
    {
     "data": {
      "text/html": [
       "<span style=\"color:cyan\"> |-units_10: 192</span>"
      ],
      "text/plain": [
       "<IPython.core.display.HTML object>"
      ]
     },
     "metadata": {},
     "output_type": "display_data"
    },
    {
     "data": {
      "text/html": [
       "<span style=\"color:blue\"> |-units_11: 320</span>"
      ],
      "text/plain": [
       "<IPython.core.display.HTML object>"
      ]
     },
     "metadata": {},
     "output_type": "display_data"
    },
    {
     "data": {
      "text/html": [
       "<span style=\"color:cyan\"> |-units_12: 448</span>"
      ],
      "text/plain": [
       "<IPython.core.display.HTML object>"
      ]
     },
     "metadata": {},
     "output_type": "display_data"
    },
    {
     "data": {
      "text/html": [
       "<span style=\"color:blue\"> |-units_13: 224</span>"
      ],
      "text/plain": [
       "<IPython.core.display.HTML object>"
      ]
     },
     "metadata": {},
     "output_type": "display_data"
    },
    {
     "data": {
      "text/html": [
       "<span style=\"color:cyan\"> |-units_14: 448</span>"
      ],
      "text/plain": [
       "<IPython.core.display.HTML object>"
      ]
     },
     "metadata": {},
     "output_type": "display_data"
    },
    {
     "data": {
      "text/html": [
       "<span style=\"color:blue\"> |-units_2: 96</span>"
      ],
      "text/plain": [
       "<IPython.core.display.HTML object>"
      ]
     },
     "metadata": {},
     "output_type": "display_data"
    },
    {
     "data": {
      "text/html": [
       "<span style=\"color:cyan\"> |-units_3: 320</span>"
      ],
      "text/plain": [
       "<IPython.core.display.HTML object>"
      ]
     },
     "metadata": {},
     "output_type": "display_data"
    },
    {
     "data": {
      "text/html": [
       "<span style=\"color:blue\"> |-units_4: 448</span>"
      ],
      "text/plain": [
       "<IPython.core.display.HTML object>"
      ]
     },
     "metadata": {},
     "output_type": "display_data"
    },
    {
     "data": {
      "text/html": [
       "<span style=\"color:cyan\"> |-units_5: 448</span>"
      ],
      "text/plain": [
       "<IPython.core.display.HTML object>"
      ]
     },
     "metadata": {},
     "output_type": "display_data"
    },
    {
     "data": {
      "text/html": [
       "<span style=\"color:blue\"> |-units_6: 448</span>"
      ],
      "text/plain": [
       "<IPython.core.display.HTML object>"
      ]
     },
     "metadata": {},
     "output_type": "display_data"
    },
    {
     "data": {
      "text/html": [
       "<span style=\"color:cyan\"> |-units_7: 448</span>"
      ],
      "text/plain": [
       "<IPython.core.display.HTML object>"
      ]
     },
     "metadata": {},
     "output_type": "display_data"
    },
    {
     "data": {
      "text/html": [
       "<span style=\"color:blue\"> |-units_8: 160</span>"
      ],
      "text/plain": [
       "<IPython.core.display.HTML object>"
      ]
     },
     "metadata": {},
     "output_type": "display_data"
    },
    {
     "data": {
      "text/html": [
       "<span style=\"color:cyan\"> |-units_9: 416</span>"
      ],
      "text/plain": [
       "<IPython.core.display.HTML object>"
      ]
     },
     "metadata": {},
     "output_type": "display_data"
    },
    {
     "name": "stdout",
     "output_type": "stream",
     "text": [
      "INFO:tensorflow:Oracle triggered exit\n"
     ]
    }
   ],
   "source": [
    "tuner.search(X_train, y_train,\n",
    "             epochs=5,\n",
    "             validation_data=(X_test, y_test))"
   ]
  },
  {
   "cell_type": "code",
   "execution_count": 55,
   "metadata": {},
   "outputs": [
    {
     "data": {
      "text/plain": [
       "<bound method BaseTuner.get_best_hyperparameters of <kerastuner.tuners.randomsearch.RandomSearch object at 0x0000017047D7EB80>>"
      ]
     },
     "execution_count": 55,
     "metadata": {},
     "output_type": "execute_result"
    }
   ],
   "source": [
    "tuner.get_best_hyperparameters"
   ]
  },
  {
   "cell_type": "code",
   "execution_count": 56,
   "metadata": {},
   "outputs": [
    {
     "data": {
      "text/plain": [
       "[<tensorflow.python.keras.engine.sequential.Sequential at 0x1704a345190>]"
      ]
     },
     "execution_count": 56,
     "metadata": {},
     "output_type": "execute_result"
    }
   ],
   "source": [
    "tuner.get_best_models()"
   ]
  },
  {
   "cell_type": "code",
   "execution_count": null,
   "metadata": {},
   "outputs": [],
   "source": []
  }
 ],
 "metadata": {
  "kernelspec": {
   "display_name": "Python 3",
   "language": "python",
   "name": "python3"
  },
  "language_info": {
   "codemirror_mode": {
    "name": "ipython",
    "version": 3
   },
   "file_extension": ".py",
   "mimetype": "text/x-python",
   "name": "python",
   "nbconvert_exporter": "python",
   "pygments_lexer": "ipython3",
   "version": "3.8.3"
  }
 },
 "nbformat": 4,
 "nbformat_minor": 4
}
